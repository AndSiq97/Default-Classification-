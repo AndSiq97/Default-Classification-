{
  "cells": [
    {
      "cell_type": "code",
      "execution_count": 139,
      "metadata": {
        "id": "xvq4Nsws1N9z"
      },
      "outputs": [],
      "source": [
        "# Uncomment this cell, Run this, comment cell, restart runtime and run everything else\n",
        "# !pip install --upgrade matplotlib"
      ]
    },
    {
      "cell_type": "code",
      "execution_count": 140,
      "metadata": {
        "id": "4wIGAKMSLztP"
      },
      "outputs": [],
      "source": [
        "# Import Libraries\n",
        "import pandas as pd\n",
        "import numpy as np\n",
        "import matplotlib.pyplot as plt\n",
        "import matplotlib \n",
        "import seaborn as sns\n",
        "import os\n",
        "from sklearn.model_selection import train_test_split \n",
        "from sklearn.metrics import accuracy_score, f1_score\n",
        "from sklearn.preprocessing import LabelEncoder\n",
        "from sklearn.feature_selection import chi2, f_classif, mutual_info_classif, SelectKBest\n",
        "from sklearn.model_selection import RepeatedStratifiedKFold\n",
        "from sklearn.model_selection import GridSearchCV\n",
        "import joblib\n",
        "import sys\n",
        "sys.modules['sklearn.externals.joblib'] = joblib\n",
        "from mlxtend.feature_selection import ExhaustiveFeatureSelector\n",
        "from sklearn.linear_model import LogisticRegression\n",
        "from sklearn.tree import DecisionTreeClassifier\n",
        "from sklearn import svm\n",
        "from sklearn.neighbors import KNeighborsClassifier\n",
        "from sklearn.naive_bayes import GaussianNB\n",
        "from sklearn.ensemble import RandomForestClassifier\n",
        "import xgboost as xgb\n",
        "from sklearn import metrics\n",
        "from sklearn.metrics import classification_report"
      ]
    },
    {
      "cell_type": "code",
      "execution_count": 141,
      "metadata": {
        "colab": {
          "base_uri": "https://localhost:8080/"
        },
        "id": "1qXA52S7w1vP",
        "outputId": "da5c799b-b842-4340-f728-8d78087689ee"
      },
      "outputs": [
        {
          "output_type": "stream",
          "name": "stdout",
          "text": [
            "Drive already mounted at /content/gdrive; to attempt to forcibly remount, call drive.mount(\"/content/gdrive\", force_remount=True).\n",
            "/content/gdrive/My Drive/Kaggle\n"
          ]
        }
      ],
      "source": [
        "from google.colab import drive\n",
        "drive.mount('/content/gdrive')\n",
        "\n",
        "os.environ['KAGGLE_CONFIG_DIR'] = \"/content/gdrive/My Drive/Kaggle\"\n",
        "# /content/gdrive/My Drive/Kaggle is the path where kaggle.json is present in the Google Drive\n",
        "\n",
        "#changing the working directory\n",
        "%cd /content/gdrive/My Drive/Kaggle\n",
        "#Check the present working directory using pwd command"
      ]
    },
    {
      "cell_type": "markdown",
      "metadata": {
        "id": "zi6O0hxZMP85"
      },
      "source": [
        "**Load Data**"
      ]
    },
    {
      "cell_type": "code",
      "execution_count": 142,
      "metadata": {
        "id": "Rsy3Xx9CLztU"
      },
      "outputs": [],
      "source": [
        "# Reading in Financial and Default Data csv files\n",
        "financial_data = pd.read_csv(\"/content/gdrive/MyDrive/Default_Classification /1_Financial Data.csv\")\n",
        "default_data = pd.read_csv(\"/content/gdrive/MyDrive/Default_Classification /2_Default Data.csv\")"
      ]
    },
    {
      "cell_type": "code",
      "execution_count": 143,
      "metadata": {
        "colab": {
          "base_uri": "https://localhost:8080/",
          "height": 206
        },
        "id": "6vhZpVRjZZNk",
        "outputId": "7a9618fc-3c51-4ea1-816d-a1a230988e09"
      },
      "outputs": [
        {
          "output_type": "execute_result",
          "data": {
            "text/plain": [
              "   LOAN_ID  PD_RISK_RATING                X1        X2        X3           X4  \\\n",
              "0  ZZZ0001               2               C&I  0.113703  0.795355  1156188.606   \n",
              "1  ZZZ0002               4     CRE Permanent  0.622299  0.364232          NaN   \n",
              "2  ZZZ0003               2  CRE Construction  0.609275  0.821238  1046682.630   \n",
              "3  ZZZ0004               1  CRE Construction  0.623379  0.613073  1085325.470   \n",
              "4  ZZZ0005               2  CRE Construction  0.860915  0.709228  1051378.694   \n",
              "\n",
              "         X5        X6          X7        X8         X9       X10       X11  \\\n",
              "0  0.090963  0.963879  120.606137  0.966454  -6.884990  0.195105  1.093855   \n",
              "1  0.497840  0.606212  109.621719  0.440733 -10.010214  1.600637  1.146797   \n",
              "2  0.487420  0.296746   94.520306  0.007491  10.726384  0.434792  1.050520   \n",
              "3  0.498704  0.641079   94.933871  0.910976   0.476127  0.341299  1.011261   \n",
              "4  0.688732  0.339430  106.331848  0.939269   0.251195  0.967834  1.002241   \n",
              "\n",
              "        X12 X13   X14  X15  \n",
              "0  0.890361   C  T982  Yes  \n",
              "1  0.857632   B  X456  Yes  \n",
              "2  0.150828   B  T982  Yes  \n",
              "3  0.120293   B  T982   No  \n",
              "4  0.329663   B  R567  Yes  "
            ],
            "text/html": [
              "\n",
              "  <div id=\"df-780a2282-e306-4af8-9cca-2a8ca4709afb\">\n",
              "    <div class=\"colab-df-container\">\n",
              "      <div>\n",
              "<style scoped>\n",
              "    .dataframe tbody tr th:only-of-type {\n",
              "        vertical-align: middle;\n",
              "    }\n",
              "\n",
              "    .dataframe tbody tr th {\n",
              "        vertical-align: top;\n",
              "    }\n",
              "\n",
              "    .dataframe thead th {\n",
              "        text-align: right;\n",
              "    }\n",
              "</style>\n",
              "<table border=\"1\" class=\"dataframe\">\n",
              "  <thead>\n",
              "    <tr style=\"text-align: right;\">\n",
              "      <th></th>\n",
              "      <th>LOAN_ID</th>\n",
              "      <th>PD_RISK_RATING</th>\n",
              "      <th>X1</th>\n",
              "      <th>X2</th>\n",
              "      <th>X3</th>\n",
              "      <th>X4</th>\n",
              "      <th>X5</th>\n",
              "      <th>X6</th>\n",
              "      <th>X7</th>\n",
              "      <th>X8</th>\n",
              "      <th>X9</th>\n",
              "      <th>X10</th>\n",
              "      <th>X11</th>\n",
              "      <th>X12</th>\n",
              "      <th>X13</th>\n",
              "      <th>X14</th>\n",
              "      <th>X15</th>\n",
              "    </tr>\n",
              "  </thead>\n",
              "  <tbody>\n",
              "    <tr>\n",
              "      <th>0</th>\n",
              "      <td>ZZZ0001</td>\n",
              "      <td>2</td>\n",
              "      <td>C&amp;I</td>\n",
              "      <td>0.113703</td>\n",
              "      <td>0.795355</td>\n",
              "      <td>1156188.606</td>\n",
              "      <td>0.090963</td>\n",
              "      <td>0.963879</td>\n",
              "      <td>120.606137</td>\n",
              "      <td>0.966454</td>\n",
              "      <td>-6.884990</td>\n",
              "      <td>0.195105</td>\n",
              "      <td>1.093855</td>\n",
              "      <td>0.890361</td>\n",
              "      <td>C</td>\n",
              "      <td>T982</td>\n",
              "      <td>Yes</td>\n",
              "    </tr>\n",
              "    <tr>\n",
              "      <th>1</th>\n",
              "      <td>ZZZ0002</td>\n",
              "      <td>4</td>\n",
              "      <td>CRE Permanent</td>\n",
              "      <td>0.622299</td>\n",
              "      <td>0.364232</td>\n",
              "      <td>NaN</td>\n",
              "      <td>0.497840</td>\n",
              "      <td>0.606212</td>\n",
              "      <td>109.621719</td>\n",
              "      <td>0.440733</td>\n",
              "      <td>-10.010214</td>\n",
              "      <td>1.600637</td>\n",
              "      <td>1.146797</td>\n",
              "      <td>0.857632</td>\n",
              "      <td>B</td>\n",
              "      <td>X456</td>\n",
              "      <td>Yes</td>\n",
              "    </tr>\n",
              "    <tr>\n",
              "      <th>2</th>\n",
              "      <td>ZZZ0003</td>\n",
              "      <td>2</td>\n",
              "      <td>CRE Construction</td>\n",
              "      <td>0.609275</td>\n",
              "      <td>0.821238</td>\n",
              "      <td>1046682.630</td>\n",
              "      <td>0.487420</td>\n",
              "      <td>0.296746</td>\n",
              "      <td>94.520306</td>\n",
              "      <td>0.007491</td>\n",
              "      <td>10.726384</td>\n",
              "      <td>0.434792</td>\n",
              "      <td>1.050520</td>\n",
              "      <td>0.150828</td>\n",
              "      <td>B</td>\n",
              "      <td>T982</td>\n",
              "      <td>Yes</td>\n",
              "    </tr>\n",
              "    <tr>\n",
              "      <th>3</th>\n",
              "      <td>ZZZ0004</td>\n",
              "      <td>1</td>\n",
              "      <td>CRE Construction</td>\n",
              "      <td>0.623379</td>\n",
              "      <td>0.613073</td>\n",
              "      <td>1085325.470</td>\n",
              "      <td>0.498704</td>\n",
              "      <td>0.641079</td>\n",
              "      <td>94.933871</td>\n",
              "      <td>0.910976</td>\n",
              "      <td>0.476127</td>\n",
              "      <td>0.341299</td>\n",
              "      <td>1.011261</td>\n",
              "      <td>0.120293</td>\n",
              "      <td>B</td>\n",
              "      <td>T982</td>\n",
              "      <td>No</td>\n",
              "    </tr>\n",
              "    <tr>\n",
              "      <th>4</th>\n",
              "      <td>ZZZ0005</td>\n",
              "      <td>2</td>\n",
              "      <td>CRE Construction</td>\n",
              "      <td>0.860915</td>\n",
              "      <td>0.709228</td>\n",
              "      <td>1051378.694</td>\n",
              "      <td>0.688732</td>\n",
              "      <td>0.339430</td>\n",
              "      <td>106.331848</td>\n",
              "      <td>0.939269</td>\n",
              "      <td>0.251195</td>\n",
              "      <td>0.967834</td>\n",
              "      <td>1.002241</td>\n",
              "      <td>0.329663</td>\n",
              "      <td>B</td>\n",
              "      <td>R567</td>\n",
              "      <td>Yes</td>\n",
              "    </tr>\n",
              "  </tbody>\n",
              "</table>\n",
              "</div>\n",
              "      <button class=\"colab-df-convert\" onclick=\"convertToInteractive('df-780a2282-e306-4af8-9cca-2a8ca4709afb')\"\n",
              "              title=\"Convert this dataframe to an interactive table.\"\n",
              "              style=\"display:none;\">\n",
              "        \n",
              "  <svg xmlns=\"http://www.w3.org/2000/svg\" height=\"24px\"viewBox=\"0 0 24 24\"\n",
              "       width=\"24px\">\n",
              "    <path d=\"M0 0h24v24H0V0z\" fill=\"none\"/>\n",
              "    <path d=\"M18.56 5.44l.94 2.06.94-2.06 2.06-.94-2.06-.94-.94-2.06-.94 2.06-2.06.94zm-11 1L8.5 8.5l.94-2.06 2.06-.94-2.06-.94L8.5 2.5l-.94 2.06-2.06.94zm10 10l.94 2.06.94-2.06 2.06-.94-2.06-.94-.94-2.06-.94 2.06-2.06.94z\"/><path d=\"M17.41 7.96l-1.37-1.37c-.4-.4-.92-.59-1.43-.59-.52 0-1.04.2-1.43.59L10.3 9.45l-7.72 7.72c-.78.78-.78 2.05 0 2.83L4 21.41c.39.39.9.59 1.41.59.51 0 1.02-.2 1.41-.59l7.78-7.78 2.81-2.81c.8-.78.8-2.07 0-2.86zM5.41 20L4 18.59l7.72-7.72 1.47 1.35L5.41 20z\"/>\n",
              "  </svg>\n",
              "      </button>\n",
              "      \n",
              "  <style>\n",
              "    .colab-df-container {\n",
              "      display:flex;\n",
              "      flex-wrap:wrap;\n",
              "      gap: 12px;\n",
              "    }\n",
              "\n",
              "    .colab-df-convert {\n",
              "      background-color: #E8F0FE;\n",
              "      border: none;\n",
              "      border-radius: 50%;\n",
              "      cursor: pointer;\n",
              "      display: none;\n",
              "      fill: #1967D2;\n",
              "      height: 32px;\n",
              "      padding: 0 0 0 0;\n",
              "      width: 32px;\n",
              "    }\n",
              "\n",
              "    .colab-df-convert:hover {\n",
              "      background-color: #E2EBFA;\n",
              "      box-shadow: 0px 1px 2px rgba(60, 64, 67, 0.3), 0px 1px 3px 1px rgba(60, 64, 67, 0.15);\n",
              "      fill: #174EA6;\n",
              "    }\n",
              "\n",
              "    [theme=dark] .colab-df-convert {\n",
              "      background-color: #3B4455;\n",
              "      fill: #D2E3FC;\n",
              "    }\n",
              "\n",
              "    [theme=dark] .colab-df-convert:hover {\n",
              "      background-color: #434B5C;\n",
              "      box-shadow: 0px 1px 3px 1px rgba(0, 0, 0, 0.15);\n",
              "      filter: drop-shadow(0px 1px 2px rgba(0, 0, 0, 0.3));\n",
              "      fill: #FFFFFF;\n",
              "    }\n",
              "  </style>\n",
              "\n",
              "      <script>\n",
              "        const buttonEl =\n",
              "          document.querySelector('#df-780a2282-e306-4af8-9cca-2a8ca4709afb button.colab-df-convert');\n",
              "        buttonEl.style.display =\n",
              "          google.colab.kernel.accessAllowed ? 'block' : 'none';\n",
              "\n",
              "        async function convertToInteractive(key) {\n",
              "          const element = document.querySelector('#df-780a2282-e306-4af8-9cca-2a8ca4709afb');\n",
              "          const dataTable =\n",
              "            await google.colab.kernel.invokeFunction('convertToInteractive',\n",
              "                                                     [key], {});\n",
              "          if (!dataTable) return;\n",
              "\n",
              "          const docLinkHtml = 'Like what you see? Visit the ' +\n",
              "            '<a target=\"_blank\" href=https://colab.research.google.com/notebooks/data_table.ipynb>data table notebook</a>'\n",
              "            + ' to learn more about interactive tables.';\n",
              "          element.innerHTML = '';\n",
              "          dataTable['output_type'] = 'display_data';\n",
              "          await google.colab.output.renderOutput(dataTable, element);\n",
              "          const docLink = document.createElement('div');\n",
              "          docLink.innerHTML = docLinkHtml;\n",
              "          element.appendChild(docLink);\n",
              "        }\n",
              "      </script>\n",
              "    </div>\n",
              "  </div>\n",
              "  "
            ]
          },
          "metadata": {},
          "execution_count": 143
        }
      ],
      "source": [
        "# Inspection of first 5 rows of Financial Data\n",
        "financial_data.head()"
      ]
    },
    {
      "cell_type": "code",
      "execution_count": 144,
      "metadata": {
        "colab": {
          "base_uri": "https://localhost:8080/"
        },
        "id": "TGJAqQqsfKcU",
        "outputId": "959e6411-a5f3-461c-c313-439904bdc58a"
      },
      "outputs": [
        {
          "output_type": "execute_result",
          "data": {
            "text/plain": [
              "(10000, 17)"
            ]
          },
          "metadata": {},
          "execution_count": 144
        }
      ],
      "source": [
        "# Shape of Financial Data (Number of Rows, Number of Columns)\n",
        "financial_data.shape"
      ]
    },
    {
      "cell_type": "code",
      "execution_count": 145,
      "metadata": {
        "colab": {
          "base_uri": "https://localhost:8080/",
          "height": 206
        },
        "id": "fc1lRoyAZZYU",
        "outputId": "d94efe61-5b02-478c-a264-4a2a2a2eaf6c"
      },
      "outputs": [
        {
          "output_type": "execute_result",
          "data": {
            "text/plain": [
              "   Unnamed: 0    LOAN_ID\n",
              "0           1   ZZZ00085\n",
              "1           2  ZZZ000101\n",
              "2           3  ZZZ000108\n",
              "3           4  ZZZ000119\n",
              "4           5  ZZZ000258"
            ],
            "text/html": [
              "\n",
              "  <div id=\"df-e3e89668-8b19-409c-988f-5b862592c5b3\">\n",
              "    <div class=\"colab-df-container\">\n",
              "      <div>\n",
              "<style scoped>\n",
              "    .dataframe tbody tr th:only-of-type {\n",
              "        vertical-align: middle;\n",
              "    }\n",
              "\n",
              "    .dataframe tbody tr th {\n",
              "        vertical-align: top;\n",
              "    }\n",
              "\n",
              "    .dataframe thead th {\n",
              "        text-align: right;\n",
              "    }\n",
              "</style>\n",
              "<table border=\"1\" class=\"dataframe\">\n",
              "  <thead>\n",
              "    <tr style=\"text-align: right;\">\n",
              "      <th></th>\n",
              "      <th>Unnamed: 0</th>\n",
              "      <th>LOAN_ID</th>\n",
              "    </tr>\n",
              "  </thead>\n",
              "  <tbody>\n",
              "    <tr>\n",
              "      <th>0</th>\n",
              "      <td>1</td>\n",
              "      <td>ZZZ00085</td>\n",
              "    </tr>\n",
              "    <tr>\n",
              "      <th>1</th>\n",
              "      <td>2</td>\n",
              "      <td>ZZZ000101</td>\n",
              "    </tr>\n",
              "    <tr>\n",
              "      <th>2</th>\n",
              "      <td>3</td>\n",
              "      <td>ZZZ000108</td>\n",
              "    </tr>\n",
              "    <tr>\n",
              "      <th>3</th>\n",
              "      <td>4</td>\n",
              "      <td>ZZZ000119</td>\n",
              "    </tr>\n",
              "    <tr>\n",
              "      <th>4</th>\n",
              "      <td>5</td>\n",
              "      <td>ZZZ000258</td>\n",
              "    </tr>\n",
              "  </tbody>\n",
              "</table>\n",
              "</div>\n",
              "      <button class=\"colab-df-convert\" onclick=\"convertToInteractive('df-e3e89668-8b19-409c-988f-5b862592c5b3')\"\n",
              "              title=\"Convert this dataframe to an interactive table.\"\n",
              "              style=\"display:none;\">\n",
              "        \n",
              "  <svg xmlns=\"http://www.w3.org/2000/svg\" height=\"24px\"viewBox=\"0 0 24 24\"\n",
              "       width=\"24px\">\n",
              "    <path d=\"M0 0h24v24H0V0z\" fill=\"none\"/>\n",
              "    <path d=\"M18.56 5.44l.94 2.06.94-2.06 2.06-.94-2.06-.94-.94-2.06-.94 2.06-2.06.94zm-11 1L8.5 8.5l.94-2.06 2.06-.94-2.06-.94L8.5 2.5l-.94 2.06-2.06.94zm10 10l.94 2.06.94-2.06 2.06-.94-2.06-.94-.94-2.06-.94 2.06-2.06.94z\"/><path d=\"M17.41 7.96l-1.37-1.37c-.4-.4-.92-.59-1.43-.59-.52 0-1.04.2-1.43.59L10.3 9.45l-7.72 7.72c-.78.78-.78 2.05 0 2.83L4 21.41c.39.39.9.59 1.41.59.51 0 1.02-.2 1.41-.59l7.78-7.78 2.81-2.81c.8-.78.8-2.07 0-2.86zM5.41 20L4 18.59l7.72-7.72 1.47 1.35L5.41 20z\"/>\n",
              "  </svg>\n",
              "      </button>\n",
              "      \n",
              "  <style>\n",
              "    .colab-df-container {\n",
              "      display:flex;\n",
              "      flex-wrap:wrap;\n",
              "      gap: 12px;\n",
              "    }\n",
              "\n",
              "    .colab-df-convert {\n",
              "      background-color: #E8F0FE;\n",
              "      border: none;\n",
              "      border-radius: 50%;\n",
              "      cursor: pointer;\n",
              "      display: none;\n",
              "      fill: #1967D2;\n",
              "      height: 32px;\n",
              "      padding: 0 0 0 0;\n",
              "      width: 32px;\n",
              "    }\n",
              "\n",
              "    .colab-df-convert:hover {\n",
              "      background-color: #E2EBFA;\n",
              "      box-shadow: 0px 1px 2px rgba(60, 64, 67, 0.3), 0px 1px 3px 1px rgba(60, 64, 67, 0.15);\n",
              "      fill: #174EA6;\n",
              "    }\n",
              "\n",
              "    [theme=dark] .colab-df-convert {\n",
              "      background-color: #3B4455;\n",
              "      fill: #D2E3FC;\n",
              "    }\n",
              "\n",
              "    [theme=dark] .colab-df-convert:hover {\n",
              "      background-color: #434B5C;\n",
              "      box-shadow: 0px 1px 3px 1px rgba(0, 0, 0, 0.15);\n",
              "      filter: drop-shadow(0px 1px 2px rgba(0, 0, 0, 0.3));\n",
              "      fill: #FFFFFF;\n",
              "    }\n",
              "  </style>\n",
              "\n",
              "      <script>\n",
              "        const buttonEl =\n",
              "          document.querySelector('#df-e3e89668-8b19-409c-988f-5b862592c5b3 button.colab-df-convert');\n",
              "        buttonEl.style.display =\n",
              "          google.colab.kernel.accessAllowed ? 'block' : 'none';\n",
              "\n",
              "        async function convertToInteractive(key) {\n",
              "          const element = document.querySelector('#df-e3e89668-8b19-409c-988f-5b862592c5b3');\n",
              "          const dataTable =\n",
              "            await google.colab.kernel.invokeFunction('convertToInteractive',\n",
              "                                                     [key], {});\n",
              "          if (!dataTable) return;\n",
              "\n",
              "          const docLinkHtml = 'Like what you see? Visit the ' +\n",
              "            '<a target=\"_blank\" href=https://colab.research.google.com/notebooks/data_table.ipynb>data table notebook</a>'\n",
              "            + ' to learn more about interactive tables.';\n",
              "          element.innerHTML = '';\n",
              "          dataTable['output_type'] = 'display_data';\n",
              "          await google.colab.output.renderOutput(dataTable, element);\n",
              "          const docLink = document.createElement('div');\n",
              "          docLink.innerHTML = docLinkHtml;\n",
              "          element.appendChild(docLink);\n",
              "        }\n",
              "      </script>\n",
              "    </div>\n",
              "  </div>\n",
              "  "
            ]
          },
          "metadata": {},
          "execution_count": 145
        }
      ],
      "source": [
        "# Inspection of first 5 rows of Default Data\n",
        "default_data.head()"
      ]
    },
    {
      "cell_type": "code",
      "execution_count": 146,
      "metadata": {
        "colab": {
          "base_uri": "https://localhost:8080/"
        },
        "id": "XQvJZCxCfUuo",
        "outputId": "0c0b74c8-b97e-4862-ccf7-1f70178b07a9"
      },
      "outputs": [
        {
          "output_type": "execute_result",
          "data": {
            "text/plain": [
              "(129, 2)"
            ]
          },
          "metadata": {},
          "execution_count": 146
        }
      ],
      "source": [
        "# Shape of Default Data (Number of Rows, Number of Columns)\n",
        "default_data.shape"
      ]
    },
    {
      "cell_type": "markdown",
      "metadata": {
        "id": "1JOMlAGMZPqu"
      },
      "source": [
        "**Join Financial Data and Default Data by LOAN_ID**"
      ]
    },
    {
      "cell_type": "code",
      "execution_count": 147,
      "metadata": {
        "colab": {
          "base_uri": "https://localhost:8080/",
          "height": 319
        },
        "id": "QV80KhzvZOkX",
        "outputId": "e164f26a-8178-4b75-a7e0-2eef482aa14e"
      },
      "outputs": [
        {
          "output_type": "execute_result",
          "data": {
            "text/plain": [
              "   LOAN_ID  PD_RISK_RATING                X1        X2        X3           X4  \\\n",
              "0  ZZZ0001               2               C&I  0.113703  0.795355  1156188.606   \n",
              "1  ZZZ0002               4     CRE Permanent  0.622299  0.364232          NaN   \n",
              "2  ZZZ0003               2  CRE Construction  0.609275  0.821238  1046682.630   \n",
              "3  ZZZ0004               1  CRE Construction  0.623379  0.613073  1085325.470   \n",
              "4  ZZZ0005               2  CRE Construction  0.860915  0.709228  1051378.694   \n",
              "\n",
              "         X5        X6          X7        X8         X9       X10       X11  \\\n",
              "0  0.090963  0.963879  120.606137  0.966454  -6.884990  0.195105  1.093855   \n",
              "1  0.497840  0.606212  109.621719  0.440733 -10.010214  1.600637  1.146797   \n",
              "2  0.487420  0.296746   94.520306  0.007491  10.726384  0.434792  1.050520   \n",
              "3  0.498704  0.641079   94.933871  0.910976   0.476127  0.341299  1.011261   \n",
              "4  0.688732  0.339430  106.331848  0.939269   0.251195  0.967834  1.002241   \n",
              "\n",
              "        X12 X13   X14  X15  Unnamed: 0  \n",
              "0  0.890361   C  T982  Yes         NaN  \n",
              "1  0.857632   B  X456  Yes         NaN  \n",
              "2  0.150828   B  T982  Yes         NaN  \n",
              "3  0.120293   B  T982   No         NaN  \n",
              "4  0.329663   B  R567  Yes         NaN  "
            ],
            "text/html": [
              "\n",
              "  <div id=\"df-e102895a-1874-48e6-ac1d-43a33bea0883\">\n",
              "    <div class=\"colab-df-container\">\n",
              "      <div>\n",
              "<style scoped>\n",
              "    .dataframe tbody tr th:only-of-type {\n",
              "        vertical-align: middle;\n",
              "    }\n",
              "\n",
              "    .dataframe tbody tr th {\n",
              "        vertical-align: top;\n",
              "    }\n",
              "\n",
              "    .dataframe thead th {\n",
              "        text-align: right;\n",
              "    }\n",
              "</style>\n",
              "<table border=\"1\" class=\"dataframe\">\n",
              "  <thead>\n",
              "    <tr style=\"text-align: right;\">\n",
              "      <th></th>\n",
              "      <th>LOAN_ID</th>\n",
              "      <th>PD_RISK_RATING</th>\n",
              "      <th>X1</th>\n",
              "      <th>X2</th>\n",
              "      <th>X3</th>\n",
              "      <th>X4</th>\n",
              "      <th>X5</th>\n",
              "      <th>X6</th>\n",
              "      <th>X7</th>\n",
              "      <th>X8</th>\n",
              "      <th>X9</th>\n",
              "      <th>X10</th>\n",
              "      <th>X11</th>\n",
              "      <th>X12</th>\n",
              "      <th>X13</th>\n",
              "      <th>X14</th>\n",
              "      <th>X15</th>\n",
              "      <th>Unnamed: 0</th>\n",
              "    </tr>\n",
              "  </thead>\n",
              "  <tbody>\n",
              "    <tr>\n",
              "      <th>0</th>\n",
              "      <td>ZZZ0001</td>\n",
              "      <td>2</td>\n",
              "      <td>C&amp;I</td>\n",
              "      <td>0.113703</td>\n",
              "      <td>0.795355</td>\n",
              "      <td>1156188.606</td>\n",
              "      <td>0.090963</td>\n",
              "      <td>0.963879</td>\n",
              "      <td>120.606137</td>\n",
              "      <td>0.966454</td>\n",
              "      <td>-6.884990</td>\n",
              "      <td>0.195105</td>\n",
              "      <td>1.093855</td>\n",
              "      <td>0.890361</td>\n",
              "      <td>C</td>\n",
              "      <td>T982</td>\n",
              "      <td>Yes</td>\n",
              "      <td>NaN</td>\n",
              "    </tr>\n",
              "    <tr>\n",
              "      <th>1</th>\n",
              "      <td>ZZZ0002</td>\n",
              "      <td>4</td>\n",
              "      <td>CRE Permanent</td>\n",
              "      <td>0.622299</td>\n",
              "      <td>0.364232</td>\n",
              "      <td>NaN</td>\n",
              "      <td>0.497840</td>\n",
              "      <td>0.606212</td>\n",
              "      <td>109.621719</td>\n",
              "      <td>0.440733</td>\n",
              "      <td>-10.010214</td>\n",
              "      <td>1.600637</td>\n",
              "      <td>1.146797</td>\n",
              "      <td>0.857632</td>\n",
              "      <td>B</td>\n",
              "      <td>X456</td>\n",
              "      <td>Yes</td>\n",
              "      <td>NaN</td>\n",
              "    </tr>\n",
              "    <tr>\n",
              "      <th>2</th>\n",
              "      <td>ZZZ0003</td>\n",
              "      <td>2</td>\n",
              "      <td>CRE Construction</td>\n",
              "      <td>0.609275</td>\n",
              "      <td>0.821238</td>\n",
              "      <td>1046682.630</td>\n",
              "      <td>0.487420</td>\n",
              "      <td>0.296746</td>\n",
              "      <td>94.520306</td>\n",
              "      <td>0.007491</td>\n",
              "      <td>10.726384</td>\n",
              "      <td>0.434792</td>\n",
              "      <td>1.050520</td>\n",
              "      <td>0.150828</td>\n",
              "      <td>B</td>\n",
              "      <td>T982</td>\n",
              "      <td>Yes</td>\n",
              "      <td>NaN</td>\n",
              "    </tr>\n",
              "    <tr>\n",
              "      <th>3</th>\n",
              "      <td>ZZZ0004</td>\n",
              "      <td>1</td>\n",
              "      <td>CRE Construction</td>\n",
              "      <td>0.623379</td>\n",
              "      <td>0.613073</td>\n",
              "      <td>1085325.470</td>\n",
              "      <td>0.498704</td>\n",
              "      <td>0.641079</td>\n",
              "      <td>94.933871</td>\n",
              "      <td>0.910976</td>\n",
              "      <td>0.476127</td>\n",
              "      <td>0.341299</td>\n",
              "      <td>1.011261</td>\n",
              "      <td>0.120293</td>\n",
              "      <td>B</td>\n",
              "      <td>T982</td>\n",
              "      <td>No</td>\n",
              "      <td>NaN</td>\n",
              "    </tr>\n",
              "    <tr>\n",
              "      <th>4</th>\n",
              "      <td>ZZZ0005</td>\n",
              "      <td>2</td>\n",
              "      <td>CRE Construction</td>\n",
              "      <td>0.860915</td>\n",
              "      <td>0.709228</td>\n",
              "      <td>1051378.694</td>\n",
              "      <td>0.688732</td>\n",
              "      <td>0.339430</td>\n",
              "      <td>106.331848</td>\n",
              "      <td>0.939269</td>\n",
              "      <td>0.251195</td>\n",
              "      <td>0.967834</td>\n",
              "      <td>1.002241</td>\n",
              "      <td>0.329663</td>\n",
              "      <td>B</td>\n",
              "      <td>R567</td>\n",
              "      <td>Yes</td>\n",
              "      <td>NaN</td>\n",
              "    </tr>\n",
              "  </tbody>\n",
              "</table>\n",
              "</div>\n",
              "      <button class=\"colab-df-convert\" onclick=\"convertToInteractive('df-e102895a-1874-48e6-ac1d-43a33bea0883')\"\n",
              "              title=\"Convert this dataframe to an interactive table.\"\n",
              "              style=\"display:none;\">\n",
              "        \n",
              "  <svg xmlns=\"http://www.w3.org/2000/svg\" height=\"24px\"viewBox=\"0 0 24 24\"\n",
              "       width=\"24px\">\n",
              "    <path d=\"M0 0h24v24H0V0z\" fill=\"none\"/>\n",
              "    <path d=\"M18.56 5.44l.94 2.06.94-2.06 2.06-.94-2.06-.94-.94-2.06-.94 2.06-2.06.94zm-11 1L8.5 8.5l.94-2.06 2.06-.94-2.06-.94L8.5 2.5l-.94 2.06-2.06.94zm10 10l.94 2.06.94-2.06 2.06-.94-2.06-.94-.94-2.06-.94 2.06-2.06.94z\"/><path d=\"M17.41 7.96l-1.37-1.37c-.4-.4-.92-.59-1.43-.59-.52 0-1.04.2-1.43.59L10.3 9.45l-7.72 7.72c-.78.78-.78 2.05 0 2.83L4 21.41c.39.39.9.59 1.41.59.51 0 1.02-.2 1.41-.59l7.78-7.78 2.81-2.81c.8-.78.8-2.07 0-2.86zM5.41 20L4 18.59l7.72-7.72 1.47 1.35L5.41 20z\"/>\n",
              "  </svg>\n",
              "      </button>\n",
              "      \n",
              "  <style>\n",
              "    .colab-df-container {\n",
              "      display:flex;\n",
              "      flex-wrap:wrap;\n",
              "      gap: 12px;\n",
              "    }\n",
              "\n",
              "    .colab-df-convert {\n",
              "      background-color: #E8F0FE;\n",
              "      border: none;\n",
              "      border-radius: 50%;\n",
              "      cursor: pointer;\n",
              "      display: none;\n",
              "      fill: #1967D2;\n",
              "      height: 32px;\n",
              "      padding: 0 0 0 0;\n",
              "      width: 32px;\n",
              "    }\n",
              "\n",
              "    .colab-df-convert:hover {\n",
              "      background-color: #E2EBFA;\n",
              "      box-shadow: 0px 1px 2px rgba(60, 64, 67, 0.3), 0px 1px 3px 1px rgba(60, 64, 67, 0.15);\n",
              "      fill: #174EA6;\n",
              "    }\n",
              "\n",
              "    [theme=dark] .colab-df-convert {\n",
              "      background-color: #3B4455;\n",
              "      fill: #D2E3FC;\n",
              "    }\n",
              "\n",
              "    [theme=dark] .colab-df-convert:hover {\n",
              "      background-color: #434B5C;\n",
              "      box-shadow: 0px 1px 3px 1px rgba(0, 0, 0, 0.15);\n",
              "      filter: drop-shadow(0px 1px 2px rgba(0, 0, 0, 0.3));\n",
              "      fill: #FFFFFF;\n",
              "    }\n",
              "  </style>\n",
              "\n",
              "      <script>\n",
              "        const buttonEl =\n",
              "          document.querySelector('#df-e102895a-1874-48e6-ac1d-43a33bea0883 button.colab-df-convert');\n",
              "        buttonEl.style.display =\n",
              "          google.colab.kernel.accessAllowed ? 'block' : 'none';\n",
              "\n",
              "        async function convertToInteractive(key) {\n",
              "          const element = document.querySelector('#df-e102895a-1874-48e6-ac1d-43a33bea0883');\n",
              "          const dataTable =\n",
              "            await google.colab.kernel.invokeFunction('convertToInteractive',\n",
              "                                                     [key], {});\n",
              "          if (!dataTable) return;\n",
              "\n",
              "          const docLinkHtml = 'Like what you see? Visit the ' +\n",
              "            '<a target=\"_blank\" href=https://colab.research.google.com/notebooks/data_table.ipynb>data table notebook</a>'\n",
              "            + ' to learn more about interactive tables.';\n",
              "          element.innerHTML = '';\n",
              "          dataTable['output_type'] = 'display_data';\n",
              "          await google.colab.output.renderOutput(dataTable, element);\n",
              "          const docLink = document.createElement('div');\n",
              "          docLink.innerHTML = docLinkHtml;\n",
              "          element.appendChild(docLink);\n",
              "        }\n",
              "      </script>\n",
              "    </div>\n",
              "  </div>\n",
              "  "
            ]
          },
          "metadata": {},
          "execution_count": 147
        }
      ],
      "source": [
        "# Merging Financial and Default Dataframes by LOAN_ID and by left table financial data\n",
        "default_financial_data = pd.merge(financial_data, default_data, on='LOAN_ID', how = 'left')\n",
        "\n",
        "# Inspection of first 100 rows of default_financial_data \n",
        "default_financial_data.head()"
      ]
    },
    {
      "cell_type": "markdown",
      "metadata": {
        "id": "LhQwfz-ZwYhI"
      },
      "source": [
        "**NOTE: If LOAN_ID is in Default Dataset, then that LOAN_ID is a DEFAULTED OBLIGOR; otherwise, LOAN_ID is NOT defaulted**\n",
        "\n",
        "**NOTE: Using 'Unnamed: 0' as a reference to check if that LOAN_ID exists in Default Data or not by checking if the value is NULL or not**"
      ]
    },
    {
      "cell_type": "code",
      "execution_count": 148,
      "metadata": {
        "id": "JrersAsExInG"
      },
      "outputs": [],
      "source": [
        "default_financial_data['Default_Ind'] = np.where(default_financial_data['Unnamed: 0'].isnull(), '0', '1')\n",
        "\n",
        "# Drop 'Unnamed: 0' Column since it is not needed anymore \n",
        "default_financial_data.drop('Unnamed: 0', axis = 1, inplace = True)"
      ]
    },
    {
      "cell_type": "code",
      "execution_count": 149,
      "metadata": {
        "colab": {
          "base_uri": "https://localhost:8080/",
          "height": 319
        },
        "id": "4rX8QQ1rxzQw",
        "outputId": "2e21f92d-be1a-43b4-f8aa-ea7d9a0eeb50"
      },
      "outputs": [
        {
          "output_type": "execute_result",
          "data": {
            "text/plain": [
              "   LOAN_ID  PD_RISK_RATING                X1        X2        X3           X4  \\\n",
              "0  ZZZ0001               2               C&I  0.113703  0.795355  1156188.606   \n",
              "1  ZZZ0002               4     CRE Permanent  0.622299  0.364232          NaN   \n",
              "2  ZZZ0003               2  CRE Construction  0.609275  0.821238  1046682.630   \n",
              "3  ZZZ0004               1  CRE Construction  0.623379  0.613073  1085325.470   \n",
              "4  ZZZ0005               2  CRE Construction  0.860915  0.709228  1051378.694   \n",
              "\n",
              "         X5        X6          X7        X8         X9       X10       X11  \\\n",
              "0  0.090963  0.963879  120.606137  0.966454  -6.884990  0.195105  1.093855   \n",
              "1  0.497840  0.606212  109.621719  0.440733 -10.010214  1.600637  1.146797   \n",
              "2  0.487420  0.296746   94.520306  0.007491  10.726384  0.434792  1.050520   \n",
              "3  0.498704  0.641079   94.933871  0.910976   0.476127  0.341299  1.011261   \n",
              "4  0.688732  0.339430  106.331848  0.939269   0.251195  0.967834  1.002241   \n",
              "\n",
              "        X12 X13   X14  X15 Default_Ind  \n",
              "0  0.890361   C  T982  Yes           0  \n",
              "1  0.857632   B  X456  Yes           0  \n",
              "2  0.150828   B  T982  Yes           0  \n",
              "3  0.120293   B  T982   No           0  \n",
              "4  0.329663   B  R567  Yes           0  "
            ],
            "text/html": [
              "\n",
              "  <div id=\"df-343949ff-726b-48b6-bcf6-19869d53e2f7\">\n",
              "    <div class=\"colab-df-container\">\n",
              "      <div>\n",
              "<style scoped>\n",
              "    .dataframe tbody tr th:only-of-type {\n",
              "        vertical-align: middle;\n",
              "    }\n",
              "\n",
              "    .dataframe tbody tr th {\n",
              "        vertical-align: top;\n",
              "    }\n",
              "\n",
              "    .dataframe thead th {\n",
              "        text-align: right;\n",
              "    }\n",
              "</style>\n",
              "<table border=\"1\" class=\"dataframe\">\n",
              "  <thead>\n",
              "    <tr style=\"text-align: right;\">\n",
              "      <th></th>\n",
              "      <th>LOAN_ID</th>\n",
              "      <th>PD_RISK_RATING</th>\n",
              "      <th>X1</th>\n",
              "      <th>X2</th>\n",
              "      <th>X3</th>\n",
              "      <th>X4</th>\n",
              "      <th>X5</th>\n",
              "      <th>X6</th>\n",
              "      <th>X7</th>\n",
              "      <th>X8</th>\n",
              "      <th>X9</th>\n",
              "      <th>X10</th>\n",
              "      <th>X11</th>\n",
              "      <th>X12</th>\n",
              "      <th>X13</th>\n",
              "      <th>X14</th>\n",
              "      <th>X15</th>\n",
              "      <th>Default_Ind</th>\n",
              "    </tr>\n",
              "  </thead>\n",
              "  <tbody>\n",
              "    <tr>\n",
              "      <th>0</th>\n",
              "      <td>ZZZ0001</td>\n",
              "      <td>2</td>\n",
              "      <td>C&amp;I</td>\n",
              "      <td>0.113703</td>\n",
              "      <td>0.795355</td>\n",
              "      <td>1156188.606</td>\n",
              "      <td>0.090963</td>\n",
              "      <td>0.963879</td>\n",
              "      <td>120.606137</td>\n",
              "      <td>0.966454</td>\n",
              "      <td>-6.884990</td>\n",
              "      <td>0.195105</td>\n",
              "      <td>1.093855</td>\n",
              "      <td>0.890361</td>\n",
              "      <td>C</td>\n",
              "      <td>T982</td>\n",
              "      <td>Yes</td>\n",
              "      <td>0</td>\n",
              "    </tr>\n",
              "    <tr>\n",
              "      <th>1</th>\n",
              "      <td>ZZZ0002</td>\n",
              "      <td>4</td>\n",
              "      <td>CRE Permanent</td>\n",
              "      <td>0.622299</td>\n",
              "      <td>0.364232</td>\n",
              "      <td>NaN</td>\n",
              "      <td>0.497840</td>\n",
              "      <td>0.606212</td>\n",
              "      <td>109.621719</td>\n",
              "      <td>0.440733</td>\n",
              "      <td>-10.010214</td>\n",
              "      <td>1.600637</td>\n",
              "      <td>1.146797</td>\n",
              "      <td>0.857632</td>\n",
              "      <td>B</td>\n",
              "      <td>X456</td>\n",
              "      <td>Yes</td>\n",
              "      <td>0</td>\n",
              "    </tr>\n",
              "    <tr>\n",
              "      <th>2</th>\n",
              "      <td>ZZZ0003</td>\n",
              "      <td>2</td>\n",
              "      <td>CRE Construction</td>\n",
              "      <td>0.609275</td>\n",
              "      <td>0.821238</td>\n",
              "      <td>1046682.630</td>\n",
              "      <td>0.487420</td>\n",
              "      <td>0.296746</td>\n",
              "      <td>94.520306</td>\n",
              "      <td>0.007491</td>\n",
              "      <td>10.726384</td>\n",
              "      <td>0.434792</td>\n",
              "      <td>1.050520</td>\n",
              "      <td>0.150828</td>\n",
              "      <td>B</td>\n",
              "      <td>T982</td>\n",
              "      <td>Yes</td>\n",
              "      <td>0</td>\n",
              "    </tr>\n",
              "    <tr>\n",
              "      <th>3</th>\n",
              "      <td>ZZZ0004</td>\n",
              "      <td>1</td>\n",
              "      <td>CRE Construction</td>\n",
              "      <td>0.623379</td>\n",
              "      <td>0.613073</td>\n",
              "      <td>1085325.470</td>\n",
              "      <td>0.498704</td>\n",
              "      <td>0.641079</td>\n",
              "      <td>94.933871</td>\n",
              "      <td>0.910976</td>\n",
              "      <td>0.476127</td>\n",
              "      <td>0.341299</td>\n",
              "      <td>1.011261</td>\n",
              "      <td>0.120293</td>\n",
              "      <td>B</td>\n",
              "      <td>T982</td>\n",
              "      <td>No</td>\n",
              "      <td>0</td>\n",
              "    </tr>\n",
              "    <tr>\n",
              "      <th>4</th>\n",
              "      <td>ZZZ0005</td>\n",
              "      <td>2</td>\n",
              "      <td>CRE Construction</td>\n",
              "      <td>0.860915</td>\n",
              "      <td>0.709228</td>\n",
              "      <td>1051378.694</td>\n",
              "      <td>0.688732</td>\n",
              "      <td>0.339430</td>\n",
              "      <td>106.331848</td>\n",
              "      <td>0.939269</td>\n",
              "      <td>0.251195</td>\n",
              "      <td>0.967834</td>\n",
              "      <td>1.002241</td>\n",
              "      <td>0.329663</td>\n",
              "      <td>B</td>\n",
              "      <td>R567</td>\n",
              "      <td>Yes</td>\n",
              "      <td>0</td>\n",
              "    </tr>\n",
              "  </tbody>\n",
              "</table>\n",
              "</div>\n",
              "      <button class=\"colab-df-convert\" onclick=\"convertToInteractive('df-343949ff-726b-48b6-bcf6-19869d53e2f7')\"\n",
              "              title=\"Convert this dataframe to an interactive table.\"\n",
              "              style=\"display:none;\">\n",
              "        \n",
              "  <svg xmlns=\"http://www.w3.org/2000/svg\" height=\"24px\"viewBox=\"0 0 24 24\"\n",
              "       width=\"24px\">\n",
              "    <path d=\"M0 0h24v24H0V0z\" fill=\"none\"/>\n",
              "    <path d=\"M18.56 5.44l.94 2.06.94-2.06 2.06-.94-2.06-.94-.94-2.06-.94 2.06-2.06.94zm-11 1L8.5 8.5l.94-2.06 2.06-.94-2.06-.94L8.5 2.5l-.94 2.06-2.06.94zm10 10l.94 2.06.94-2.06 2.06-.94-2.06-.94-.94-2.06-.94 2.06-2.06.94z\"/><path d=\"M17.41 7.96l-1.37-1.37c-.4-.4-.92-.59-1.43-.59-.52 0-1.04.2-1.43.59L10.3 9.45l-7.72 7.72c-.78.78-.78 2.05 0 2.83L4 21.41c.39.39.9.59 1.41.59.51 0 1.02-.2 1.41-.59l7.78-7.78 2.81-2.81c.8-.78.8-2.07 0-2.86zM5.41 20L4 18.59l7.72-7.72 1.47 1.35L5.41 20z\"/>\n",
              "  </svg>\n",
              "      </button>\n",
              "      \n",
              "  <style>\n",
              "    .colab-df-container {\n",
              "      display:flex;\n",
              "      flex-wrap:wrap;\n",
              "      gap: 12px;\n",
              "    }\n",
              "\n",
              "    .colab-df-convert {\n",
              "      background-color: #E8F0FE;\n",
              "      border: none;\n",
              "      border-radius: 50%;\n",
              "      cursor: pointer;\n",
              "      display: none;\n",
              "      fill: #1967D2;\n",
              "      height: 32px;\n",
              "      padding: 0 0 0 0;\n",
              "      width: 32px;\n",
              "    }\n",
              "\n",
              "    .colab-df-convert:hover {\n",
              "      background-color: #E2EBFA;\n",
              "      box-shadow: 0px 1px 2px rgba(60, 64, 67, 0.3), 0px 1px 3px 1px rgba(60, 64, 67, 0.15);\n",
              "      fill: #174EA6;\n",
              "    }\n",
              "\n",
              "    [theme=dark] .colab-df-convert {\n",
              "      background-color: #3B4455;\n",
              "      fill: #D2E3FC;\n",
              "    }\n",
              "\n",
              "    [theme=dark] .colab-df-convert:hover {\n",
              "      background-color: #434B5C;\n",
              "      box-shadow: 0px 1px 3px 1px rgba(0, 0, 0, 0.15);\n",
              "      filter: drop-shadow(0px 1px 2px rgba(0, 0, 0, 0.3));\n",
              "      fill: #FFFFFF;\n",
              "    }\n",
              "  </style>\n",
              "\n",
              "      <script>\n",
              "        const buttonEl =\n",
              "          document.querySelector('#df-343949ff-726b-48b6-bcf6-19869d53e2f7 button.colab-df-convert');\n",
              "        buttonEl.style.display =\n",
              "          google.colab.kernel.accessAllowed ? 'block' : 'none';\n",
              "\n",
              "        async function convertToInteractive(key) {\n",
              "          const element = document.querySelector('#df-343949ff-726b-48b6-bcf6-19869d53e2f7');\n",
              "          const dataTable =\n",
              "            await google.colab.kernel.invokeFunction('convertToInteractive',\n",
              "                                                     [key], {});\n",
              "          if (!dataTable) return;\n",
              "\n",
              "          const docLinkHtml = 'Like what you see? Visit the ' +\n",
              "            '<a target=\"_blank\" href=https://colab.research.google.com/notebooks/data_table.ipynb>data table notebook</a>'\n",
              "            + ' to learn more about interactive tables.';\n",
              "          element.innerHTML = '';\n",
              "          dataTable['output_type'] = 'display_data';\n",
              "          await google.colab.output.renderOutput(dataTable, element);\n",
              "          const docLink = document.createElement('div');\n",
              "          docLink.innerHTML = docLinkHtml;\n",
              "          element.appendChild(docLink);\n",
              "        }\n",
              "      </script>\n",
              "    </div>\n",
              "  </div>\n",
              "  "
            ]
          },
          "metadata": {},
          "execution_count": 149
        }
      ],
      "source": [
        "# Inspection of first 5 rows of default_financial_data \n",
        "default_financial_data.head()"
      ]
    },
    {
      "cell_type": "code",
      "execution_count": 150,
      "metadata": {
        "colab": {
          "base_uri": "https://localhost:8080/"
        },
        "id": "MifP3ys7lYVV",
        "outputId": "e107ba91-a21a-4854-a389-2cba197a0f72"
      },
      "outputs": [
        {
          "output_type": "execute_result",
          "data": {
            "text/plain": [
              "Index(['LOAN_ID', 'PD_RISK_RATING', 'X1', 'X2', 'X3', 'X4', 'X5', 'X6', 'X7',\n",
              "       'X8', 'X9', 'X10', 'X11', 'X12', 'X13', 'X14', 'X15', 'Default_Ind'],\n",
              "      dtype='object')"
            ]
          },
          "metadata": {},
          "execution_count": 150
        }
      ],
      "source": [
        "# Column Names for default_financial_data\n",
        "default_financial_data.columns"
      ]
    },
    {
      "cell_type": "code",
      "execution_count": 151,
      "metadata": {
        "colab": {
          "base_uri": "https://localhost:8080/"
        },
        "id": "j6aan4fgk-OM",
        "outputId": "61e2e816-bd71-4fe6-d3fd-7fa451fe5155"
      },
      "outputs": [
        {
          "output_type": "stream",
          "name": "stdout",
          "text": [
            "<class 'pandas.core.frame.DataFrame'>\n",
            "Int64Index: 10000 entries, 0 to 9999\n",
            "Data columns (total 18 columns):\n",
            " #   Column          Non-Null Count  Dtype  \n",
            "---  ------          --------------  -----  \n",
            " 0   LOAN_ID         10000 non-null  object \n",
            " 1   PD_RISK_RATING  10000 non-null  int64  \n",
            " 2   X1              10000 non-null  object \n",
            " 3   X2              9000 non-null   float64\n",
            " 4   X3              10000 non-null  float64\n",
            " 5   X4              9000 non-null   float64\n",
            " 6   X5              10000 non-null  float64\n",
            " 7   X6              10000 non-null  float64\n",
            " 8   X7              10000 non-null  float64\n",
            " 9   X8              10000 non-null  float64\n",
            " 10  X9              10000 non-null  float64\n",
            " 11  X10             10000 non-null  float64\n",
            " 12  X11             10000 non-null  float64\n",
            " 13  X12             10000 non-null  float64\n",
            " 14  X13             10000 non-null  object \n",
            " 15  X14             10000 non-null  object \n",
            " 16  X15             10000 non-null  object \n",
            " 17  Default_Ind     10000 non-null  object \n",
            "dtypes: float64(11), int64(1), object(6)\n",
            "memory usage: 1.4+ MB\n"
          ]
        }
      ],
      "source": [
        "# Checking data types for Each Column in default_financial_data\n",
        "default_financial_data.info()"
      ]
    },
    {
      "cell_type": "code",
      "execution_count": 152,
      "metadata": {
        "colab": {
          "base_uri": "https://localhost:8080/"
        },
        "id": "-h0f6s0mf9KF",
        "outputId": "ab7f4ec4-639d-40c9-b60d-9964359c7855"
      },
      "outputs": [
        {
          "output_type": "execute_result",
          "data": {
            "text/plain": [
              "(10000, 18)"
            ]
          },
          "metadata": {},
          "execution_count": 152
        }
      ],
      "source": [
        "# Shape of default_financial_data (Number of Rows, Number of Columns)\n",
        "default_financial_data.shape"
      ]
    },
    {
      "cell_type": "markdown",
      "metadata": {
        "id": "Ws3SitKm0OkH"
      },
      "source": [
        "# **Checking and Filling in NULL Values for Columns and for Entire DataFrame**"
      ]
    },
    {
      "cell_type": "code",
      "execution_count": 153,
      "metadata": {
        "colab": {
          "base_uri": "https://localhost:8080/"
        },
        "id": "bezf7aFLLztY",
        "outputId": "050b1fef-2885-405f-91eb-535824f1ea4b"
      },
      "outputs": [
        {
          "output_type": "execute_result",
          "data": {
            "text/plain": [
              "2000"
            ]
          },
          "metadata": {},
          "execution_count": 153
        }
      ],
      "source": [
        "# Check number of NULL values in entire default_financial_data\n",
        "default_financial_data.isnull().sum().sum()"
      ]
    },
    {
      "cell_type": "code",
      "execution_count": 154,
      "metadata": {
        "colab": {
          "base_uri": "https://localhost:8080/"
        },
        "id": "x4RZXvankZpP",
        "outputId": "13f521b5-cf59-4fb5-a328-8b2aa27bb772"
      },
      "outputs": [
        {
          "output_type": "execute_result",
          "data": {
            "text/plain": [
              "LOAN_ID              0\n",
              "PD_RISK_RATING       0\n",
              "X1                   0\n",
              "X2                1000\n",
              "X3                   0\n",
              "X4                1000\n",
              "X5                   0\n",
              "X6                   0\n",
              "X7                   0\n",
              "X8                   0\n",
              "X9                   0\n",
              "X10                  0\n",
              "X11                  0\n",
              "X12                  0\n",
              "X13                  0\n",
              "X14                  0\n",
              "X15                  0\n",
              "Default_Ind          0\n",
              "dtype: int64"
            ]
          },
          "metadata": {},
          "execution_count": 154
        }
      ],
      "source": [
        "# Check number of NULL values for EACH COLUMN in default_financial_data\n",
        "default_financial_data.isnull().sum()"
      ]
    },
    {
      "cell_type": "code",
      "execution_count": 155,
      "metadata": {
        "id": "n_BMVCLu0cuf"
      },
      "outputs": [],
      "source": [
        "# Looks like Columns X2 and X4 are the ONLY columns with missing values hence need to fill them in using interpolation \n",
        "# based by the combination of PD_RISK_RATING and other CATEGORICAL features X1, X13, X14, X15 and target Default_Ind\n",
        "default_financial_data['X2'] = default_financial_data.groupby(['PD_RISK_RATING', 'X1', 'X13', 'X14', 'X15', 'Default_Ind'])['X2'].apply(lambda x: \n",
        "                                                                                                                         x.interpolate(method = 'linear'))\n",
        "default_financial_data['X4'] = default_financial_data.groupby(['PD_RISK_RATING', 'X1', 'X13', 'X14', 'X15', 'Default_Ind'])['X4'].apply(lambda x: \n",
        "                                                                                                                         x.interpolate(method = 'linear'))"
      ]
    },
    {
      "cell_type": "code",
      "execution_count": 156,
      "metadata": {
        "colab": {
          "base_uri": "https://localhost:8080/"
        },
        "id": "7gtVCYLT4Blo",
        "outputId": "f427c0f7-2638-4200-8c34-5fc0028423cc"
      },
      "outputs": [
        {
          "output_type": "execute_result",
          "data": {
            "text/plain": [
              "199"
            ]
          },
          "metadata": {},
          "execution_count": 156
        }
      ],
      "source": [
        "# Check number of NULL values in entire default_financial_data AFTER interpolation to make sure there are NO missing values present\n",
        "default_financial_data.isnull().sum().sum()"
      ]
    },
    {
      "cell_type": "code",
      "execution_count": 157,
      "metadata": {
        "id": "KNhM8gug-BZU"
      },
      "outputs": [],
      "source": [
        "# Since there are still some missing values, let's try to fill them in by interpolation \n",
        "# based by ONLY on PD_RISK_RATING\n",
        "default_financial_data['X2'] = default_financial_data.groupby(['PD_RISK_RATING'])['X2'].apply(lambda x: x.interpolate(method = 'linear'))\n",
        "default_financial_data['X4'] = default_financial_data.groupby(['PD_RISK_RATING'])['X4'].apply(lambda x: x.interpolate(method = 'linear'))"
      ]
    },
    {
      "cell_type": "code",
      "execution_count": 158,
      "metadata": {
        "colab": {
          "base_uri": "https://localhost:8080/"
        },
        "id": "mTFF5pQO-BdM",
        "outputId": "458ce468-6fe3-41c0-9b41-bb5c3f9d57ce"
      },
      "outputs": [
        {
          "output_type": "execute_result",
          "data": {
            "text/plain": [
              "6"
            ]
          },
          "metadata": {},
          "execution_count": 158
        }
      ],
      "source": [
        "# Let's us again Check number of NULL values in entire default_financial_data AFTER interpolation to make sure there are NO missing values present\n",
        "default_financial_data.isnull().sum().sum()"
      ]
    },
    {
      "cell_type": "code",
      "execution_count": 159,
      "metadata": {
        "id": "s--AJJvQ4BtU"
      },
      "outputs": [],
      "source": [
        "# Since there are still some missing values, let's fill them up by interpolation REGARDLESS of group(s)\n",
        "default_financial_data['X2'].interpolate(method = 'linear', inplace = True)\n",
        "default_financial_data['X4'].interpolate(method = 'linear', inplace = True)"
      ]
    },
    {
      "cell_type": "code",
      "execution_count": 160,
      "metadata": {
        "colab": {
          "base_uri": "https://localhost:8080/"
        },
        "id": "eU0_-uNE8_lk",
        "outputId": "f4233c6f-9c96-483b-8dfd-00b727b07502"
      },
      "outputs": [
        {
          "output_type": "execute_result",
          "data": {
            "text/plain": [
              "0"
            ]
          },
          "metadata": {},
          "execution_count": 160
        }
      ],
      "source": [
        "# Last time, Check number of NULL values in entire default_financial_data AFTER interpolation to make sure there are NO missing values present\n",
        "default_financial_data.isnull().sum().sum()"
      ]
    },
    {
      "cell_type": "markdown",
      "metadata": {
        "id": "vuu4vIi9MXsT"
      },
      "source": [
        "# **Data Analysis and Inference**"
      ]
    },
    {
      "cell_type": "code",
      "execution_count": 161,
      "metadata": {
        "colab": {
          "base_uri": "https://localhost:8080/",
          "height": 319
        },
        "id": "eSQgLaj4LzuQ",
        "outputId": "66df8e50-a71a-4d60-f4d0-0082bde93f06"
      },
      "outputs": [
        {
          "output_type": "execute_result",
          "data": {
            "text/plain": [
              "   LOAN_ID  PD_RISK_RATING                X1        X2        X3           X4  \\\n",
              "0  ZZZ0001               2               C&I  0.113703  0.795355  1156188.606   \n",
              "1  ZZZ0002               4     CRE Permanent  0.622299  0.364232  1101435.618   \n",
              "2  ZZZ0003               2  CRE Construction  0.609275  0.821238  1046682.630   \n",
              "3  ZZZ0004               1  CRE Construction  0.623379  0.613073  1085325.470   \n",
              "4  ZZZ0005               2  CRE Construction  0.860915  0.709228  1051378.694   \n",
              "\n",
              "         X5        X6          X7        X8         X9       X10       X11  \\\n",
              "0  0.090963  0.963879  120.606137  0.966454  -6.884990  0.195105  1.093855   \n",
              "1  0.497840  0.606212  109.621719  0.440733 -10.010214  1.600637  1.146797   \n",
              "2  0.487420  0.296746   94.520306  0.007491  10.726384  0.434792  1.050520   \n",
              "3  0.498704  0.641079   94.933871  0.910976   0.476127  0.341299  1.011261   \n",
              "4  0.688732  0.339430  106.331848  0.939269   0.251195  0.967834  1.002241   \n",
              "\n",
              "        X12 X13   X14  X15 Default_Ind  \n",
              "0  0.890361   C  T982  Yes           0  \n",
              "1  0.857632   B  X456  Yes           0  \n",
              "2  0.150828   B  T982  Yes           0  \n",
              "3  0.120293   B  T982   No           0  \n",
              "4  0.329663   B  R567  Yes           0  "
            ],
            "text/html": [
              "\n",
              "  <div id=\"df-77a97105-b3b0-4721-a96b-ce1ccede1fb5\">\n",
              "    <div class=\"colab-df-container\">\n",
              "      <div>\n",
              "<style scoped>\n",
              "    .dataframe tbody tr th:only-of-type {\n",
              "        vertical-align: middle;\n",
              "    }\n",
              "\n",
              "    .dataframe tbody tr th {\n",
              "        vertical-align: top;\n",
              "    }\n",
              "\n",
              "    .dataframe thead th {\n",
              "        text-align: right;\n",
              "    }\n",
              "</style>\n",
              "<table border=\"1\" class=\"dataframe\">\n",
              "  <thead>\n",
              "    <tr style=\"text-align: right;\">\n",
              "      <th></th>\n",
              "      <th>LOAN_ID</th>\n",
              "      <th>PD_RISK_RATING</th>\n",
              "      <th>X1</th>\n",
              "      <th>X2</th>\n",
              "      <th>X3</th>\n",
              "      <th>X4</th>\n",
              "      <th>X5</th>\n",
              "      <th>X6</th>\n",
              "      <th>X7</th>\n",
              "      <th>X8</th>\n",
              "      <th>X9</th>\n",
              "      <th>X10</th>\n",
              "      <th>X11</th>\n",
              "      <th>X12</th>\n",
              "      <th>X13</th>\n",
              "      <th>X14</th>\n",
              "      <th>X15</th>\n",
              "      <th>Default_Ind</th>\n",
              "    </tr>\n",
              "  </thead>\n",
              "  <tbody>\n",
              "    <tr>\n",
              "      <th>0</th>\n",
              "      <td>ZZZ0001</td>\n",
              "      <td>2</td>\n",
              "      <td>C&amp;I</td>\n",
              "      <td>0.113703</td>\n",
              "      <td>0.795355</td>\n",
              "      <td>1156188.606</td>\n",
              "      <td>0.090963</td>\n",
              "      <td>0.963879</td>\n",
              "      <td>120.606137</td>\n",
              "      <td>0.966454</td>\n",
              "      <td>-6.884990</td>\n",
              "      <td>0.195105</td>\n",
              "      <td>1.093855</td>\n",
              "      <td>0.890361</td>\n",
              "      <td>C</td>\n",
              "      <td>T982</td>\n",
              "      <td>Yes</td>\n",
              "      <td>0</td>\n",
              "    </tr>\n",
              "    <tr>\n",
              "      <th>1</th>\n",
              "      <td>ZZZ0002</td>\n",
              "      <td>4</td>\n",
              "      <td>CRE Permanent</td>\n",
              "      <td>0.622299</td>\n",
              "      <td>0.364232</td>\n",
              "      <td>1101435.618</td>\n",
              "      <td>0.497840</td>\n",
              "      <td>0.606212</td>\n",
              "      <td>109.621719</td>\n",
              "      <td>0.440733</td>\n",
              "      <td>-10.010214</td>\n",
              "      <td>1.600637</td>\n",
              "      <td>1.146797</td>\n",
              "      <td>0.857632</td>\n",
              "      <td>B</td>\n",
              "      <td>X456</td>\n",
              "      <td>Yes</td>\n",
              "      <td>0</td>\n",
              "    </tr>\n",
              "    <tr>\n",
              "      <th>2</th>\n",
              "      <td>ZZZ0003</td>\n",
              "      <td>2</td>\n",
              "      <td>CRE Construction</td>\n",
              "      <td>0.609275</td>\n",
              "      <td>0.821238</td>\n",
              "      <td>1046682.630</td>\n",
              "      <td>0.487420</td>\n",
              "      <td>0.296746</td>\n",
              "      <td>94.520306</td>\n",
              "      <td>0.007491</td>\n",
              "      <td>10.726384</td>\n",
              "      <td>0.434792</td>\n",
              "      <td>1.050520</td>\n",
              "      <td>0.150828</td>\n",
              "      <td>B</td>\n",
              "      <td>T982</td>\n",
              "      <td>Yes</td>\n",
              "      <td>0</td>\n",
              "    </tr>\n",
              "    <tr>\n",
              "      <th>3</th>\n",
              "      <td>ZZZ0004</td>\n",
              "      <td>1</td>\n",
              "      <td>CRE Construction</td>\n",
              "      <td>0.623379</td>\n",
              "      <td>0.613073</td>\n",
              "      <td>1085325.470</td>\n",
              "      <td>0.498704</td>\n",
              "      <td>0.641079</td>\n",
              "      <td>94.933871</td>\n",
              "      <td>0.910976</td>\n",
              "      <td>0.476127</td>\n",
              "      <td>0.341299</td>\n",
              "      <td>1.011261</td>\n",
              "      <td>0.120293</td>\n",
              "      <td>B</td>\n",
              "      <td>T982</td>\n",
              "      <td>No</td>\n",
              "      <td>0</td>\n",
              "    </tr>\n",
              "    <tr>\n",
              "      <th>4</th>\n",
              "      <td>ZZZ0005</td>\n",
              "      <td>2</td>\n",
              "      <td>CRE Construction</td>\n",
              "      <td>0.860915</td>\n",
              "      <td>0.709228</td>\n",
              "      <td>1051378.694</td>\n",
              "      <td>0.688732</td>\n",
              "      <td>0.339430</td>\n",
              "      <td>106.331848</td>\n",
              "      <td>0.939269</td>\n",
              "      <td>0.251195</td>\n",
              "      <td>0.967834</td>\n",
              "      <td>1.002241</td>\n",
              "      <td>0.329663</td>\n",
              "      <td>B</td>\n",
              "      <td>R567</td>\n",
              "      <td>Yes</td>\n",
              "      <td>0</td>\n",
              "    </tr>\n",
              "  </tbody>\n",
              "</table>\n",
              "</div>\n",
              "      <button class=\"colab-df-convert\" onclick=\"convertToInteractive('df-77a97105-b3b0-4721-a96b-ce1ccede1fb5')\"\n",
              "              title=\"Convert this dataframe to an interactive table.\"\n",
              "              style=\"display:none;\">\n",
              "        \n",
              "  <svg xmlns=\"http://www.w3.org/2000/svg\" height=\"24px\"viewBox=\"0 0 24 24\"\n",
              "       width=\"24px\">\n",
              "    <path d=\"M0 0h24v24H0V0z\" fill=\"none\"/>\n",
              "    <path d=\"M18.56 5.44l.94 2.06.94-2.06 2.06-.94-2.06-.94-.94-2.06-.94 2.06-2.06.94zm-11 1L8.5 8.5l.94-2.06 2.06-.94-2.06-.94L8.5 2.5l-.94 2.06-2.06.94zm10 10l.94 2.06.94-2.06 2.06-.94-2.06-.94-.94-2.06-.94 2.06-2.06.94z\"/><path d=\"M17.41 7.96l-1.37-1.37c-.4-.4-.92-.59-1.43-.59-.52 0-1.04.2-1.43.59L10.3 9.45l-7.72 7.72c-.78.78-.78 2.05 0 2.83L4 21.41c.39.39.9.59 1.41.59.51 0 1.02-.2 1.41-.59l7.78-7.78 2.81-2.81c.8-.78.8-2.07 0-2.86zM5.41 20L4 18.59l7.72-7.72 1.47 1.35L5.41 20z\"/>\n",
              "  </svg>\n",
              "      </button>\n",
              "      \n",
              "  <style>\n",
              "    .colab-df-container {\n",
              "      display:flex;\n",
              "      flex-wrap:wrap;\n",
              "      gap: 12px;\n",
              "    }\n",
              "\n",
              "    .colab-df-convert {\n",
              "      background-color: #E8F0FE;\n",
              "      border: none;\n",
              "      border-radius: 50%;\n",
              "      cursor: pointer;\n",
              "      display: none;\n",
              "      fill: #1967D2;\n",
              "      height: 32px;\n",
              "      padding: 0 0 0 0;\n",
              "      width: 32px;\n",
              "    }\n",
              "\n",
              "    .colab-df-convert:hover {\n",
              "      background-color: #E2EBFA;\n",
              "      box-shadow: 0px 1px 2px rgba(60, 64, 67, 0.3), 0px 1px 3px 1px rgba(60, 64, 67, 0.15);\n",
              "      fill: #174EA6;\n",
              "    }\n",
              "\n",
              "    [theme=dark] .colab-df-convert {\n",
              "      background-color: #3B4455;\n",
              "      fill: #D2E3FC;\n",
              "    }\n",
              "\n",
              "    [theme=dark] .colab-df-convert:hover {\n",
              "      background-color: #434B5C;\n",
              "      box-shadow: 0px 1px 3px 1px rgba(0, 0, 0, 0.15);\n",
              "      filter: drop-shadow(0px 1px 2px rgba(0, 0, 0, 0.3));\n",
              "      fill: #FFFFFF;\n",
              "    }\n",
              "  </style>\n",
              "\n",
              "      <script>\n",
              "        const buttonEl =\n",
              "          document.querySelector('#df-77a97105-b3b0-4721-a96b-ce1ccede1fb5 button.colab-df-convert');\n",
              "        buttonEl.style.display =\n",
              "          google.colab.kernel.accessAllowed ? 'block' : 'none';\n",
              "\n",
              "        async function convertToInteractive(key) {\n",
              "          const element = document.querySelector('#df-77a97105-b3b0-4721-a96b-ce1ccede1fb5');\n",
              "          const dataTable =\n",
              "            await google.colab.kernel.invokeFunction('convertToInteractive',\n",
              "                                                     [key], {});\n",
              "          if (!dataTable) return;\n",
              "\n",
              "          const docLinkHtml = 'Like what you see? Visit the ' +\n",
              "            '<a target=\"_blank\" href=https://colab.research.google.com/notebooks/data_table.ipynb>data table notebook</a>'\n",
              "            + ' to learn more about interactive tables.';\n",
              "          element.innerHTML = '';\n",
              "          dataTable['output_type'] = 'display_data';\n",
              "          await google.colab.output.renderOutput(dataTable, element);\n",
              "          const docLink = document.createElement('div');\n",
              "          docLink.innerHTML = docLinkHtml;\n",
              "          element.appendChild(docLink);\n",
              "        }\n",
              "      </script>\n",
              "    </div>\n",
              "  </div>\n",
              "  "
            ]
          },
          "metadata": {},
          "execution_count": 161
        }
      ],
      "source": [
        "# Inspecting first 5 rows of default_financial_data \n",
        "default_financial_data.head()"
      ]
    },
    {
      "cell_type": "code",
      "execution_count": 162,
      "metadata": {
        "colab": {
          "base_uri": "https://localhost:8080/",
          "height": 300
        },
        "id": "5nXZJV0ZLztZ",
        "outputId": "6fccc966-eb5f-42c5-e8ea-68e82b2d24c6"
      },
      "outputs": [
        {
          "output_type": "execute_result",
          "data": {
            "text/plain": [
              "       PD_RISK_RATING            X2            X3            X4            X5  \\\n",
              "count    10000.000000  10000.000000  10000.000000  1.000000e+04  10000.000000   \n",
              "mean         2.989500      0.501617      0.500171  9.990328e+05      0.400250   \n",
              "std          1.925035      0.281571      0.334494  9.939076e+04      0.229641   \n",
              "min          1.000000      0.000342      0.000148  6.449835e+05      0.000273   \n",
              "25%          1.000000      0.262338      0.250202  9.300804e+05      0.201990   \n",
              "50%          2.000000      0.504040      0.495737  9.996297e+05      0.401013   \n",
              "75%          4.000000      0.739886      0.743321  1.066265e+06      0.597996   \n",
              "max         10.000000      0.999594     10.124300  1.372729e+06      0.799675   \n",
              "\n",
              "                 X6            X7            X8            X9           X10  \\\n",
              "count  10000.000000  10000.000000  10000.000000  10000.000000  10000.000000   \n",
              "mean       0.495674    100.075516      0.501907     -0.042591      1.631563   \n",
              "std        0.290899     10.095165      0.287536      4.994273      2.192588   \n",
              "min        0.000065     61.657742      0.000221    -21.008133      0.025342   \n",
              "25%        0.242502     93.379452      0.255243     -3.459185      0.506945   \n",
              "50%        0.491026    100.141522      0.502186     -0.035816      0.996286   \n",
              "75%        0.749245    106.787248      0.753215      3.339370      1.928394   \n",
              "max        0.999974    136.910817      0.999973     20.234146     40.065646   \n",
              "\n",
              "                X11           X12  \n",
              "count  10000.000000  10000.000000  \n",
              "mean       1.143796      0.500427  \n",
              "std        0.164127      0.291116  \n",
              "min        1.000012      0.000040  \n",
              "25%        1.036493      0.245411  \n",
              "50%        1.091469      0.497968  \n",
              "75%        1.191380      0.756650  \n",
              "max        2.994919      0.999975  "
            ],
            "text/html": [
              "\n",
              "  <div id=\"df-cd5431e5-7506-4d9f-90a4-5ea44d72cf3f\">\n",
              "    <div class=\"colab-df-container\">\n",
              "      <div>\n",
              "<style scoped>\n",
              "    .dataframe tbody tr th:only-of-type {\n",
              "        vertical-align: middle;\n",
              "    }\n",
              "\n",
              "    .dataframe tbody tr th {\n",
              "        vertical-align: top;\n",
              "    }\n",
              "\n",
              "    .dataframe thead th {\n",
              "        text-align: right;\n",
              "    }\n",
              "</style>\n",
              "<table border=\"1\" class=\"dataframe\">\n",
              "  <thead>\n",
              "    <tr style=\"text-align: right;\">\n",
              "      <th></th>\n",
              "      <th>PD_RISK_RATING</th>\n",
              "      <th>X2</th>\n",
              "      <th>X3</th>\n",
              "      <th>X4</th>\n",
              "      <th>X5</th>\n",
              "      <th>X6</th>\n",
              "      <th>X7</th>\n",
              "      <th>X8</th>\n",
              "      <th>X9</th>\n",
              "      <th>X10</th>\n",
              "      <th>X11</th>\n",
              "      <th>X12</th>\n",
              "    </tr>\n",
              "  </thead>\n",
              "  <tbody>\n",
              "    <tr>\n",
              "      <th>count</th>\n",
              "      <td>10000.000000</td>\n",
              "      <td>10000.000000</td>\n",
              "      <td>10000.000000</td>\n",
              "      <td>1.000000e+04</td>\n",
              "      <td>10000.000000</td>\n",
              "      <td>10000.000000</td>\n",
              "      <td>10000.000000</td>\n",
              "      <td>10000.000000</td>\n",
              "      <td>10000.000000</td>\n",
              "      <td>10000.000000</td>\n",
              "      <td>10000.000000</td>\n",
              "      <td>10000.000000</td>\n",
              "    </tr>\n",
              "    <tr>\n",
              "      <th>mean</th>\n",
              "      <td>2.989500</td>\n",
              "      <td>0.501617</td>\n",
              "      <td>0.500171</td>\n",
              "      <td>9.990328e+05</td>\n",
              "      <td>0.400250</td>\n",
              "      <td>0.495674</td>\n",
              "      <td>100.075516</td>\n",
              "      <td>0.501907</td>\n",
              "      <td>-0.042591</td>\n",
              "      <td>1.631563</td>\n",
              "      <td>1.143796</td>\n",
              "      <td>0.500427</td>\n",
              "    </tr>\n",
              "    <tr>\n",
              "      <th>std</th>\n",
              "      <td>1.925035</td>\n",
              "      <td>0.281571</td>\n",
              "      <td>0.334494</td>\n",
              "      <td>9.939076e+04</td>\n",
              "      <td>0.229641</td>\n",
              "      <td>0.290899</td>\n",
              "      <td>10.095165</td>\n",
              "      <td>0.287536</td>\n",
              "      <td>4.994273</td>\n",
              "      <td>2.192588</td>\n",
              "      <td>0.164127</td>\n",
              "      <td>0.291116</td>\n",
              "    </tr>\n",
              "    <tr>\n",
              "      <th>min</th>\n",
              "      <td>1.000000</td>\n",
              "      <td>0.000342</td>\n",
              "      <td>0.000148</td>\n",
              "      <td>6.449835e+05</td>\n",
              "      <td>0.000273</td>\n",
              "      <td>0.000065</td>\n",
              "      <td>61.657742</td>\n",
              "      <td>0.000221</td>\n",
              "      <td>-21.008133</td>\n",
              "      <td>0.025342</td>\n",
              "      <td>1.000012</td>\n",
              "      <td>0.000040</td>\n",
              "    </tr>\n",
              "    <tr>\n",
              "      <th>25%</th>\n",
              "      <td>1.000000</td>\n",
              "      <td>0.262338</td>\n",
              "      <td>0.250202</td>\n",
              "      <td>9.300804e+05</td>\n",
              "      <td>0.201990</td>\n",
              "      <td>0.242502</td>\n",
              "      <td>93.379452</td>\n",
              "      <td>0.255243</td>\n",
              "      <td>-3.459185</td>\n",
              "      <td>0.506945</td>\n",
              "      <td>1.036493</td>\n",
              "      <td>0.245411</td>\n",
              "    </tr>\n",
              "    <tr>\n",
              "      <th>50%</th>\n",
              "      <td>2.000000</td>\n",
              "      <td>0.504040</td>\n",
              "      <td>0.495737</td>\n",
              "      <td>9.996297e+05</td>\n",
              "      <td>0.401013</td>\n",
              "      <td>0.491026</td>\n",
              "      <td>100.141522</td>\n",
              "      <td>0.502186</td>\n",
              "      <td>-0.035816</td>\n",
              "      <td>0.996286</td>\n",
              "      <td>1.091469</td>\n",
              "      <td>0.497968</td>\n",
              "    </tr>\n",
              "    <tr>\n",
              "      <th>75%</th>\n",
              "      <td>4.000000</td>\n",
              "      <td>0.739886</td>\n",
              "      <td>0.743321</td>\n",
              "      <td>1.066265e+06</td>\n",
              "      <td>0.597996</td>\n",
              "      <td>0.749245</td>\n",
              "      <td>106.787248</td>\n",
              "      <td>0.753215</td>\n",
              "      <td>3.339370</td>\n",
              "      <td>1.928394</td>\n",
              "      <td>1.191380</td>\n",
              "      <td>0.756650</td>\n",
              "    </tr>\n",
              "    <tr>\n",
              "      <th>max</th>\n",
              "      <td>10.000000</td>\n",
              "      <td>0.999594</td>\n",
              "      <td>10.124300</td>\n",
              "      <td>1.372729e+06</td>\n",
              "      <td>0.799675</td>\n",
              "      <td>0.999974</td>\n",
              "      <td>136.910817</td>\n",
              "      <td>0.999973</td>\n",
              "      <td>20.234146</td>\n",
              "      <td>40.065646</td>\n",
              "      <td>2.994919</td>\n",
              "      <td>0.999975</td>\n",
              "    </tr>\n",
              "  </tbody>\n",
              "</table>\n",
              "</div>\n",
              "      <button class=\"colab-df-convert\" onclick=\"convertToInteractive('df-cd5431e5-7506-4d9f-90a4-5ea44d72cf3f')\"\n",
              "              title=\"Convert this dataframe to an interactive table.\"\n",
              "              style=\"display:none;\">\n",
              "        \n",
              "  <svg xmlns=\"http://www.w3.org/2000/svg\" height=\"24px\"viewBox=\"0 0 24 24\"\n",
              "       width=\"24px\">\n",
              "    <path d=\"M0 0h24v24H0V0z\" fill=\"none\"/>\n",
              "    <path d=\"M18.56 5.44l.94 2.06.94-2.06 2.06-.94-2.06-.94-.94-2.06-.94 2.06-2.06.94zm-11 1L8.5 8.5l.94-2.06 2.06-.94-2.06-.94L8.5 2.5l-.94 2.06-2.06.94zm10 10l.94 2.06.94-2.06 2.06-.94-2.06-.94-.94-2.06-.94 2.06-2.06.94z\"/><path d=\"M17.41 7.96l-1.37-1.37c-.4-.4-.92-.59-1.43-.59-.52 0-1.04.2-1.43.59L10.3 9.45l-7.72 7.72c-.78.78-.78 2.05 0 2.83L4 21.41c.39.39.9.59 1.41.59.51 0 1.02-.2 1.41-.59l7.78-7.78 2.81-2.81c.8-.78.8-2.07 0-2.86zM5.41 20L4 18.59l7.72-7.72 1.47 1.35L5.41 20z\"/>\n",
              "  </svg>\n",
              "      </button>\n",
              "      \n",
              "  <style>\n",
              "    .colab-df-container {\n",
              "      display:flex;\n",
              "      flex-wrap:wrap;\n",
              "      gap: 12px;\n",
              "    }\n",
              "\n",
              "    .colab-df-convert {\n",
              "      background-color: #E8F0FE;\n",
              "      border: none;\n",
              "      border-radius: 50%;\n",
              "      cursor: pointer;\n",
              "      display: none;\n",
              "      fill: #1967D2;\n",
              "      height: 32px;\n",
              "      padding: 0 0 0 0;\n",
              "      width: 32px;\n",
              "    }\n",
              "\n",
              "    .colab-df-convert:hover {\n",
              "      background-color: #E2EBFA;\n",
              "      box-shadow: 0px 1px 2px rgba(60, 64, 67, 0.3), 0px 1px 3px 1px rgba(60, 64, 67, 0.15);\n",
              "      fill: #174EA6;\n",
              "    }\n",
              "\n",
              "    [theme=dark] .colab-df-convert {\n",
              "      background-color: #3B4455;\n",
              "      fill: #D2E3FC;\n",
              "    }\n",
              "\n",
              "    [theme=dark] .colab-df-convert:hover {\n",
              "      background-color: #434B5C;\n",
              "      box-shadow: 0px 1px 3px 1px rgba(0, 0, 0, 0.15);\n",
              "      filter: drop-shadow(0px 1px 2px rgba(0, 0, 0, 0.3));\n",
              "      fill: #FFFFFF;\n",
              "    }\n",
              "  </style>\n",
              "\n",
              "      <script>\n",
              "        const buttonEl =\n",
              "          document.querySelector('#df-cd5431e5-7506-4d9f-90a4-5ea44d72cf3f button.colab-df-convert');\n",
              "        buttonEl.style.display =\n",
              "          google.colab.kernel.accessAllowed ? 'block' : 'none';\n",
              "\n",
              "        async function convertToInteractive(key) {\n",
              "          const element = document.querySelector('#df-cd5431e5-7506-4d9f-90a4-5ea44d72cf3f');\n",
              "          const dataTable =\n",
              "            await google.colab.kernel.invokeFunction('convertToInteractive',\n",
              "                                                     [key], {});\n",
              "          if (!dataTable) return;\n",
              "\n",
              "          const docLinkHtml = 'Like what you see? Visit the ' +\n",
              "            '<a target=\"_blank\" href=https://colab.research.google.com/notebooks/data_table.ipynb>data table notebook</a>'\n",
              "            + ' to learn more about interactive tables.';\n",
              "          element.innerHTML = '';\n",
              "          dataTable['output_type'] = 'display_data';\n",
              "          await google.colab.output.renderOutput(dataTable, element);\n",
              "          const docLink = document.createElement('div');\n",
              "          docLink.innerHTML = docLinkHtml;\n",
              "          element.appendChild(docLink);\n",
              "        }\n",
              "      </script>\n",
              "    </div>\n",
              "  </div>\n",
              "  "
            ]
          },
          "metadata": {},
          "execution_count": 162
        }
      ],
      "source": [
        "# Describe the default_financial_data \n",
        "default_financial_data.describe()"
      ]
    },
    {
      "cell_type": "markdown",
      "metadata": {
        "id": "Ki3ilyRXQDGn"
      },
      "source": [
        "### **Categories for PD_RISK_RATING**"
      ]
    },
    {
      "cell_type": "code",
      "execution_count": 163,
      "metadata": {
        "colab": {
          "base_uri": "https://localhost:8080/",
          "height": 394
        },
        "id": "ZO0FVjcpQNT7",
        "outputId": "b2d17851-c9d8-4c46-dbdc-e7e0a935a121"
      },
      "outputs": [
        {
          "output_type": "execute_result",
          "data": {
            "text/plain": [
              "                PD_RISK_RATING\n",
              "PD_RISK_RATING                \n",
              "1                         2748\n",
              "2                         2595\n",
              "3                         1069\n",
              "4                         1164\n",
              "5                         1447\n",
              "6                          325\n",
              "7                          332\n",
              "8                          297\n",
              "9                           21\n",
              "10                           2"
            ],
            "text/html": [
              "\n",
              "  <div id=\"df-1c63bd4f-01a8-416e-805b-28055ddaaba4\">\n",
              "    <div class=\"colab-df-container\">\n",
              "      <div>\n",
              "<style scoped>\n",
              "    .dataframe tbody tr th:only-of-type {\n",
              "        vertical-align: middle;\n",
              "    }\n",
              "\n",
              "    .dataframe tbody tr th {\n",
              "        vertical-align: top;\n",
              "    }\n",
              "\n",
              "    .dataframe thead th {\n",
              "        text-align: right;\n",
              "    }\n",
              "</style>\n",
              "<table border=\"1\" class=\"dataframe\">\n",
              "  <thead>\n",
              "    <tr style=\"text-align: right;\">\n",
              "      <th></th>\n",
              "      <th>PD_RISK_RATING</th>\n",
              "    </tr>\n",
              "    <tr>\n",
              "      <th>PD_RISK_RATING</th>\n",
              "      <th></th>\n",
              "    </tr>\n",
              "  </thead>\n",
              "  <tbody>\n",
              "    <tr>\n",
              "      <th>1</th>\n",
              "      <td>2748</td>\n",
              "    </tr>\n",
              "    <tr>\n",
              "      <th>2</th>\n",
              "      <td>2595</td>\n",
              "    </tr>\n",
              "    <tr>\n",
              "      <th>3</th>\n",
              "      <td>1069</td>\n",
              "    </tr>\n",
              "    <tr>\n",
              "      <th>4</th>\n",
              "      <td>1164</td>\n",
              "    </tr>\n",
              "    <tr>\n",
              "      <th>5</th>\n",
              "      <td>1447</td>\n",
              "    </tr>\n",
              "    <tr>\n",
              "      <th>6</th>\n",
              "      <td>325</td>\n",
              "    </tr>\n",
              "    <tr>\n",
              "      <th>7</th>\n",
              "      <td>332</td>\n",
              "    </tr>\n",
              "    <tr>\n",
              "      <th>8</th>\n",
              "      <td>297</td>\n",
              "    </tr>\n",
              "    <tr>\n",
              "      <th>9</th>\n",
              "      <td>21</td>\n",
              "    </tr>\n",
              "    <tr>\n",
              "      <th>10</th>\n",
              "      <td>2</td>\n",
              "    </tr>\n",
              "  </tbody>\n",
              "</table>\n",
              "</div>\n",
              "      <button class=\"colab-df-convert\" onclick=\"convertToInteractive('df-1c63bd4f-01a8-416e-805b-28055ddaaba4')\"\n",
              "              title=\"Convert this dataframe to an interactive table.\"\n",
              "              style=\"display:none;\">\n",
              "        \n",
              "  <svg xmlns=\"http://www.w3.org/2000/svg\" height=\"24px\"viewBox=\"0 0 24 24\"\n",
              "       width=\"24px\">\n",
              "    <path d=\"M0 0h24v24H0V0z\" fill=\"none\"/>\n",
              "    <path d=\"M18.56 5.44l.94 2.06.94-2.06 2.06-.94-2.06-.94-.94-2.06-.94 2.06-2.06.94zm-11 1L8.5 8.5l.94-2.06 2.06-.94-2.06-.94L8.5 2.5l-.94 2.06-2.06.94zm10 10l.94 2.06.94-2.06 2.06-.94-2.06-.94-.94-2.06-.94 2.06-2.06.94z\"/><path d=\"M17.41 7.96l-1.37-1.37c-.4-.4-.92-.59-1.43-.59-.52 0-1.04.2-1.43.59L10.3 9.45l-7.72 7.72c-.78.78-.78 2.05 0 2.83L4 21.41c.39.39.9.59 1.41.59.51 0 1.02-.2 1.41-.59l7.78-7.78 2.81-2.81c.8-.78.8-2.07 0-2.86zM5.41 20L4 18.59l7.72-7.72 1.47 1.35L5.41 20z\"/>\n",
              "  </svg>\n",
              "      </button>\n",
              "      \n",
              "  <style>\n",
              "    .colab-df-container {\n",
              "      display:flex;\n",
              "      flex-wrap:wrap;\n",
              "      gap: 12px;\n",
              "    }\n",
              "\n",
              "    .colab-df-convert {\n",
              "      background-color: #E8F0FE;\n",
              "      border: none;\n",
              "      border-radius: 50%;\n",
              "      cursor: pointer;\n",
              "      display: none;\n",
              "      fill: #1967D2;\n",
              "      height: 32px;\n",
              "      padding: 0 0 0 0;\n",
              "      width: 32px;\n",
              "    }\n",
              "\n",
              "    .colab-df-convert:hover {\n",
              "      background-color: #E2EBFA;\n",
              "      box-shadow: 0px 1px 2px rgba(60, 64, 67, 0.3), 0px 1px 3px 1px rgba(60, 64, 67, 0.15);\n",
              "      fill: #174EA6;\n",
              "    }\n",
              "\n",
              "    [theme=dark] .colab-df-convert {\n",
              "      background-color: #3B4455;\n",
              "      fill: #D2E3FC;\n",
              "    }\n",
              "\n",
              "    [theme=dark] .colab-df-convert:hover {\n",
              "      background-color: #434B5C;\n",
              "      box-shadow: 0px 1px 3px 1px rgba(0, 0, 0, 0.15);\n",
              "      filter: drop-shadow(0px 1px 2px rgba(0, 0, 0, 0.3));\n",
              "      fill: #FFFFFF;\n",
              "    }\n",
              "  </style>\n",
              "\n",
              "      <script>\n",
              "        const buttonEl =\n",
              "          document.querySelector('#df-1c63bd4f-01a8-416e-805b-28055ddaaba4 button.colab-df-convert');\n",
              "        buttonEl.style.display =\n",
              "          google.colab.kernel.accessAllowed ? 'block' : 'none';\n",
              "\n",
              "        async function convertToInteractive(key) {\n",
              "          const element = document.querySelector('#df-1c63bd4f-01a8-416e-805b-28055ddaaba4');\n",
              "          const dataTable =\n",
              "            await google.colab.kernel.invokeFunction('convertToInteractive',\n",
              "                                                     [key], {});\n",
              "          if (!dataTable) return;\n",
              "\n",
              "          const docLinkHtml = 'Like what you see? Visit the ' +\n",
              "            '<a target=\"_blank\" href=https://colab.research.google.com/notebooks/data_table.ipynb>data table notebook</a>'\n",
              "            + ' to learn more about interactive tables.';\n",
              "          element.innerHTML = '';\n",
              "          dataTable['output_type'] = 'display_data';\n",
              "          await google.colab.output.renderOutput(dataTable, element);\n",
              "          const docLink = document.createElement('div');\n",
              "          docLink.innerHTML = docLinkHtml;\n",
              "          element.appendChild(docLink);\n",
              "        }\n",
              "      </script>\n",
              "    </div>\n",
              "  </div>\n",
              "  "
            ]
          },
          "metadata": {},
          "execution_count": 163
        }
      ],
      "source": [
        "# Number of Observations for each Category in Column X1\n",
        "pd.DataFrame(default_financial_data.groupby('PD_RISK_RATING')['PD_RISK_RATING'].count())"
      ]
    },
    {
      "cell_type": "code",
      "execution_count": 164,
      "metadata": {
        "colab": {
          "base_uri": "https://localhost:8080/",
          "height": 314
        },
        "id": "sK_8bd1pPJBS",
        "outputId": "2cc5210d-0b72-450b-d9b6-a6a60af4127d"
      },
      "outputs": [
        {
          "output_type": "execute_result",
          "data": {
            "text/plain": [
              "Text(0, 0.5, 'Frequency')"
            ]
          },
          "metadata": {},
          "execution_count": 164
        },
        {
          "output_type": "display_data",
          "data": {
            "text/plain": [
              "<Figure size 432x288 with 1 Axes>"
            ],
            "image/png": "[encoded data removed]"
          },
          "metadata": {
            "needs_background": "light"
          }
        }
      ],
      "source": [
        "sns.countplot(x='PD_RISK_RATING', data=default_financial_data)\n",
        "plt.title(\"Frequency of Observations Based by PD_RISK_RATING\")\n",
        "plt.ylabel(\"Frequency\")"
      ]
    },
    {
      "cell_type": "markdown",
      "metadata": {
        "id": "e2bfn3_wzOO9"
      },
      "source": [
        "### **List of Categories for Default_Ind Target Variable Column**\n",
        "\n",
        "### **NOTE: This is an IMBALANCED Binary Classification Dataset**\n"
      ]
    },
    {
      "cell_type": "code",
      "execution_count": 165,
      "metadata": {
        "colab": {
          "base_uri": "https://localhost:8080/",
          "height": 143
        },
        "id": "gB1iQzyRzHn7",
        "outputId": "0c65e122-3120-419e-c3dd-70afc2e6ec60"
      },
      "outputs": [
        {
          "output_type": "execute_result",
          "data": {
            "text/plain": [
              "             Default_Ind\n",
              "Default_Ind             \n",
              "0                   9871\n",
              "1                    129"
            ],
            "text/html": [
              "\n",
              "  <div id=\"df-ed1c2174-45a1-4dc8-982d-0041c451bf18\">\n",
              "    <div class=\"colab-df-container\">\n",
              "      <div>\n",
              "<style scoped>\n",
              "    .dataframe tbody tr th:only-of-type {\n",
              "        vertical-align: middle;\n",
              "    }\n",
              "\n",
              "    .dataframe tbody tr th {\n",
              "        vertical-align: top;\n",
              "    }\n",
              "\n",
              "    .dataframe thead th {\n",
              "        text-align: right;\n",
              "    }\n",
              "</style>\n",
              "<table border=\"1\" class=\"dataframe\">\n",
              "  <thead>\n",
              "    <tr style=\"text-align: right;\">\n",
              "      <th></th>\n",
              "      <th>Default_Ind</th>\n",
              "    </tr>\n",
              "    <tr>\n",
              "      <th>Default_Ind</th>\n",
              "      <th></th>\n",
              "    </tr>\n",
              "  </thead>\n",
              "  <tbody>\n",
              "    <tr>\n",
              "      <th>0</th>\n",
              "      <td>9871</td>\n",
              "    </tr>\n",
              "    <tr>\n",
              "      <th>1</th>\n",
              "      <td>129</td>\n",
              "    </tr>\n",
              "  </tbody>\n",
              "</table>\n",
              "</div>\n",
              "      <button class=\"colab-df-convert\" onclick=\"convertToInteractive('df-ed1c2174-45a1-4dc8-982d-0041c451bf18')\"\n",
              "              title=\"Convert this dataframe to an interactive table.\"\n",
              "              style=\"display:none;\">\n",
              "        \n",
              "  <svg xmlns=\"http://www.w3.org/2000/svg\" height=\"24px\"viewBox=\"0 0 24 24\"\n",
              "       width=\"24px\">\n",
              "    <path d=\"M0 0h24v24H0V0z\" fill=\"none\"/>\n",
              "    <path d=\"M18.56 5.44l.94 2.06.94-2.06 2.06-.94-2.06-.94-.94-2.06-.94 2.06-2.06.94zm-11 1L8.5 8.5l.94-2.06 2.06-.94-2.06-.94L8.5 2.5l-.94 2.06-2.06.94zm10 10l.94 2.06.94-2.06 2.06-.94-2.06-.94-.94-2.06-.94 2.06-2.06.94z\"/><path d=\"M17.41 7.96l-1.37-1.37c-.4-.4-.92-.59-1.43-.59-.52 0-1.04.2-1.43.59L10.3 9.45l-7.72 7.72c-.78.78-.78 2.05 0 2.83L4 21.41c.39.39.9.59 1.41.59.51 0 1.02-.2 1.41-.59l7.78-7.78 2.81-2.81c.8-.78.8-2.07 0-2.86zM5.41 20L4 18.59l7.72-7.72 1.47 1.35L5.41 20z\"/>\n",
              "  </svg>\n",
              "      </button>\n",
              "      \n",
              "  <style>\n",
              "    .colab-df-container {\n",
              "      display:flex;\n",
              "      flex-wrap:wrap;\n",
              "      gap: 12px;\n",
              "    }\n",
              "\n",
              "    .colab-df-convert {\n",
              "      background-color: #E8F0FE;\n",
              "      border: none;\n",
              "      border-radius: 50%;\n",
              "      cursor: pointer;\n",
              "      display: none;\n",
              "      fill: #1967D2;\n",
              "      height: 32px;\n",
              "      padding: 0 0 0 0;\n",
              "      width: 32px;\n",
              "    }\n",
              "\n",
              "    .colab-df-convert:hover {\n",
              "      background-color: #E2EBFA;\n",
              "      box-shadow: 0px 1px 2px rgba(60, 64, 67, 0.3), 0px 1px 3px 1px rgba(60, 64, 67, 0.15);\n",
              "      fill: #174EA6;\n",
              "    }\n",
              "\n",
              "    [theme=dark] .colab-df-convert {\n",
              "      background-color: #3B4455;\n",
              "      fill: #D2E3FC;\n",
              "    }\n",
              "\n",
              "    [theme=dark] .colab-df-convert:hover {\n",
              "      background-color: #434B5C;\n",
              "      box-shadow: 0px 1px 3px 1px rgba(0, 0, 0, 0.15);\n",
              "      filter: drop-shadow(0px 1px 2px rgba(0, 0, 0, 0.3));\n",
              "      fill: #FFFFFF;\n",
              "    }\n",
              "  </style>\n",
              "\n",
              "      <script>\n",
              "        const buttonEl =\n",
              "          document.querySelector('#df-ed1c2174-45a1-4dc8-982d-0041c451bf18 button.colab-df-convert');\n",
              "        buttonEl.style.display =\n",
              "          google.colab.kernel.accessAllowed ? 'block' : 'none';\n",
              "\n",
              "        async function convertToInteractive(key) {\n",
              "          const element = document.querySelector('#df-ed1c2174-45a1-4dc8-982d-0041c451bf18');\n",
              "          const dataTable =\n",
              "            await google.colab.kernel.invokeFunction('convertToInteractive',\n",
              "                                                     [key], {});\n",
              "          if (!dataTable) return;\n",
              "\n",
              "          const docLinkHtml = 'Like what you see? Visit the ' +\n",
              "            '<a target=\"_blank\" href=https://colab.research.google.com/notebooks/data_table.ipynb>data table notebook</a>'\n",
              "            + ' to learn more about interactive tables.';\n",
              "          element.innerHTML = '';\n",
              "          dataTable['output_type'] = 'display_data';\n",
              "          await google.colab.output.renderOutput(dataTable, element);\n",
              "          const docLink = document.createElement('div');\n",
              "          docLink.innerHTML = docLinkHtml;\n",
              "          element.appendChild(docLink);\n",
              "        }\n",
              "      </script>\n",
              "    </div>\n",
              "  </div>\n",
              "  "
            ]
          },
          "metadata": {},
          "execution_count": 165
        }
      ],
      "source": [
        "# Number of Observations for each Category in Column X1\n",
        "pd.DataFrame(default_financial_data.groupby('Default_Ind')['Default_Ind'].count())"
      ]
    },
    {
      "cell_type": "code",
      "execution_count": 166,
      "metadata": {
        "colab": {
          "base_uri": "https://localhost:8080/",
          "height": 314
        },
        "id": "ZAYrW4HgOyux",
        "outputId": "97d5a76f-cb0a-4642-d947-cf040deca161"
      },
      "outputs": [
        {
          "output_type": "execute_result",
          "data": {
            "text/plain": [
              "Text(0, 0.5, 'Frequency')"
            ]
          },
          "metadata": {},
          "execution_count": 166
        },
        {
          "output_type": "display_data",
          "data": {
            "text/plain": [
              "<Figure size 432x288 with 1 Axes>"
            ],
            "image/png": "[encoded data removed]"
          },
          "metadata": {
            "needs_background": "light"
          }
        }
      ],
      "source": [
        "sns.countplot(x='Default_Ind', data=default_financial_data)\n",
        "plt.title(\"Frequency of Observations Based by Default_Ind\")\n",
        "plt.ylabel(\"Frequency\")"
      ]
    },
    {
      "cell_type": "markdown",
      "metadata": {
        "id": "Lq_m91SrnXHf"
      },
      "source": [
        "## **List of Categories for Each of Categorical Feature Variables Columns:**\n",
        "\n",
        "*   X1\n",
        "*   X13\n",
        "*   X14\n",
        "*   X15"
      ]
    },
    {
      "cell_type": "markdown",
      "metadata": {
        "id": "SAwVc_pcT64y"
      },
      "source": [
        "**X1**"
      ]
    },
    {
      "cell_type": "code",
      "execution_count": 167,
      "metadata": {
        "colab": {
          "base_uri": "https://localhost:8080/",
          "height": 175
        },
        "id": "BZDnkFnAkFMK",
        "outputId": "2060a08b-048e-4dbf-8e3f-4db1d0222a53"
      },
      "outputs": [
        {
          "output_type": "execute_result",
          "data": {
            "text/plain": [
              "                    X1\n",
              "X1                    \n",
              "C&I               3303\n",
              "CRE Construction  3375\n",
              "CRE Permanent     3322"
            ],
            "text/html": [
              "\n",
              "  <div id=\"df-600c2d1c-1fde-4b1a-b2d9-7b0c352468c7\">\n",
              "    <div class=\"colab-df-container\">\n",
              "      <div>\n",
              "<style scoped>\n",
              "    .dataframe tbody tr th:only-of-type {\n",
              "        vertical-align: middle;\n",
              "    }\n",
              "\n",
              "    .dataframe tbody tr th {\n",
              "        vertical-align: top;\n",
              "    }\n",
              "\n",
              "    .dataframe thead th {\n",
              "        text-align: right;\n",
              "    }\n",
              "</style>\n",
              "<table border=\"1\" class=\"dataframe\">\n",
              "  <thead>\n",
              "    <tr style=\"text-align: right;\">\n",
              "      <th></th>\n",
              "      <th>X1</th>\n",
              "    </tr>\n",
              "    <tr>\n",
              "      <th>X1</th>\n",
              "      <th></th>\n",
              "    </tr>\n",
              "  </thead>\n",
              "  <tbody>\n",
              "    <tr>\n",
              "      <th>C&amp;I</th>\n",
              "      <td>3303</td>\n",
              "    </tr>\n",
              "    <tr>\n",
              "      <th>CRE Construction</th>\n",
              "      <td>3375</td>\n",
              "    </tr>\n",
              "    <tr>\n",
              "      <th>CRE Permanent</th>\n",
              "      <td>3322</td>\n",
              "    </tr>\n",
              "  </tbody>\n",
              "</table>\n",
              "</div>\n",
              "      <button class=\"colab-df-convert\" onclick=\"convertToInteractive('df-600c2d1c-1fde-4b1a-b2d9-7b0c352468c7')\"\n",
              "              title=\"Convert this dataframe to an interactive table.\"\n",
              "              style=\"display:none;\">\n",
              "        \n",
              "  <svg xmlns=\"http://www.w3.org/2000/svg\" height=\"24px\"viewBox=\"0 0 24 24\"\n",
              "       width=\"24px\">\n",
              "    <path d=\"M0 0h24v24H0V0z\" fill=\"none\"/>\n",
              "    <path d=\"M18.56 5.44l.94 2.06.94-2.06 2.06-.94-2.06-.94-.94-2.06-.94 2.06-2.06.94zm-11 1L8.5 8.5l.94-2.06 2.06-.94-2.06-.94L8.5 2.5l-.94 2.06-2.06.94zm10 10l.94 2.06.94-2.06 2.06-.94-2.06-.94-.94-2.06-.94 2.06-2.06.94z\"/><path d=\"M17.41 7.96l-1.37-1.37c-.4-.4-.92-.59-1.43-.59-.52 0-1.04.2-1.43.59L10.3 9.45l-7.72 7.72c-.78.78-.78 2.05 0 2.83L4 21.41c.39.39.9.59 1.41.59.51 0 1.02-.2 1.41-.59l7.78-7.78 2.81-2.81c.8-.78.8-2.07 0-2.86zM5.41 20L4 18.59l7.72-7.72 1.47 1.35L5.41 20z\"/>\n",
              "  </svg>\n",
              "      </button>\n",
              "      \n",
              "  <style>\n",
              "    .colab-df-container {\n",
              "      display:flex;\n",
              "      flex-wrap:wrap;\n",
              "      gap: 12px;\n",
              "    }\n",
              "\n",
              "    .colab-df-convert {\n",
              "      background-color: #E8F0FE;\n",
              "      border: none;\n",
              "      border-radius: 50%;\n",
              "      cursor: pointer;\n",
              "      display: none;\n",
              "      fill: #1967D2;\n",
              "      height: 32px;\n",
              "      padding: 0 0 0 0;\n",
              "      width: 32px;\n",
              "    }\n",
              "\n",
              "    .colab-df-convert:hover {\n",
              "      background-color: #E2EBFA;\n",
              "      box-shadow: 0px 1px 2px rgba(60, 64, 67, 0.3), 0px 1px 3px 1px rgba(60, 64, 67, 0.15);\n",
              "      fill: #174EA6;\n",
              "    }\n",
              "\n",
              "    [theme=dark] .colab-df-convert {\n",
              "      background-color: #3B4455;\n",
              "      fill: #D2E3FC;\n",
              "    }\n",
              "\n",
              "    [theme=dark] .colab-df-convert:hover {\n",
              "      background-color: #434B5C;\n",
              "      box-shadow: 0px 1px 3px 1px rgba(0, 0, 0, 0.15);\n",
              "      filter: drop-shadow(0px 1px 2px rgba(0, 0, 0, 0.3));\n",
              "      fill: #FFFFFF;\n",
              "    }\n",
              "  </style>\n",
              "\n",
              "      <script>\n",
              "        const buttonEl =\n",
              "          document.querySelector('#df-600c2d1c-1fde-4b1a-b2d9-7b0c352468c7 button.colab-df-convert');\n",
              "        buttonEl.style.display =\n",
              "          google.colab.kernel.accessAllowed ? 'block' : 'none';\n",
              "\n",
              "        async function convertToInteractive(key) {\n",
              "          const element = document.querySelector('#df-600c2d1c-1fde-4b1a-b2d9-7b0c352468c7');\n",
              "          const dataTable =\n",
              "            await google.colab.kernel.invokeFunction('convertToInteractive',\n",
              "                                                     [key], {});\n",
              "          if (!dataTable) return;\n",
              "\n",
              "          const docLinkHtml = 'Like what you see? Visit the ' +\n",
              "            '<a target=\"_blank\" href=https://colab.research.google.com/notebooks/data_table.ipynb>data table notebook</a>'\n",
              "            + ' to learn more about interactive tables.';\n",
              "          element.innerHTML = '';\n",
              "          dataTable['output_type'] = 'display_data';\n",
              "          await google.colab.output.renderOutput(dataTable, element);\n",
              "          const docLink = document.createElement('div');\n",
              "          docLink.innerHTML = docLinkHtml;\n",
              "          element.appendChild(docLink);\n",
              "        }\n",
              "      </script>\n",
              "    </div>\n",
              "  </div>\n",
              "  "
            ]
          },
          "metadata": {},
          "execution_count": 167
        }
      ],
      "source": [
        "# Number of Observations for each Category in Column X1\n",
        "pd.DataFrame(default_financial_data.groupby('X1')['X1'].count())"
      ]
    },
    {
      "cell_type": "code",
      "execution_count": 168,
      "metadata": {
        "colab": {
          "base_uri": "https://localhost:8080/",
          "height": 313
        },
        "id": "1oz7jdgzPSA2",
        "outputId": "b01754ed-535f-43af-e5b3-7a11c8ad5eee"
      },
      "outputs": [
        {
          "output_type": "execute_result",
          "data": {
            "text/plain": [
              "Text(0, 0.5, 'Frequency')"
            ]
          },
          "metadata": {},
          "execution_count": 168
        },
        {
          "output_type": "display_data",
          "data": {
            "text/plain": [
              "<Figure size 432x288 with 1 Axes>"
            ],
            "image/png": "[encoded data removed]"
          },
          "metadata": {
            "needs_background": "light"
          }
        }
      ],
      "source": [
        "sns.countplot(x='X1', data=default_financial_data)\n",
        "plt.title(\"Frequency of Observations Based by X1\")\n",
        "plt.ylabel(\"Frequency\")"
      ]
    },
    {
      "cell_type": "markdown",
      "metadata": {
        "id": "EAndL5ugT9m3"
      },
      "source": [
        "**X13**"
      ]
    },
    {
      "cell_type": "code",
      "execution_count": 169,
      "metadata": {
        "colab": {
          "base_uri": "https://localhost:8080/",
          "height": 175
        },
        "id": "GIJ0zYvHnV0d",
        "outputId": "8a8a4801-086b-4445-8159-1e8d7e8a18de"
      },
      "outputs": [
        {
          "output_type": "execute_result",
          "data": {
            "text/plain": [
              "      X13\n",
              "X13      \n",
              "A    3270\n",
              "B    3346\n",
              "C    3384"
            ],
            "text/html": [
              "\n",
              "  <div id=\"df-b15d9514-14b3-4458-a3b6-87a09dc0f264\">\n",
              "    <div class=\"colab-df-container\">\n",
              "      <div>\n",
              "<style scoped>\n",
              "    .dataframe tbody tr th:only-of-type {\n",
              "        vertical-align: middle;\n",
              "    }\n",
              "\n",
              "    .dataframe tbody tr th {\n",
              "        vertical-align: top;\n",
              "    }\n",
              "\n",
              "    .dataframe thead th {\n",
              "        text-align: right;\n",
              "    }\n",
              "</style>\n",
              "<table border=\"1\" class=\"dataframe\">\n",
              "  <thead>\n",
              "    <tr style=\"text-align: right;\">\n",
              "      <th></th>\n",
              "      <th>X13</th>\n",
              "    </tr>\n",
              "    <tr>\n",
              "      <th>X13</th>\n",
              "      <th></th>\n",
              "    </tr>\n",
              "  </thead>\n",
              "  <tbody>\n",
              "    <tr>\n",
              "      <th>A</th>\n",
              "      <td>3270</td>\n",
              "    </tr>\n",
              "    <tr>\n",
              "      <th>B</th>\n",
              "      <td>3346</td>\n",
              "    </tr>\n",
              "    <tr>\n",
              "      <th>C</th>\n",
              "      <td>3384</td>\n",
              "    </tr>\n",
              "  </tbody>\n",
              "</table>\n",
              "</div>\n",
              "      <button class=\"colab-df-convert\" onclick=\"convertToInteractive('df-b15d9514-14b3-4458-a3b6-87a09dc0f264')\"\n",
              "              title=\"Convert this dataframe to an interactive table.\"\n",
              "              style=\"display:none;\">\n",
              "        \n",
              "  <svg xmlns=\"http://www.w3.org/2000/svg\" height=\"24px\"viewBox=\"0 0 24 24\"\n",
              "       width=\"24px\">\n",
              "    <path d=\"M0 0h24v24H0V0z\" fill=\"none\"/>\n",
              "    <path d=\"M18.56 5.44l.94 2.06.94-2.06 2.06-.94-2.06-.94-.94-2.06-.94 2.06-2.06.94zm-11 1L8.5 8.5l.94-2.06 2.06-.94-2.06-.94L8.5 2.5l-.94 2.06-2.06.94zm10 10l.94 2.06.94-2.06 2.06-.94-2.06-.94-.94-2.06-.94 2.06-2.06.94z\"/><path d=\"M17.41 7.96l-1.37-1.37c-.4-.4-.92-.59-1.43-.59-.52 0-1.04.2-1.43.59L10.3 9.45l-7.72 7.72c-.78.78-.78 2.05 0 2.83L4 21.41c.39.39.9.59 1.41.59.51 0 1.02-.2 1.41-.59l7.78-7.78 2.81-2.81c.8-.78.8-2.07 0-2.86zM5.41 20L4 18.59l7.72-7.72 1.47 1.35L5.41 20z\"/>\n",
              "  </svg>\n",
              "      </button>\n",
              "      \n",
              "  <style>\n",
              "    .colab-df-container {\n",
              "      display:flex;\n",
              "      flex-wrap:wrap;\n",
              "      gap: 12px;\n",
              "    }\n",
              "\n",
              "    .colab-df-convert {\n",
              "      background-color: #E8F0FE;\n",
              "      border: none;\n",
              "      border-radius: 50%;\n",
              "      cursor: pointer;\n",
              "      display: none;\n",
              "      fill: #1967D2;\n",
              "      height: 32px;\n",
              "      padding: 0 0 0 0;\n",
              "      width: 32px;\n",
              "    }\n",
              "\n",
              "    .colab-df-convert:hover {\n",
              "      background-color: #E2EBFA;\n",
              "      box-shadow: 0px 1px 2px rgba(60, 64, 67, 0.3), 0px 1px 3px 1px rgba(60, 64, 67, 0.15);\n",
              "      fill: #174EA6;\n",
              "    }\n",
              "\n",
              "    [theme=dark] .colab-df-convert {\n",
              "      background-color: #3B4455;\n",
              "      fill: #D2E3FC;\n",
              "    }\n",
              "\n",
              "    [theme=dark] .colab-df-convert:hover {\n",
              "      background-color: #434B5C;\n",
              "      box-shadow: 0px 1px 3px 1px rgba(0, 0, 0, 0.15);\n",
              "      filter: drop-shadow(0px 1px 2px rgba(0, 0, 0, 0.3));\n",
              "      fill: #FFFFFF;\n",
              "    }\n",
              "  </style>\n",
              "\n",
              "      <script>\n",
              "        const buttonEl =\n",
              "          document.querySelector('#df-b15d9514-14b3-4458-a3b6-87a09dc0f264 button.colab-df-convert');\n",
              "        buttonEl.style.display =\n",
              "          google.colab.kernel.accessAllowed ? 'block' : 'none';\n",
              "\n",
              "        async function convertToInteractive(key) {\n",
              "          const element = document.querySelector('#df-b15d9514-14b3-4458-a3b6-87a09dc0f264');\n",
              "          const dataTable =\n",
              "            await google.colab.kernel.invokeFunction('convertToInteractive',\n",
              "                                                     [key], {});\n",
              "          if (!dataTable) return;\n",
              "\n",
              "          const docLinkHtml = 'Like what you see? Visit the ' +\n",
              "            '<a target=\"_blank\" href=https://colab.research.google.com/notebooks/data_table.ipynb>data table notebook</a>'\n",
              "            + ' to learn more about interactive tables.';\n",
              "          element.innerHTML = '';\n",
              "          dataTable['output_type'] = 'display_data';\n",
              "          await google.colab.output.renderOutput(dataTable, element);\n",
              "          const docLink = document.createElement('div');\n",
              "          docLink.innerHTML = docLinkHtml;\n",
              "          element.appendChild(docLink);\n",
              "        }\n",
              "      </script>\n",
              "    </div>\n",
              "  </div>\n",
              "  "
            ]
          },
          "metadata": {},
          "execution_count": 169
        }
      ],
      "source": [
        "# Number of Observations for each Category in Column X13\n",
        "pd.DataFrame(default_financial_data.groupby('X13')['X13'].count())"
      ]
    },
    {
      "cell_type": "code",
      "execution_count": 170,
      "metadata": {
        "colab": {
          "base_uri": "https://localhost:8080/",
          "height": 313
        },
        "id": "oSrZdp2OPacf",
        "outputId": "81a8945d-c4da-4191-c1a4-cd36862a2841"
      },
      "outputs": [
        {
          "output_type": "execute_result",
          "data": {
            "text/plain": [
              "Text(0, 0.5, 'Frequency')"
            ]
          },
          "metadata": {},
          "execution_count": 170
        },
        {
          "output_type": "display_data",
          "data": {
            "text/plain": [
              "<Figure size 432x288 with 1 Axes>"
            ],
            "image/png": "[encoded data removed]"
          },
          "metadata": {
            "needs_background": "light"
          }
        }
      ],
      "source": [
        "sns.countplot(x='X13', data=default_financial_data)\n",
        "plt.title(\"Frequency of Observations Based by X13\")\n",
        "plt.ylabel(\"Frequency\")"
      ]
    },
    {
      "cell_type": "markdown",
      "metadata": {
        "id": "98pS3I0sUAnX"
      },
      "source": [
        "**X14**"
      ]
    },
    {
      "cell_type": "code",
      "execution_count": 171,
      "metadata": {
        "colab": {
          "base_uri": "https://localhost:8080/",
          "height": 237
        },
        "id": "3-ktEIbAnV_j",
        "outputId": "998b5058-2ba5-433e-ad3f-e56bee5335d5"
      },
      "outputs": [
        {
          "output_type": "execute_result",
          "data": {
            "text/plain": [
              "       X14\n",
              "X14       \n",
              "R567  1997\n",
              "T982  1983\n",
              "X456  1958\n",
              "Y237  2035\n",
              "Z009  2027"
            ],
            "text/html": [
              "\n",
              "  <div id=\"df-6c754328-005f-4aed-ae3c-69c0ee766595\">\n",
              "    <div class=\"colab-df-container\">\n",
              "      <div>\n",
              "<style scoped>\n",
              "    .dataframe tbody tr th:only-of-type {\n",
              "        vertical-align: middle;\n",
              "    }\n",
              "\n",
              "    .dataframe tbody tr th {\n",
              "        vertical-align: top;\n",
              "    }\n",
              "\n",
              "    .dataframe thead th {\n",
              "        text-align: right;\n",
              "    }\n",
              "</style>\n",
              "<table border=\"1\" class=\"dataframe\">\n",
              "  <thead>\n",
              "    <tr style=\"text-align: right;\">\n",
              "      <th></th>\n",
              "      <th>X14</th>\n",
              "    </tr>\n",
              "    <tr>\n",
              "      <th>X14</th>\n",
              "      <th></th>\n",
              "    </tr>\n",
              "  </thead>\n",
              "  <tbody>\n",
              "    <tr>\n",
              "      <th>R567</th>\n",
              "      <td>1997</td>\n",
              "    </tr>\n",
              "    <tr>\n",
              "      <th>T982</th>\n",
              "      <td>1983</td>\n",
              "    </tr>\n",
              "    <tr>\n",
              "      <th>X456</th>\n",
              "      <td>1958</td>\n",
              "    </tr>\n",
              "    <tr>\n",
              "      <th>Y237</th>\n",
              "      <td>2035</td>\n",
              "    </tr>\n",
              "    <tr>\n",
              "      <th>Z009</th>\n",
              "      <td>2027</td>\n",
              "    </tr>\n",
              "  </tbody>\n",
              "</table>\n",
              "</div>\n",
              "      <button class=\"colab-df-convert\" onclick=\"convertToInteractive('df-6c754328-005f-4aed-ae3c-69c0ee766595')\"\n",
              "              title=\"Convert this dataframe to an interactive table.\"\n",
              "              style=\"display:none;\">\n",
              "        \n",
              "  <svg xmlns=\"http://www.w3.org/2000/svg\" height=\"24px\"viewBox=\"0 0 24 24\"\n",
              "       width=\"24px\">\n",
              "    <path d=\"M0 0h24v24H0V0z\" fill=\"none\"/>\n",
              "    <path d=\"M18.56 5.44l.94 2.06.94-2.06 2.06-.94-2.06-.94-.94-2.06-.94 2.06-2.06.94zm-11 1L8.5 8.5l.94-2.06 2.06-.94-2.06-.94L8.5 2.5l-.94 2.06-2.06.94zm10 10l.94 2.06.94-2.06 2.06-.94-2.06-.94-.94-2.06-.94 2.06-2.06.94z\"/><path d=\"M17.41 7.96l-1.37-1.37c-.4-.4-.92-.59-1.43-.59-.52 0-1.04.2-1.43.59L10.3 9.45l-7.72 7.72c-.78.78-.78 2.05 0 2.83L4 21.41c.39.39.9.59 1.41.59.51 0 1.02-.2 1.41-.59l7.78-7.78 2.81-2.81c.8-.78.8-2.07 0-2.86zM5.41 20L4 18.59l7.72-7.72 1.47 1.35L5.41 20z\"/>\n",
              "  </svg>\n",
              "      </button>\n",
              "      \n",
              "  <style>\n",
              "    .colab-df-container {\n",
              "      display:flex;\n",
              "      flex-wrap:wrap;\n",
              "      gap: 12px;\n",
              "    }\n",
              "\n",
              "    .colab-df-convert {\n",
              "      background-color: #E8F0FE;\n",
              "      border: none;\n",
              "      border-radius: 50%;\n",
              "      cursor: pointer;\n",
              "      display: none;\n",
              "      fill: #1967D2;\n",
              "      height: 32px;\n",
              "      padding: 0 0 0 0;\n",
              "      width: 32px;\n",
              "    }\n",
              "\n",
              "    .colab-df-convert:hover {\n",
              "      background-color: #E2EBFA;\n",
              "      box-shadow: 0px 1px 2px rgba(60, 64, 67, 0.3), 0px 1px 3px 1px rgba(60, 64, 67, 0.15);\n",
              "      fill: #174EA6;\n",
              "    }\n",
              "\n",
              "    [theme=dark] .colab-df-convert {\n",
              "      background-color: #3B4455;\n",
              "      fill: #D2E3FC;\n",
              "    }\n",
              "\n",
              "    [theme=dark] .colab-df-convert:hover {\n",
              "      background-color: #434B5C;\n",
              "      box-shadow: 0px 1px 3px 1px rgba(0, 0, 0, 0.15);\n",
              "      filter: drop-shadow(0px 1px 2px rgba(0, 0, 0, 0.3));\n",
              "      fill: #FFFFFF;\n",
              "    }\n",
              "  </style>\n",
              "\n",
              "      <script>\n",
              "        const buttonEl =\n",
              "          document.querySelector('#df-6c754328-005f-4aed-ae3c-69c0ee766595 button.colab-df-convert');\n",
              "        buttonEl.style.display =\n",
              "          google.colab.kernel.accessAllowed ? 'block' : 'none';\n",
              "\n",
              "        async function convertToInteractive(key) {\n",
              "          const element = document.querySelector('#df-6c754328-005f-4aed-ae3c-69c0ee766595');\n",
              "          const dataTable =\n",
              "            await google.colab.kernel.invokeFunction('convertToInteractive',\n",
              "                                                     [key], {});\n",
              "          if (!dataTable) return;\n",
              "\n",
              "          const docLinkHtml = 'Like what you see? Visit the ' +\n",
              "            '<a target=\"_blank\" href=https://colab.research.google.com/notebooks/data_table.ipynb>data table notebook</a>'\n",
              "            + ' to learn more about interactive tables.';\n",
              "          element.innerHTML = '';\n",
              "          dataTable['output_type'] = 'display_data';\n",
              "          await google.colab.output.renderOutput(dataTable, element);\n",
              "          const docLink = document.createElement('div');\n",
              "          docLink.innerHTML = docLinkHtml;\n",
              "          element.appendChild(docLink);\n",
              "        }\n",
              "      </script>\n",
              "    </div>\n",
              "  </div>\n",
              "  "
            ]
          },
          "metadata": {},
          "execution_count": 171
        }
      ],
      "source": [
        "# Number of Observations for each Category in Column X14\n",
        "pd.DataFrame(default_financial_data.groupby('X14')['X14'].count())"
      ]
    },
    {
      "cell_type": "code",
      "execution_count": 172,
      "metadata": {
        "colab": {
          "base_uri": "https://localhost:8080/",
          "height": 313
        },
        "id": "E-qH_zUjPh9k",
        "outputId": "e2d29987-8674-4d11-a35f-bd8e0c90a092"
      },
      "outputs": [
        {
          "output_type": "execute_result",
          "data": {
            "text/plain": [
              "Text(0, 0.5, 'Frequency')"
            ]
          },
          "metadata": {},
          "execution_count": 172
        },
        {
          "output_type": "display_data",
          "data": {
            "text/plain": [
              "<Figure size 432x288 with 1 Axes>"
            ],
            "image/png": "[encoded data removed]"
          },
          "metadata": {
            "needs_background": "light"
          }
        }
      ],
      "source": [
        "sns.countplot(x='X14', data=default_financial_data)\n",
        "plt.title(\"Frequency of Observations Based by X14\")\n",
        "plt.ylabel(\"Frequency\")"
      ]
    },
    {
      "cell_type": "markdown",
      "metadata": {
        "id": "Czhq0aHNUDbm"
      },
      "source": [
        "**X15**"
      ]
    },
    {
      "cell_type": "code",
      "execution_count": 173,
      "metadata": {
        "colab": {
          "base_uri": "https://localhost:8080/",
          "height": 143
        },
        "id": "A7A2Ef5znWGa",
        "outputId": "d8fc6da2-ee52-4280-be32-7d884b4b8603"
      },
      "outputs": [
        {
          "output_type": "execute_result",
          "data": {
            "text/plain": [
              "      X15\n",
              "X15      \n",
              "No   5104\n",
              "Yes  4896"
            ],
            "text/html": [
              "\n",
              "  <div id=\"df-37f01580-3c35-4225-8582-a6101edb2cff\">\n",
              "    <div class=\"colab-df-container\">\n",
              "      <div>\n",
              "<style scoped>\n",
              "    .dataframe tbody tr th:only-of-type {\n",
              "        vertical-align: middle;\n",
              "    }\n",
              "\n",
              "    .dataframe tbody tr th {\n",
              "        vertical-align: top;\n",
              "    }\n",
              "\n",
              "    .dataframe thead th {\n",
              "        text-align: right;\n",
              "    }\n",
              "</style>\n",
              "<table border=\"1\" class=\"dataframe\">\n",
              "  <thead>\n",
              "    <tr style=\"text-align: right;\">\n",
              "      <th></th>\n",
              "      <th>X15</th>\n",
              "    </tr>\n",
              "    <tr>\n",
              "      <th>X15</th>\n",
              "      <th></th>\n",
              "    </tr>\n",
              "  </thead>\n",
              "  <tbody>\n",
              "    <tr>\n",
              "      <th>No</th>\n",
              "      <td>5104</td>\n",
              "    </tr>\n",
              "    <tr>\n",
              "      <th>Yes</th>\n",
              "      <td>4896</td>\n",
              "    </tr>\n",
              "  </tbody>\n",
              "</table>\n",
              "</div>\n",
              "      <button class=\"colab-df-convert\" onclick=\"convertToInteractive('df-37f01580-3c35-4225-8582-a6101edb2cff')\"\n",
              "              title=\"Convert this dataframe to an interactive table.\"\n",
              "              style=\"display:none;\">\n",
              "        \n",
              "  <svg xmlns=\"http://www.w3.org/2000/svg\" height=\"24px\"viewBox=\"0 0 24 24\"\n",
              "       width=\"24px\">\n",
              "    <path d=\"M0 0h24v24H0V0z\" fill=\"none\"/>\n",
              "    <path d=\"M18.56 5.44l.94 2.06.94-2.06 2.06-.94-2.06-.94-.94-2.06-.94 2.06-2.06.94zm-11 1L8.5 8.5l.94-2.06 2.06-.94-2.06-.94L8.5 2.5l-.94 2.06-2.06.94zm10 10l.94 2.06.94-2.06 2.06-.94-2.06-.94-.94-2.06-.94 2.06-2.06.94z\"/><path d=\"M17.41 7.96l-1.37-1.37c-.4-.4-.92-.59-1.43-.59-.52 0-1.04.2-1.43.59L10.3 9.45l-7.72 7.72c-.78.78-.78 2.05 0 2.83L4 21.41c.39.39.9.59 1.41.59.51 0 1.02-.2 1.41-.59l7.78-7.78 2.81-2.81c.8-.78.8-2.07 0-2.86zM5.41 20L4 18.59l7.72-7.72 1.47 1.35L5.41 20z\"/>\n",
              "  </svg>\n",
              "      </button>\n",
              "      \n",
              "  <style>\n",
              "    .colab-df-container {\n",
              "      display:flex;\n",
              "      flex-wrap:wrap;\n",
              "      gap: 12px;\n",
              "    }\n",
              "\n",
              "    .colab-df-convert {\n",
              "      background-color: #E8F0FE;\n",
              "      border: none;\n",
              "      border-radius: 50%;\n",
              "      cursor: pointer;\n",
              "      display: none;\n",
              "      fill: #1967D2;\n",
              "      height: 32px;\n",
              "      padding: 0 0 0 0;\n",
              "      width: 32px;\n",
              "    }\n",
              "\n",
              "    .colab-df-convert:hover {\n",
              "      background-color: #E2EBFA;\n",
              "      box-shadow: 0px 1px 2px rgba(60, 64, 67, 0.3), 0px 1px 3px 1px rgba(60, 64, 67, 0.15);\n",
              "      fill: #174EA6;\n",
              "    }\n",
              "\n",
              "    [theme=dark] .colab-df-convert {\n",
              "      background-color: #3B4455;\n",
              "      fill: #D2E3FC;\n",
              "    }\n",
              "\n",
              "    [theme=dark] .colab-df-convert:hover {\n",
              "      background-color: #434B5C;\n",
              "      box-shadow: 0px 1px 3px 1px rgba(0, 0, 0, 0.15);\n",
              "      filter: drop-shadow(0px 1px 2px rgba(0, 0, 0, 0.3));\n",
              "      fill: #FFFFFF;\n",
              "    }\n",
              "  </style>\n",
              "\n",
              "      <script>\n",
              "        const buttonEl =\n",
              "          document.querySelector('#df-37f01580-3c35-4225-8582-a6101edb2cff button.colab-df-convert');\n",
              "        buttonEl.style.display =\n",
              "          google.colab.kernel.accessAllowed ? 'block' : 'none';\n",
              "\n",
              "        async function convertToInteractive(key) {\n",
              "          const element = document.querySelector('#df-37f01580-3c35-4225-8582-a6101edb2cff');\n",
              "          const dataTable =\n",
              "            await google.colab.kernel.invokeFunction('convertToInteractive',\n",
              "                                                     [key], {});\n",
              "          if (!dataTable) return;\n",
              "\n",
              "          const docLinkHtml = 'Like what you see? Visit the ' +\n",
              "            '<a target=\"_blank\" href=https://colab.research.google.com/notebooks/data_table.ipynb>data table notebook</a>'\n",
              "            + ' to learn more about interactive tables.';\n",
              "          element.innerHTML = '';\n",
              "          dataTable['output_type'] = 'display_data';\n",
              "          await google.colab.output.renderOutput(dataTable, element);\n",
              "          const docLink = document.createElement('div');\n",
              "          docLink.innerHTML = docLinkHtml;\n",
              "          element.appendChild(docLink);\n",
              "        }\n",
              "      </script>\n",
              "    </div>\n",
              "  </div>\n",
              "  "
            ]
          },
          "metadata": {},
          "execution_count": 173
        }
      ],
      "source": [
        "# Number of Observations for each Category in Column X15\n",
        "pd.DataFrame(default_financial_data.groupby('X15')['X15'].count())"
      ]
    },
    {
      "cell_type": "code",
      "execution_count": 174,
      "metadata": {
        "colab": {
          "base_uri": "https://localhost:8080/",
          "height": 313
        },
        "id": "TLBBFOXCPlBO",
        "outputId": "46a4833e-75e1-464e-b3dc-a8cde623d907"
      },
      "outputs": [
        {
          "output_type": "execute_result",
          "data": {
            "text/plain": [
              "Text(0, 0.5, 'Frequency')"
            ]
          },
          "metadata": {},
          "execution_count": 174
        },
        {
          "output_type": "display_data",
          "data": {
            "text/plain": [
              "<Figure size 432x288 with 1 Axes>"
            ],
            "image/png": "[encoded data removed]"
          },
          "metadata": {
            "needs_background": "light"
          }
        }
      ],
      "source": [
        "sns.countplot(x='X15', data=default_financial_data)\n",
        "plt.title(\"Frequency of Observations Based by X15\")\n",
        "plt.ylabel(\"Frequency\")"
      ]
    },
    {
      "cell_type": "markdown",
      "metadata": {
        "id": "FRhD_aZ0gOeP"
      },
      "source": [
        "**List of Categorical and Continuous Features**\n",
        "\n",
        "**List of Features and Target**\n",
        "\n",
        "**Features Dataframe and Target Series**"
      ]
    },
    {
      "cell_type": "code",
      "execution_count": 175,
      "metadata": {
        "colab": {
          "base_uri": "https://localhost:8080/",
          "height": 206
        },
        "id": "7AlVcOrC2Ys2",
        "outputId": "7262b026-7b23-4c8b-bb18-946a03ef8450"
      },
      "outputs": [
        {
          "output_type": "execute_result",
          "data": {
            "text/plain": [
              "                 X1        X2        X3           X4        X5        X6  \\\n",
              "0               C&I  0.113703  0.795355  1156188.606  0.090963  0.963879   \n",
              "1     CRE Permanent  0.622299  0.364232  1101435.618  0.497840  0.606212   \n",
              "2  CRE Construction  0.609275  0.821238  1046682.630  0.487420  0.296746   \n",
              "3  CRE Construction  0.623379  0.613073  1085325.470  0.498704  0.641079   \n",
              "4  CRE Construction  0.860915  0.709228  1051378.694  0.688732  0.339430   \n",
              "\n",
              "           X7        X8         X9       X10       X11       X12 X13   X14  \\\n",
              "0  120.606137  0.966454  -6.884990  0.195105  1.093855  0.890361   C  T982   \n",
              "1  109.621719  0.440733 -10.010214  1.600637  1.146797  0.857632   B  X456   \n",
              "2   94.520306  0.007491  10.726384  0.434792  1.050520  0.150828   B  T982   \n",
              "3   94.933871  0.910976   0.476127  0.341299  1.011261  0.120293   B  T982   \n",
              "4  106.331848  0.939269   0.251195  0.967834  1.002241  0.329663   B  R567   \n",
              "\n",
              "   X15 Default_Ind  \n",
              "0  Yes           0  \n",
              "1  Yes           0  \n",
              "2  Yes           0  \n",
              "3   No           0  \n",
              "4  Yes           0  "
            ],
            "text/html": [
              "\n",
              "  <div id=\"df-2c108ba5-1eba-47ae-9714-17c597244922\">\n",
              "    <div class=\"colab-df-container\">\n",
              "      <div>\n",
              "<style scoped>\n",
              "    .dataframe tbody tr th:only-of-type {\n",
              "        vertical-align: middle;\n",
              "    }\n",
              "\n",
              "    .dataframe tbody tr th {\n",
              "        vertical-align: top;\n",
              "    }\n",
              "\n",
              "    .dataframe thead th {\n",
              "        text-align: right;\n",
              "    }\n",
              "</style>\n",
              "<table border=\"1\" class=\"dataframe\">\n",
              "  <thead>\n",
              "    <tr style=\"text-align: right;\">\n",
              "      <th></th>\n",
              "      <th>X1</th>\n",
              "      <th>X2</th>\n",
              "      <th>X3</th>\n",
              "      <th>X4</th>\n",
              "      <th>X5</th>\n",
              "      <th>X6</th>\n",
              "      <th>X7</th>\n",
              "      <th>X8</th>\n",
              "      <th>X9</th>\n",
              "      <th>X10</th>\n",
              "      <th>X11</th>\n",
              "      <th>X12</th>\n",
              "      <th>X13</th>\n",
              "      <th>X14</th>\n",
              "      <th>X15</th>\n",
              "      <th>Default_Ind</th>\n",
              "    </tr>\n",
              "  </thead>\n",
              "  <tbody>\n",
              "    <tr>\n",
              "      <th>0</th>\n",
              "      <td>C&amp;I</td>\n",
              "      <td>0.113703</td>\n",
              "      <td>0.795355</td>\n",
              "      <td>1156188.606</td>\n",
              "      <td>0.090963</td>\n",
              "      <td>0.963879</td>\n",
              "      <td>120.606137</td>\n",
              "      <td>0.966454</td>\n",
              "      <td>-6.884990</td>\n",
              "      <td>0.195105</td>\n",
              "      <td>1.093855</td>\n",
              "      <td>0.890361</td>\n",
              "      <td>C</td>\n",
              "      <td>T982</td>\n",
              "      <td>Yes</td>\n",
              "      <td>0</td>\n",
              "    </tr>\n",
              "    <tr>\n",
              "      <th>1</th>\n",
              "      <td>CRE Permanent</td>\n",
              "      <td>0.622299</td>\n",
              "      <td>0.364232</td>\n",
              "      <td>1101435.618</td>\n",
              "      <td>0.497840</td>\n",
              "      <td>0.606212</td>\n",
              "      <td>109.621719</td>\n",
              "      <td>0.440733</td>\n",
              "      <td>-10.010214</td>\n",
              "      <td>1.600637</td>\n",
              "      <td>1.146797</td>\n",
              "      <td>0.857632</td>\n",
              "      <td>B</td>\n",
              "      <td>X456</td>\n",
              "      <td>Yes</td>\n",
              "      <td>0</td>\n",
              "    </tr>\n",
              "    <tr>\n",
              "      <th>2</th>\n",
              "      <td>CRE Construction</td>\n",
              "      <td>0.609275</td>\n",
              "      <td>0.821238</td>\n",
              "      <td>1046682.630</td>\n",
              "      <td>0.487420</td>\n",
              "      <td>0.296746</td>\n",
              "      <td>94.520306</td>\n",
              "      <td>0.007491</td>\n",
              "      <td>10.726384</td>\n",
              "      <td>0.434792</td>\n",
              "      <td>1.050520</td>\n",
              "      <td>0.150828</td>\n",
              "      <td>B</td>\n",
              "      <td>T982</td>\n",
              "      <td>Yes</td>\n",
              "      <td>0</td>\n",
              "    </tr>\n",
              "    <tr>\n",
              "      <th>3</th>\n",
              "      <td>CRE Construction</td>\n",
              "      <td>0.623379</td>\n",
              "      <td>0.613073</td>\n",
              "      <td>1085325.470</td>\n",
              "      <td>0.498704</td>\n",
              "      <td>0.641079</td>\n",
              "      <td>94.933871</td>\n",
              "      <td>0.910976</td>\n",
              "      <td>0.476127</td>\n",
              "      <td>0.341299</td>\n",
              "      <td>1.011261</td>\n",
              "      <td>0.120293</td>\n",
              "      <td>B</td>\n",
              "      <td>T982</td>\n",
              "      <td>No</td>\n",
              "      <td>0</td>\n",
              "    </tr>\n",
              "    <tr>\n",
              "      <th>4</th>\n",
              "      <td>CRE Construction</td>\n",
              "      <td>0.860915</td>\n",
              "      <td>0.709228</td>\n",
              "      <td>1051378.694</td>\n",
              "      <td>0.688732</td>\n",
              "      <td>0.339430</td>\n",
              "      <td>106.331848</td>\n",
              "      <td>0.939269</td>\n",
              "      <td>0.251195</td>\n",
              "      <td>0.967834</td>\n",
              "      <td>1.002241</td>\n",
              "      <td>0.329663</td>\n",
              "      <td>B</td>\n",
              "      <td>R567</td>\n",
              "      <td>Yes</td>\n",
              "      <td>0</td>\n",
              "    </tr>\n",
              "  </tbody>\n",
              "</table>\n",
              "</div>\n",
              "      <button class=\"colab-df-convert\" onclick=\"convertToInteractive('df-2c108ba5-1eba-47ae-9714-17c597244922')\"\n",
              "              title=\"Convert this dataframe to an interactive table.\"\n",
              "              style=\"display:none;\">\n",
              "        \n",
              "  <svg xmlns=\"http://www.w3.org/2000/svg\" height=\"24px\"viewBox=\"0 0 24 24\"\n",
              "       width=\"24px\">\n",
              "    <path d=\"M0 0h24v24H0V0z\" fill=\"none\"/>\n",
              "    <path d=\"M18.56 5.44l.94 2.06.94-2.06 2.06-.94-2.06-.94-.94-2.06-.94 2.06-2.06.94zm-11 1L8.5 8.5l.94-2.06 2.06-.94-2.06-.94L8.5 2.5l-.94 2.06-2.06.94zm10 10l.94 2.06.94-2.06 2.06-.94-2.06-.94-.94-2.06-.94 2.06-2.06.94z\"/><path d=\"M17.41 7.96l-1.37-1.37c-.4-.4-.92-.59-1.43-.59-.52 0-1.04.2-1.43.59L10.3 9.45l-7.72 7.72c-.78.78-.78 2.05 0 2.83L4 21.41c.39.39.9.59 1.41.59.51 0 1.02-.2 1.41-.59l7.78-7.78 2.81-2.81c.8-.78.8-2.07 0-2.86zM5.41 20L4 18.59l7.72-7.72 1.47 1.35L5.41 20z\"/>\n",
              "  </svg>\n",
              "      </button>\n",
              "      \n",
              "  <style>\n",
              "    .colab-df-container {\n",
              "      display:flex;\n",
              "      flex-wrap:wrap;\n",
              "      gap: 12px;\n",
              "    }\n",
              "\n",
              "    .colab-df-convert {\n",
              "      background-color: #E8F0FE;\n",
              "      border: none;\n",
              "      border-radius: 50%;\n",
              "      cursor: pointer;\n",
              "      display: none;\n",
              "      fill: #1967D2;\n",
              "      height: 32px;\n",
              "      padding: 0 0 0 0;\n",
              "      width: 32px;\n",
              "    }\n",
              "\n",
              "    .colab-df-convert:hover {\n",
              "      background-color: #E2EBFA;\n",
              "      box-shadow: 0px 1px 2px rgba(60, 64, 67, 0.3), 0px 1px 3px 1px rgba(60, 64, 67, 0.15);\n",
              "      fill: #174EA6;\n",
              "    }\n",
              "\n",
              "    [theme=dark] .colab-df-convert {\n",
              "      background-color: #3B4455;\n",
              "      fill: #D2E3FC;\n",
              "    }\n",
              "\n",
              "    [theme=dark] .colab-df-convert:hover {\n",
              "      background-color: #434B5C;\n",
              "      box-shadow: 0px 1px 3px 1px rgba(0, 0, 0, 0.15);\n",
              "      filter: drop-shadow(0px 1px 2px rgba(0, 0, 0, 0.3));\n",
              "      fill: #FFFFFF;\n",
              "    }\n",
              "  </style>\n",
              "\n",
              "      <script>\n",
              "        const buttonEl =\n",
              "          document.querySelector('#df-2c108ba5-1eba-47ae-9714-17c597244922 button.colab-df-convert');\n",
              "        buttonEl.style.display =\n",
              "          google.colab.kernel.accessAllowed ? 'block' : 'none';\n",
              "\n",
              "        async function convertToInteractive(key) {\n",
              "          const element = document.querySelector('#df-2c108ba5-1eba-47ae-9714-17c597244922');\n",
              "          const dataTable =\n",
              "            await google.colab.kernel.invokeFunction('convertToInteractive',\n",
              "                                                     [key], {});\n",
              "          if (!dataTable) return;\n",
              "\n",
              "          const docLinkHtml = 'Like what you see? Visit the ' +\n",
              "            '<a target=\"_blank\" href=https://colab.research.google.com/notebooks/data_table.ipynb>data table notebook</a>'\n",
              "            + ' to learn more about interactive tables.';\n",
              "          element.innerHTML = '';\n",
              "          dataTable['output_type'] = 'display_data';\n",
              "          await google.colab.output.renderOutput(dataTable, element);\n",
              "          const docLink = document.createElement('div');\n",
              "          docLink.innerHTML = docLinkHtml;\n",
              "          element.appendChild(docLink);\n",
              "        }\n",
              "      </script>\n",
              "    </div>\n",
              "  </div>\n",
              "  "
            ]
          },
          "metadata": {},
          "execution_count": 175
        }
      ],
      "source": [
        "# Drop columns LOAN_ID and PD_RISK_RATING from default_financial_data since we don't need them anymore in our dataset\n",
        "default_financial_data.drop(columns=['LOAN_ID', 'PD_RISK_RATING'], inplace=True)\n",
        "\n",
        "# Inspect first 5 rows of new default_financial_data \n",
        "default_financial_data.head()"
      ]
    },
    {
      "cell_type": "code",
      "execution_count": 176,
      "metadata": {
        "id": "CtBu0onUPibP"
      },
      "outputs": [],
      "source": [
        "# Categorical features and Continuous features\n",
        "categorical_feats = ['X1', 'X13', 'X14', 'X15']\n",
        "continuous_feats = ['X2', 'X3', 'X4', 'X5', 'X6', 'X7', 'X8', 'X9', 'X10', 'X11', 'X12']\n",
        "\n",
        "# Features (X1 to X15) and target variable (Default_Ind)\n",
        "feats = list(default_financial_data.columns)[0:-1]\n",
        "target = list(default_financial_data.columns)[-1]\n",
        "\n",
        "# Features dataframe and target series\n",
        "X = default_financial_data[feats]\n",
        "y = default_financial_data[target]"
      ]
    },
    {
      "cell_type": "markdown",
      "metadata": {
        "id": "_LxaBfRjVRVH"
      },
      "source": [
        "**Proportion of Customers in Each Category for Each Categorical Feature (X1, X13, X14, X15) Based by Default_Ind**"
      ]
    },
    {
      "cell_type": "code",
      "execution_count": 177,
      "metadata": {
        "colab": {
          "base_uri": "https://localhost:8080/",
          "height": 1000
        },
        "id": "vBMcgeITVQja",
        "outputId": "82868292-a896-4731-a356-35fc95eea234"
      },
      "outputs": [
        {
          "output_type": "display_data",
          "data": {
            "text/plain": [
              "<Figure size 432x288 with 1 Axes>"
            ],
            "image/png": "[encoded data removed]"
          },
          "metadata": {
            "needs_background": "light"
          }
        },
        {
          "output_type": "display_data",
          "data": {
            "text/plain": [
              "<Figure size 432x288 with 1 Axes>"
            ],
            "image/png": "[encoded data removed]"
          },
          "metadata": {
            "needs_background": "light"
          }
        },
        {
          "output_type": "display_data",
          "data": {
            "text/plain": [
              "<Figure size 432x288 with 1 Axes>"
            ],
            "image/png": "[encoded data removed]"
          },
          "metadata": {
            "needs_background": "light"
          }
        },
        {
          "output_type": "display_data",
          "data": {
            "text/plain": [
              "<Figure size 432x288 with 1 Axes>"
            ],
            "image/png": "[encoded data removed]"
          },
          "metadata": {
            "needs_background": "light"
          }
        }
      ],
      "source": [
        "# fig, axs = plt.subplots(nrows=2, ncols=2, figsize=(15, 12))\n",
        "# plt.subplots_adjust(hspace=0.5)\n",
        "\n",
        "for categorical_feat in categorical_feats:\n",
        "# for categorical_feat, axis in zip(categorical_feats, axs.ravel()):\n",
        "    \n",
        "  ct = pd.crosstab(default_financial_data[target], default_financial_data[categorical_feat], normalize = 'index')\n",
        "  \n",
        "  ax = ct.plot(kind='bar', color=['pink', 'yellow', 'green', 'violet', 'orange'], stacked=True, rot=0)\n",
        "  title = \"Proportion of Customers in each Category of \" + categorical_feat + \" Based on \" + target\n",
        "  plt.title(title)\n",
        "  plt.ylabel(\"Proportion\")\n",
        "\n",
        "  # add annotations if desired\n",
        "  for c in ax.containers:\n",
        "    \n",
        "    # set the bar label\n",
        "    ax.bar_label(c, label_type='center')\n",
        "  \n",
        "  plt.show()"
      ]
    },
    {
      "cell_type": "markdown",
      "metadata": {
        "id": "rYIujewgVAeV"
      },
      "source": [
        "**Averages for Each Continuous Feature (X2 to X12) Based on Default_Ind**"
      ]
    },
    {
      "cell_type": "code",
      "execution_count": 178,
      "metadata": {
        "colab": {
          "base_uri": "https://localhost:8080/",
          "height": 1000
        },
        "id": "JWLIwpknQH8W",
        "outputId": "352eddbd-ad4c-46f3-85ca-b7b8d52f0dbe"
      },
      "outputs": [
        {
          "output_type": "display_data",
          "data": {
            "text/plain": [
              "<Figure size 432x288 with 1 Axes>"
            ],
            "image/png": "[encoded data removed]"
          },
          "metadata": {
            "needs_background": "light"
          }
        },
        {
          "output_type": "display_data",
          "data": {
            "text/plain": [
              "<Figure size 432x288 with 1 Axes>"
            ],
            "image/png": "[encoded data removed]"
          },
          "metadata": {
            "needs_background": "light"
          }
        },
        {
          "output_type": "display_data",
          "data": {
            "text/plain": [
              "<Figure size 432x288 with 1 Axes>"
            ],
            "image/png": "[encoded data removed]"
          },
          "metadata": {
            "needs_background": "light"
          }
        },
        {
          "output_type": "display_data",
          "data": {
            "text/plain": [
              "<Figure size 432x288 with 1 Axes>"
            ],
            "image/png": "[encoded data removed]"
          },
          "metadata": {
            "needs_background": "light"
          }
        },
        {
          "output_type": "display_data",
          "data": {
            "text/plain": [
              "<Figure size 432x288 with 1 Axes>"
            ],
            "image/png": "[encoded data removed]"
          },
          "metadata": {
            "needs_background": "light"
          }
        },
        {
          "output_type": "display_data",
          "data": {
            "text/plain": [
              "<Figure size 432x288 with 1 Axes>"
            ],
            "image/png": "[encoded data removed]"
          },
          "metadata": {
            "needs_background": "light"
          }
        },
        {
          "output_type": "display_data",
          "data": {
            "text/plain": [
              "<Figure size 432x288 with 1 Axes>"
            ],
            "image/png": "[encoded data removed]"
          },
          "metadata": {
            "needs_background": "light"
          }
        },
        {
          "output_type": "display_data",
          "data": {
            "text/plain": [
              "<Figure size 432x288 with 1 Axes>"
            ],
            "image/png": "[encoded data removed]"
          },
          "metadata": {
            "needs_background": "light"
          }
        },
        {
          "output_type": "display_data",
          "data": {
            "text/plain": [
              "<Figure size 432x288 with 1 Axes>"
            ],
            "image/png": "[encoded data removed]"
          },
          "metadata": {
            "needs_background": "light"
          }
        },
        {
          "output_type": "display_data",
          "data": {
            "text/plain": [
              "<Figure size 432x288 with 1 Axes>"
            ],
            "image/png": "[encoded data removed]"
          },
          "metadata": {
            "needs_background": "light"
          }
        },
        {
          "output_type": "display_data",
          "data": {
            "text/plain": [
              "<Figure size 432x288 with 1 Axes>"
            ],
            "image/png": "[encoded data removed]"
          },
          "metadata": {
            "needs_background": "light"
          }
        }
      ],
      "source": [
        "for i, continuous_feat in enumerate(continuous_feats):\n",
        "  group = default_financial_data.groupby(target)[continuous_feat].mean()\n",
        "  title = \"Average of \" + continuous_feat + \" Based by \" + target\n",
        "  y_axis_title = \"Average of \" + continuous_feat\n",
        "  plt.title(title)\n",
        "  plt.ylabel(y_axis_title)\n",
        "\n",
        "  ax = group.plot(kind='bar', color=['blue','red'], stacked=False, rot=0)\n",
        "\n",
        "  # add annotations if desired\n",
        "  for c in ax.containers:\n",
        "        \n",
        "    # set the bar label\n",
        "    ax.bar_label(c, label_type='center')\n",
        "  \n",
        "  plt.show()"
      ]
    },
    {
      "cell_type": "markdown",
      "metadata": {
        "id": "ofBcgraQmMEm"
      },
      "source": [
        "**NOTE: Based on INSTRUCTIONS GIVEN:**\n",
        "\n",
        "**Treat the first 7,000 observations as your training data and preserve the remaining 3,000 observations for testing model performance.**\n",
        "\n",
        "**Split Training Set (X_train and y_train) and Testing Set (X_test and y_test)**"
      ]
    },
    {
      "cell_type": "code",
      "execution_count": 179,
      "metadata": {
        "id": "k7tKZGvHTVt1"
      },
      "outputs": [],
      "source": [
        "# Splitting DataFrame into Training and Testing Sets Based on GIVEN INSTRUCTION\n",
        "X_train, X_test, y_train, y_test = X.iloc[:7000, ], X.iloc[7000:, ], y.iloc[:7000,], y.iloc[7000:,]"
      ]
    },
    {
      "cell_type": "code",
      "execution_count": 180,
      "metadata": {
        "colab": {
          "base_uri": "https://localhost:8080/"
        },
        "id": "IP4tQe0D3oGn",
        "outputId": "4fca21f8-91f1-497b-d94c-dbe522d88fc6"
      },
      "outputs": [
        {
          "output_type": "execute_result",
          "data": {
            "text/plain": [
              "0    6910\n",
              "1      90\n",
              "Name: Default_Ind, dtype: int64"
            ]
          },
          "metadata": {},
          "execution_count": 180
        }
      ],
      "source": [
        "# Checking Number of observations by Default_Ind in y_train\n",
        "y_train.value_counts()"
      ]
    },
    {
      "cell_type": "code",
      "execution_count": 181,
      "metadata": {
        "colab": {
          "base_uri": "https://localhost:8080/"
        },
        "id": "gRnDZ7nX4FVJ",
        "outputId": "86988734-d0dd-4b33-8ec6-fe092008c405"
      },
      "outputs": [
        {
          "output_type": "execute_result",
          "data": {
            "text/plain": [
              "0    2961\n",
              "1      39\n",
              "Name: Default_Ind, dtype: int64"
            ]
          },
          "metadata": {},
          "execution_count": 181
        }
      ],
      "source": [
        "# Checking Number of observations by Default_Ind in y_test\n",
        "y_test.value_counts()"
      ]
    },
    {
      "cell_type": "code",
      "execution_count": 182,
      "metadata": {
        "colab": {
          "base_uri": "https://localhost:8080/",
          "height": 423
        },
        "id": "t2xkSSN8oDBh",
        "outputId": "32f12008-8c87-433a-8414-4b06dc011324"
      },
      "outputs": [
        {
          "output_type": "execute_result",
          "data": {
            "text/plain": [
              "                    X1        X2        X3            X4        X5        X6  \\\n",
              "0                  C&I  0.113703  0.795355  1.156189e+06  0.090963  0.963879   \n",
              "1        CRE Permanent  0.622299  0.364232  1.101436e+06  0.497840  0.606212   \n",
              "2     CRE Construction  0.609275  0.821238  1.046683e+06  0.487420  0.296746   \n",
              "3     CRE Construction  0.623379  0.613073  1.085325e+06  0.498704  0.641079   \n",
              "4     CRE Construction  0.860915  0.709228  1.051379e+06  0.688732  0.339430   \n",
              "...                ...       ...       ...           ...       ...       ...   \n",
              "6995  CRE Construction  0.783057  0.318378  9.576886e+05  0.298549  0.305136   \n",
              "6996  CRE Construction  0.523316  0.429262  1.058638e+06  0.418653  0.084642   \n",
              "6997     CRE Permanent  0.412300  0.955352  9.692572e+05  0.329840  0.679837   \n",
              "6998     CRE Permanent  0.214976  0.621003  1.033010e+06  0.171981  0.499849   \n",
              "6999  CRE Construction  0.903943  0.192339  1.062840e+06  0.723155  0.853868   \n",
              "\n",
              "              X7        X8         X9       X10       X11       X12 X13   X14  \\\n",
              "0     120.606137  0.966454  -6.884990  0.195105  1.093855  0.890361   C  T982   \n",
              "1     109.621719  0.440733 -10.010214  1.600637  1.146797  0.857632   B  X456   \n",
              "2      94.520306  0.007491  10.726384  0.434792  1.050520  0.150828   B  T982   \n",
              "3      94.933871  0.910976   0.476127  0.341299  1.011261  0.120293   B  T982   \n",
              "4     106.331848  0.939269   0.251195  0.967834  1.002241  0.329663   B  R567   \n",
              "...          ...       ...        ...       ...       ...       ...  ..   ...   \n",
              "6995   92.890440  0.371497  -2.059639  0.812265  1.633700  0.160641   B  Y237   \n",
              "6996   88.075916  0.750766  -5.635575  0.416996  1.462425  0.620608   C  R567   \n",
              "6997  121.769279  0.328850   2.077248  0.198077  1.015395  0.936479   C  Y237   \n",
              "6998   96.251117  0.561463   1.764575  3.379386  1.159146  0.041222   B  T982   \n",
              "6999  109.149140  0.515751  -2.938275  0.489448  1.184276  0.988353   A  Y237   \n",
              "\n",
              "      X15  \n",
              "0     Yes  \n",
              "1     Yes  \n",
              "2     Yes  \n",
              "3      No  \n",
              "4     Yes  \n",
              "...   ...  \n",
              "6995  Yes  \n",
              "6996  Yes  \n",
              "6997  Yes  \n",
              "6998   No  \n",
              "6999   No  \n",
              "\n",
              "[7000 rows x 15 columns]"
            ],
            "text/html": [
              "\n",
              "  <div id=\"df-e5fca94c-2dc6-4c98-962b-851856486d6b\">\n",
              "    <div class=\"colab-df-container\">\n",
              "      <div>\n",
              "<style scoped>\n",
              "    .dataframe tbody tr th:only-of-type {\n",
              "        vertical-align: middle;\n",
              "    }\n",
              "\n",
              "    .dataframe tbody tr th {\n",
              "        vertical-align: top;\n",
              "    }\n",
              "\n",
              "    .dataframe thead th {\n",
              "        text-align: right;\n",
              "    }\n",
              "</style>\n",
              "<table border=\"1\" class=\"dataframe\">\n",
              "  <thead>\n",
              "    <tr style=\"text-align: right;\">\n",
              "      <th></th>\n",
              "      <th>X1</th>\n",
              "      <th>X2</th>\n",
              "      <th>X3</th>\n",
              "      <th>X4</th>\n",
              "      <th>X5</th>\n",
              "      <th>X6</th>\n",
              "      <th>X7</th>\n",
              "      <th>X8</th>\n",
              "      <th>X9</th>\n",
              "      <th>X10</th>\n",
              "      <th>X11</th>\n",
              "      <th>X12</th>\n",
              "      <th>X13</th>\n",
              "      <th>X14</th>\n",
              "      <th>X15</th>\n",
              "    </tr>\n",
              "  </thead>\n",
              "  <tbody>\n",
              "    <tr>\n",
              "      <th>0</th>\n",
              "      <td>C&amp;I</td>\n",
              "      <td>0.113703</td>\n",
              "      <td>0.795355</td>\n",
              "      <td>1.156189e+06</td>\n",
              "      <td>0.090963</td>\n",
              "      <td>0.963879</td>\n",
              "      <td>120.606137</td>\n",
              "      <td>0.966454</td>\n",
              "      <td>-6.884990</td>\n",
              "      <td>0.195105</td>\n",
              "      <td>1.093855</td>\n",
              "      <td>0.890361</td>\n",
              "      <td>C</td>\n",
              "      <td>T982</td>\n",
              "      <td>Yes</td>\n",
              "    </tr>\n",
              "    <tr>\n",
              "      <th>1</th>\n",
              "      <td>CRE Permanent</td>\n",
              "      <td>0.622299</td>\n",
              "      <td>0.364232</td>\n",
              "      <td>1.101436e+06</td>\n",
              "      <td>0.497840</td>\n",
              "      <td>0.606212</td>\n",
              "      <td>109.621719</td>\n",
              "      <td>0.440733</td>\n",
              "      <td>-10.010214</td>\n",
              "      <td>1.600637</td>\n",
              "      <td>1.146797</td>\n",
              "      <td>0.857632</td>\n",
              "      <td>B</td>\n",
              "      <td>X456</td>\n",
              "      <td>Yes</td>\n",
              "    </tr>\n",
              "    <tr>\n",
              "      <th>2</th>\n",
              "      <td>CRE Construction</td>\n",
              "      <td>0.609275</td>\n",
              "      <td>0.821238</td>\n",
              "      <td>1.046683e+06</td>\n",
              "      <td>0.487420</td>\n",
              "      <td>0.296746</td>\n",
              "      <td>94.520306</td>\n",
              "      <td>0.007491</td>\n",
              "      <td>10.726384</td>\n",
              "      <td>0.434792</td>\n",
              "      <td>1.050520</td>\n",
              "      <td>0.150828</td>\n",
              "      <td>B</td>\n",
              "      <td>T982</td>\n",
              "      <td>Yes</td>\n",
              "    </tr>\n",
              "    <tr>\n",
              "      <th>3</th>\n",
              "      <td>CRE Construction</td>\n",
              "      <td>0.623379</td>\n",
              "      <td>0.613073</td>\n",
              "      <td>1.085325e+06</td>\n",
              "      <td>0.498704</td>\n",
              "      <td>0.641079</td>\n",
              "      <td>94.933871</td>\n",
              "      <td>0.910976</td>\n",
              "      <td>0.476127</td>\n",
              "      <td>0.341299</td>\n",
              "      <td>1.011261</td>\n",
              "      <td>0.120293</td>\n",
              "      <td>B</td>\n",
              "      <td>T982</td>\n",
              "      <td>No</td>\n",
              "    </tr>\n",
              "    <tr>\n",
              "      <th>4</th>\n",
              "      <td>CRE Construction</td>\n",
              "      <td>0.860915</td>\n",
              "      <td>0.709228</td>\n",
              "      <td>1.051379e+06</td>\n",
              "      <td>0.688732</td>\n",
              "      <td>0.339430</td>\n",
              "      <td>106.331848</td>\n",
              "      <td>0.939269</td>\n",
              "      <td>0.251195</td>\n",
              "      <td>0.967834</td>\n",
              "      <td>1.002241</td>\n",
              "      <td>0.329663</td>\n",
              "      <td>B</td>\n",
              "      <td>R567</td>\n",
              "      <td>Yes</td>\n",
              "    </tr>\n",
              "    <tr>\n",
              "      <th>...</th>\n",
              "      <td>...</td>\n",
              "      <td>...</td>\n",
              "      <td>...</td>\n",
              "      <td>...</td>\n",
              "      <td>...</td>\n",
              "      <td>...</td>\n",
              "      <td>...</td>\n",
              "      <td>...</td>\n",
              "      <td>...</td>\n",
              "      <td>...</td>\n",
              "      <td>...</td>\n",
              "      <td>...</td>\n",
              "      <td>...</td>\n",
              "      <td>...</td>\n",
              "      <td>...</td>\n",
              "    </tr>\n",
              "    <tr>\n",
              "      <th>6995</th>\n",
              "      <td>CRE Construction</td>\n",
              "      <td>0.783057</td>\n",
              "      <td>0.318378</td>\n",
              "      <td>9.576886e+05</td>\n",
              "      <td>0.298549</td>\n",
              "      <td>0.305136</td>\n",
              "      <td>92.890440</td>\n",
              "      <td>0.371497</td>\n",
              "      <td>-2.059639</td>\n",
              "      <td>0.812265</td>\n",
              "      <td>1.633700</td>\n",
              "      <td>0.160641</td>\n",
              "      <td>B</td>\n",
              "      <td>Y237</td>\n",
              "      <td>Yes</td>\n",
              "    </tr>\n",
              "    <tr>\n",
              "      <th>6996</th>\n",
              "      <td>CRE Construction</td>\n",
              "      <td>0.523316</td>\n",
              "      <td>0.429262</td>\n",
              "      <td>1.058638e+06</td>\n",
              "      <td>0.418653</td>\n",
              "      <td>0.084642</td>\n",
              "      <td>88.075916</td>\n",
              "      <td>0.750766</td>\n",
              "      <td>-5.635575</td>\n",
              "      <td>0.416996</td>\n",
              "      <td>1.462425</td>\n",
              "      <td>0.620608</td>\n",
              "      <td>C</td>\n",
              "      <td>R567</td>\n",
              "      <td>Yes</td>\n",
              "    </tr>\n",
              "    <tr>\n",
              "      <th>6997</th>\n",
              "      <td>CRE Permanent</td>\n",
              "      <td>0.412300</td>\n",
              "      <td>0.955352</td>\n",
              "      <td>9.692572e+05</td>\n",
              "      <td>0.329840</td>\n",
              "      <td>0.679837</td>\n",
              "      <td>121.769279</td>\n",
              "      <td>0.328850</td>\n",
              "      <td>2.077248</td>\n",
              "      <td>0.198077</td>\n",
              "      <td>1.015395</td>\n",
              "      <td>0.936479</td>\n",
              "      <td>C</td>\n",
              "      <td>Y237</td>\n",
              "      <td>Yes</td>\n",
              "    </tr>\n",
              "    <tr>\n",
              "      <th>6998</th>\n",
              "      <td>CRE Permanent</td>\n",
              "      <td>0.214976</td>\n",
              "      <td>0.621003</td>\n",
              "      <td>1.033010e+06</td>\n",
              "      <td>0.171981</td>\n",
              "      <td>0.499849</td>\n",
              "      <td>96.251117</td>\n",
              "      <td>0.561463</td>\n",
              "      <td>1.764575</td>\n",
              "      <td>3.379386</td>\n",
              "      <td>1.159146</td>\n",
              "      <td>0.041222</td>\n",
              "      <td>B</td>\n",
              "      <td>T982</td>\n",
              "      <td>No</td>\n",
              "    </tr>\n",
              "    <tr>\n",
              "      <th>6999</th>\n",
              "      <td>CRE Construction</td>\n",
              "      <td>0.903943</td>\n",
              "      <td>0.192339</td>\n",
              "      <td>1.062840e+06</td>\n",
              "      <td>0.723155</td>\n",
              "      <td>0.853868</td>\n",
              "      <td>109.149140</td>\n",
              "      <td>0.515751</td>\n",
              "      <td>-2.938275</td>\n",
              "      <td>0.489448</td>\n",
              "      <td>1.184276</td>\n",
              "      <td>0.988353</td>\n",
              "      <td>A</td>\n",
              "      <td>Y237</td>\n",
              "      <td>No</td>\n",
              "    </tr>\n",
              "  </tbody>\n",
              "</table>\n",
              "<p>7000 rows × 15 columns</p>\n",
              "</div>\n",
              "      <button class=\"colab-df-convert\" onclick=\"convertToInteractive('df-e5fca94c-2dc6-4c98-962b-851856486d6b')\"\n",
              "              title=\"Convert this dataframe to an interactive table.\"\n",
              "              style=\"display:none;\">\n",
              "        \n",
              "  <svg xmlns=\"http://www.w3.org/2000/svg\" height=\"24px\"viewBox=\"0 0 24 24\"\n",
              "       width=\"24px\">\n",
              "    <path d=\"M0 0h24v24H0V0z\" fill=\"none\"/>\n",
              "    <path d=\"M18.56 5.44l.94 2.06.94-2.06 2.06-.94-2.06-.94-.94-2.06-.94 2.06-2.06.94zm-11 1L8.5 8.5l.94-2.06 2.06-.94-2.06-.94L8.5 2.5l-.94 2.06-2.06.94zm10 10l.94 2.06.94-2.06 2.06-.94-2.06-.94-.94-2.06-.94 2.06-2.06.94z\"/><path d=\"M17.41 7.96l-1.37-1.37c-.4-.4-.92-.59-1.43-.59-.52 0-1.04.2-1.43.59L10.3 9.45l-7.72 7.72c-.78.78-.78 2.05 0 2.83L4 21.41c.39.39.9.59 1.41.59.51 0 1.02-.2 1.41-.59l7.78-7.78 2.81-2.81c.8-.78.8-2.07 0-2.86zM5.41 20L4 18.59l7.72-7.72 1.47 1.35L5.41 20z\"/>\n",
              "  </svg>\n",
              "      </button>\n",
              "      \n",
              "  <style>\n",
              "    .colab-df-container {\n",
              "      display:flex;\n",
              "      flex-wrap:wrap;\n",
              "      gap: 12px;\n",
              "    }\n",
              "\n",
              "    .colab-df-convert {\n",
              "      background-color: #E8F0FE;\n",
              "      border: none;\n",
              "      border-radius: 50%;\n",
              "      cursor: pointer;\n",
              "      display: none;\n",
              "      fill: #1967D2;\n",
              "      height: 32px;\n",
              "      padding: 0 0 0 0;\n",
              "      width: 32px;\n",
              "    }\n",
              "\n",
              "    .colab-df-convert:hover {\n",
              "      background-color: #E2EBFA;\n",
              "      box-shadow: 0px 1px 2px rgba(60, 64, 67, 0.3), 0px 1px 3px 1px rgba(60, 64, 67, 0.15);\n",
              "      fill: #174EA6;\n",
              "    }\n",
              "\n",
              "    [theme=dark] .colab-df-convert {\n",
              "      background-color: #3B4455;\n",
              "      fill: #D2E3FC;\n",
              "    }\n",
              "\n",
              "    [theme=dark] .colab-df-convert:hover {\n",
              "      background-color: #434B5C;\n",
              "      box-shadow: 0px 1px 3px 1px rgba(0, 0, 0, 0.15);\n",
              "      filter: drop-shadow(0px 1px 2px rgba(0, 0, 0, 0.3));\n",
              "      fill: #FFFFFF;\n",
              "    }\n",
              "  </style>\n",
              "\n",
              "      <script>\n",
              "        const buttonEl =\n",
              "          document.querySelector('#df-e5fca94c-2dc6-4c98-962b-851856486d6b button.colab-df-convert');\n",
              "        buttonEl.style.display =\n",
              "          google.colab.kernel.accessAllowed ? 'block' : 'none';\n",
              "\n",
              "        async function convertToInteractive(key) {\n",
              "          const element = document.querySelector('#df-e5fca94c-2dc6-4c98-962b-851856486d6b');\n",
              "          const dataTable =\n",
              "            await google.colab.kernel.invokeFunction('convertToInteractive',\n",
              "                                                     [key], {});\n",
              "          if (!dataTable) return;\n",
              "\n",
              "          const docLinkHtml = 'Like what you see? Visit the ' +\n",
              "            '<a target=\"_blank\" href=https://colab.research.google.com/notebooks/data_table.ipynb>data table notebook</a>'\n",
              "            + ' to learn more about interactive tables.';\n",
              "          element.innerHTML = '';\n",
              "          dataTable['output_type'] = 'display_data';\n",
              "          await google.colab.output.renderOutput(dataTable, element);\n",
              "          const docLink = document.createElement('div');\n",
              "          docLink.innerHTML = docLinkHtml;\n",
              "          element.appendChild(docLink);\n",
              "        }\n",
              "      </script>\n",
              "    </div>\n",
              "  </div>\n",
              "  "
            ]
          },
          "metadata": {},
          "execution_count": 182
        }
      ],
      "source": [
        "# Inspection of X_train\n",
        "X_train"
      ]
    },
    {
      "cell_type": "code",
      "execution_count": 183,
      "metadata": {
        "colab": {
          "base_uri": "https://localhost:8080/",
          "height": 423
        },
        "id": "9nHNV3dWoOOG",
        "outputId": "aeb971ef-8244-4733-b370-363fc33de36b"
      },
      "outputs": [
        {
          "output_type": "execute_result",
          "data": {
            "text/plain": [
              "                    X1        X2         X3            X4        X5        X6  \\\n",
              "7000               C&I  0.027298   0.401540  9.300082e+05  0.021838  0.625839   \n",
              "7001               C&I  0.679032   0.848459  9.026285e+05  0.543226  0.689599   \n",
              "7002     CRE Permanent  0.189966   0.633293  9.186776e+05  0.151973  0.648468   \n",
              "7003               C&I  0.919028   0.688461  1.062604e+06  0.735222  0.884885   \n",
              "7004  CRE Construction  0.523663   0.405373  9.164936e+05  0.418931  0.371590   \n",
              "...                ...       ...        ...           ...       ...       ...   \n",
              "9995  CRE Construction  0.270278   0.008539  8.850822e+05  0.216223  0.182243   \n",
              "9996  CRE Construction  0.475298   0.895215  9.043524e+05  0.380238  0.996613   \n",
              "9997     CRE Permanent  0.567873   0.283908  1.148198e+06  0.454298  0.030040   \n",
              "9998     CRE Permanent  0.386750   0.022000  9.930722e+05  0.309400  0.590155   \n",
              "9999     CRE Permanent  0.989971  10.123400  9.488357e+05  0.791977  0.799594   \n",
              "\n",
              "              X7        X8         X9       X10       X11       X12 X13   X14  \\\n",
              "7000   94.380805  0.816985  -7.087859  1.705657  1.152691  0.314339   B  Y237   \n",
              "7001  101.710382  0.344600   9.508820  0.782513  1.056563  0.979796   A  T982   \n",
              "7002   94.618248  0.307379   1.989132  0.402333  1.041925  0.452044   B  T982   \n",
              "7003   92.422940  0.160765  -1.401083  1.049699  1.021452  0.744432   A  X456   \n",
              "7004   96.033390  0.053421   4.157838  0.393866  1.005077  0.997030   C  Y237   \n",
              "...          ...       ...        ...       ...       ...       ...  ..   ...   \n",
              "9995   93.327910  0.365837   3.216115  0.264882  1.016034  0.939384   C  X456   \n",
              "9996  110.811242  0.402671   5.670780  1.618431  1.008050  0.285680   B  Y237   \n",
              "9997   87.192711  0.974729   4.360080  0.270629  1.039594  0.179852   C  Z009   \n",
              "9998  104.540533  0.957730  -3.032178  0.619714  1.046326  0.729369   A  X456   \n",
              "9999   99.508643  0.552147 -10.415861  0.613431  1.940800  0.373588   B  Z009   \n",
              "\n",
              "      X15  \n",
              "7000   No  \n",
              "7001  Yes  \n",
              "7002  Yes  \n",
              "7003  Yes  \n",
              "7004  Yes  \n",
              "...   ...  \n",
              "9995  Yes  \n",
              "9996   No  \n",
              "9997  Yes  \n",
              "9998  Yes  \n",
              "9999  Yes  \n",
              "\n",
              "[3000 rows x 15 columns]"
            ],
            "text/html": [
              "\n",
              "  <div id=\"df-afddda85-9143-41fe-b808-23539697dea1\">\n",
              "    <div class=\"colab-df-container\">\n",
              "      <div>\n",
              "<style scoped>\n",
              "    .dataframe tbody tr th:only-of-type {\n",
              "        vertical-align: middle;\n",
              "    }\n",
              "\n",
              "    .dataframe tbody tr th {\n",
              "        vertical-align: top;\n",
              "    }\n",
              "\n",
              "    .dataframe thead th {\n",
              "        text-align: right;\n",
              "    }\n",
              "</style>\n",
              "<table border=\"1\" class=\"dataframe\">\n",
              "  <thead>\n",
              "    <tr style=\"text-align: right;\">\n",
              "      <th></th>\n",
              "      <th>X1</th>\n",
              "      <th>X2</th>\n",
              "      <th>X3</th>\n",
              "      <th>X4</th>\n",
              "      <th>X5</th>\n",
              "      <th>X6</th>\n",
              "      <th>X7</th>\n",
              "      <th>X8</th>\n",
              "      <th>X9</th>\n",
              "      <th>X10</th>\n",
              "      <th>X11</th>\n",
              "      <th>X12</th>\n",
              "      <th>X13</th>\n",
              "      <th>X14</th>\n",
              "      <th>X15</th>\n",
              "    </tr>\n",
              "  </thead>\n",
              "  <tbody>\n",
              "    <tr>\n",
              "      <th>7000</th>\n",
              "      <td>C&amp;I</td>\n",
              "      <td>0.027298</td>\n",
              "      <td>0.401540</td>\n",
              "      <td>9.300082e+05</td>\n",
              "      <td>0.021838</td>\n",
              "      <td>0.625839</td>\n",
              "      <td>94.380805</td>\n",
              "      <td>0.816985</td>\n",
              "      <td>-7.087859</td>\n",
              "      <td>1.705657</td>\n",
              "      <td>1.152691</td>\n",
              "      <td>0.314339</td>\n",
              "      <td>B</td>\n",
              "      <td>Y237</td>\n",
              "      <td>No</td>\n",
              "    </tr>\n",
              "    <tr>\n",
              "      <th>7001</th>\n",
              "      <td>C&amp;I</td>\n",
              "      <td>0.679032</td>\n",
              "      <td>0.848459</td>\n",
              "      <td>9.026285e+05</td>\n",
              "      <td>0.543226</td>\n",
              "      <td>0.689599</td>\n",
              "      <td>101.710382</td>\n",
              "      <td>0.344600</td>\n",
              "      <td>9.508820</td>\n",
              "      <td>0.782513</td>\n",
              "      <td>1.056563</td>\n",
              "      <td>0.979796</td>\n",
              "      <td>A</td>\n",
              "      <td>T982</td>\n",
              "      <td>Yes</td>\n",
              "    </tr>\n",
              "    <tr>\n",
              "      <th>7002</th>\n",
              "      <td>CRE Permanent</td>\n",
              "      <td>0.189966</td>\n",
              "      <td>0.633293</td>\n",
              "      <td>9.186776e+05</td>\n",
              "      <td>0.151973</td>\n",
              "      <td>0.648468</td>\n",
              "      <td>94.618248</td>\n",
              "      <td>0.307379</td>\n",
              "      <td>1.989132</td>\n",
              "      <td>0.402333</td>\n",
              "      <td>1.041925</td>\n",
              "      <td>0.452044</td>\n",
              "      <td>B</td>\n",
              "      <td>T982</td>\n",
              "      <td>Yes</td>\n",
              "    </tr>\n",
              "    <tr>\n",
              "      <th>7003</th>\n",
              "      <td>C&amp;I</td>\n",
              "      <td>0.919028</td>\n",
              "      <td>0.688461</td>\n",
              "      <td>1.062604e+06</td>\n",
              "      <td>0.735222</td>\n",
              "      <td>0.884885</td>\n",
              "      <td>92.422940</td>\n",
              "      <td>0.160765</td>\n",
              "      <td>-1.401083</td>\n",
              "      <td>1.049699</td>\n",
              "      <td>1.021452</td>\n",
              "      <td>0.744432</td>\n",
              "      <td>A</td>\n",
              "      <td>X456</td>\n",
              "      <td>Yes</td>\n",
              "    </tr>\n",
              "    <tr>\n",
              "      <th>7004</th>\n",
              "      <td>CRE Construction</td>\n",
              "      <td>0.523663</td>\n",
              "      <td>0.405373</td>\n",
              "      <td>9.164936e+05</td>\n",
              "      <td>0.418931</td>\n",
              "      <td>0.371590</td>\n",
              "      <td>96.033390</td>\n",
              "      <td>0.053421</td>\n",
              "      <td>4.157838</td>\n",
              "      <td>0.393866</td>\n",
              "      <td>1.005077</td>\n",
              "      <td>0.997030</td>\n",
              "      <td>C</td>\n",
              "      <td>Y237</td>\n",
              "      <td>Yes</td>\n",
              "    </tr>\n",
              "    <tr>\n",
              "      <th>...</th>\n",
              "      <td>...</td>\n",
              "      <td>...</td>\n",
              "      <td>...</td>\n",
              "      <td>...</td>\n",
              "      <td>...</td>\n",
              "      <td>...</td>\n",
              "      <td>...</td>\n",
              "      <td>...</td>\n",
              "      <td>...</td>\n",
              "      <td>...</td>\n",
              "      <td>...</td>\n",
              "      <td>...</td>\n",
              "      <td>...</td>\n",
              "      <td>...</td>\n",
              "      <td>...</td>\n",
              "    </tr>\n",
              "    <tr>\n",
              "      <th>9995</th>\n",
              "      <td>CRE Construction</td>\n",
              "      <td>0.270278</td>\n",
              "      <td>0.008539</td>\n",
              "      <td>8.850822e+05</td>\n",
              "      <td>0.216223</td>\n",
              "      <td>0.182243</td>\n",
              "      <td>93.327910</td>\n",
              "      <td>0.365837</td>\n",
              "      <td>3.216115</td>\n",
              "      <td>0.264882</td>\n",
              "      <td>1.016034</td>\n",
              "      <td>0.939384</td>\n",
              "      <td>C</td>\n",
              "      <td>X456</td>\n",
              "      <td>Yes</td>\n",
              "    </tr>\n",
              "    <tr>\n",
              "      <th>9996</th>\n",
              "      <td>CRE Construction</td>\n",
              "      <td>0.475298</td>\n",
              "      <td>0.895215</td>\n",
              "      <td>9.043524e+05</td>\n",
              "      <td>0.380238</td>\n",
              "      <td>0.996613</td>\n",
              "      <td>110.811242</td>\n",
              "      <td>0.402671</td>\n",
              "      <td>5.670780</td>\n",
              "      <td>1.618431</td>\n",
              "      <td>1.008050</td>\n",
              "      <td>0.285680</td>\n",
              "      <td>B</td>\n",
              "      <td>Y237</td>\n",
              "      <td>No</td>\n",
              "    </tr>\n",
              "    <tr>\n",
              "      <th>9997</th>\n",
              "      <td>CRE Permanent</td>\n",
              "      <td>0.567873</td>\n",
              "      <td>0.283908</td>\n",
              "      <td>1.148198e+06</td>\n",
              "      <td>0.454298</td>\n",
              "      <td>0.030040</td>\n",
              "      <td>87.192711</td>\n",
              "      <td>0.974729</td>\n",
              "      <td>4.360080</td>\n",
              "      <td>0.270629</td>\n",
              "      <td>1.039594</td>\n",
              "      <td>0.179852</td>\n",
              "      <td>C</td>\n",
              "      <td>Z009</td>\n",
              "      <td>Yes</td>\n",
              "    </tr>\n",
              "    <tr>\n",
              "      <th>9998</th>\n",
              "      <td>CRE Permanent</td>\n",
              "      <td>0.386750</td>\n",
              "      <td>0.022000</td>\n",
              "      <td>9.930722e+05</td>\n",
              "      <td>0.309400</td>\n",
              "      <td>0.590155</td>\n",
              "      <td>104.540533</td>\n",
              "      <td>0.957730</td>\n",
              "      <td>-3.032178</td>\n",
              "      <td>0.619714</td>\n",
              "      <td>1.046326</td>\n",
              "      <td>0.729369</td>\n",
              "      <td>A</td>\n",
              "      <td>X456</td>\n",
              "      <td>Yes</td>\n",
              "    </tr>\n",
              "    <tr>\n",
              "      <th>9999</th>\n",
              "      <td>CRE Permanent</td>\n",
              "      <td>0.989971</td>\n",
              "      <td>10.123400</td>\n",
              "      <td>9.488357e+05</td>\n",
              "      <td>0.791977</td>\n",
              "      <td>0.799594</td>\n",
              "      <td>99.508643</td>\n",
              "      <td>0.552147</td>\n",
              "      <td>-10.415861</td>\n",
              "      <td>0.613431</td>\n",
              "      <td>1.940800</td>\n",
              "      <td>0.373588</td>\n",
              "      <td>B</td>\n",
              "      <td>Z009</td>\n",
              "      <td>Yes</td>\n",
              "    </tr>\n",
              "  </tbody>\n",
              "</table>\n",
              "<p>3000 rows × 15 columns</p>\n",
              "</div>\n",
              "      <button class=\"colab-df-convert\" onclick=\"convertToInteractive('df-afddda85-9143-41fe-b808-23539697dea1')\"\n",
              "              title=\"Convert this dataframe to an interactive table.\"\n",
              "              style=\"display:none;\">\n",
              "        \n",
              "  <svg xmlns=\"http://www.w3.org/2000/svg\" height=\"24px\"viewBox=\"0 0 24 24\"\n",
              "       width=\"24px\">\n",
              "    <path d=\"M0 0h24v24H0V0z\" fill=\"none\"/>\n",
              "    <path d=\"M18.56 5.44l.94 2.06.94-2.06 2.06-.94-2.06-.94-.94-2.06-.94 2.06-2.06.94zm-11 1L8.5 8.5l.94-2.06 2.06-.94-2.06-.94L8.5 2.5l-.94 2.06-2.06.94zm10 10l.94 2.06.94-2.06 2.06-.94-2.06-.94-.94-2.06-.94 2.06-2.06.94z\"/><path d=\"M17.41 7.96l-1.37-1.37c-.4-.4-.92-.59-1.43-.59-.52 0-1.04.2-1.43.59L10.3 9.45l-7.72 7.72c-.78.78-.78 2.05 0 2.83L4 21.41c.39.39.9.59 1.41.59.51 0 1.02-.2 1.41-.59l7.78-7.78 2.81-2.81c.8-.78.8-2.07 0-2.86zM5.41 20L4 18.59l7.72-7.72 1.47 1.35L5.41 20z\"/>\n",
              "  </svg>\n",
              "      </button>\n",
              "      \n",
              "  <style>\n",
              "    .colab-df-container {\n",
              "      display:flex;\n",
              "      flex-wrap:wrap;\n",
              "      gap: 12px;\n",
              "    }\n",
              "\n",
              "    .colab-df-convert {\n",
              "      background-color: #E8F0FE;\n",
              "      border: none;\n",
              "      border-radius: 50%;\n",
              "      cursor: pointer;\n",
              "      display: none;\n",
              "      fill: #1967D2;\n",
              "      height: 32px;\n",
              "      padding: 0 0 0 0;\n",
              "      width: 32px;\n",
              "    }\n",
              "\n",
              "    .colab-df-convert:hover {\n",
              "      background-color: #E2EBFA;\n",
              "      box-shadow: 0px 1px 2px rgba(60, 64, 67, 0.3), 0px 1px 3px 1px rgba(60, 64, 67, 0.15);\n",
              "      fill: #174EA6;\n",
              "    }\n",
              "\n",
              "    [theme=dark] .colab-df-convert {\n",
              "      background-color: #3B4455;\n",
              "      fill: #D2E3FC;\n",
              "    }\n",
              "\n",
              "    [theme=dark] .colab-df-convert:hover {\n",
              "      background-color: #434B5C;\n",
              "      box-shadow: 0px 1px 3px 1px rgba(0, 0, 0, 0.15);\n",
              "      filter: drop-shadow(0px 1px 2px rgba(0, 0, 0, 0.3));\n",
              "      fill: #FFFFFF;\n",
              "    }\n",
              "  </style>\n",
              "\n",
              "      <script>\n",
              "        const buttonEl =\n",
              "          document.querySelector('#df-afddda85-9143-41fe-b808-23539697dea1 button.colab-df-convert');\n",
              "        buttonEl.style.display =\n",
              "          google.colab.kernel.accessAllowed ? 'block' : 'none';\n",
              "\n",
              "        async function convertToInteractive(key) {\n",
              "          const element = document.querySelector('#df-afddda85-9143-41fe-b808-23539697dea1');\n",
              "          const dataTable =\n",
              "            await google.colab.kernel.invokeFunction('convertToInteractive',\n",
              "                                                     [key], {});\n",
              "          if (!dataTable) return;\n",
              "\n",
              "          const docLinkHtml = 'Like what you see? Visit the ' +\n",
              "            '<a target=\"_blank\" href=https://colab.research.google.com/notebooks/data_table.ipynb>data table notebook</a>'\n",
              "            + ' to learn more about interactive tables.';\n",
              "          element.innerHTML = '';\n",
              "          dataTable['output_type'] = 'display_data';\n",
              "          await google.colab.output.renderOutput(dataTable, element);\n",
              "          const docLink = document.createElement('div');\n",
              "          docLink.innerHTML = docLinkHtml;\n",
              "          element.appendChild(docLink);\n",
              "        }\n",
              "      </script>\n",
              "    </div>\n",
              "  </div>\n",
              "  "
            ]
          },
          "metadata": {},
          "execution_count": 183
        }
      ],
      "source": [
        "# Inspection of X_test\n",
        "X_test"
      ]
    },
    {
      "cell_type": "code",
      "execution_count": 184,
      "metadata": {
        "colab": {
          "base_uri": "https://localhost:8080/"
        },
        "id": "AbQhwoDqoORj",
        "outputId": "45837b0b-d012-4357-d109-92379a6e1906"
      },
      "outputs": [
        {
          "output_type": "execute_result",
          "data": {
            "text/plain": [
              "0       0\n",
              "1       0\n",
              "2       0\n",
              "3       0\n",
              "4       0\n",
              "       ..\n",
              "6995    0\n",
              "6996    0\n",
              "6997    0\n",
              "6998    0\n",
              "6999    0\n",
              "Name: Default_Ind, Length: 7000, dtype: object"
            ]
          },
          "metadata": {},
          "execution_count": 184
        }
      ],
      "source": [
        "# Inspection of y_train\n",
        "y_train"
      ]
    },
    {
      "cell_type": "code",
      "execution_count": 185,
      "metadata": {
        "colab": {
          "base_uri": "https://localhost:8080/"
        },
        "id": "o_xlFUBboOUu",
        "outputId": "56d52162-1acb-4172-c25c-fd2f7d8948f9"
      },
      "outputs": [
        {
          "output_type": "execute_result",
          "data": {
            "text/plain": [
              "7000    0\n",
              "7001    0\n",
              "7002    0\n",
              "7003    0\n",
              "7004    0\n",
              "       ..\n",
              "9995    0\n",
              "9996    0\n",
              "9997    0\n",
              "9998    0\n",
              "9999    0\n",
              "Name: Default_Ind, Length: 3000, dtype: object"
            ]
          },
          "metadata": {},
          "execution_count": 185
        }
      ],
      "source": [
        "# Inspection of y_test\n",
        "y_test"
      ]
    },
    {
      "cell_type": "markdown",
      "metadata": {
        "id": "7shtYaRLGEhu"
      },
      "source": [
        "# **Univariate Analysis**"
      ]
    },
    {
      "cell_type": "code",
      "execution_count": 186,
      "metadata": {
        "id": "QSuVIjtYlQp0"
      },
      "outputs": [],
      "source": [
        "# Make a deep copy of features dataframe (X_train) for converting categorical columns to numerical datatype\n",
        "X_train_copy = X_train.copy()"
      ]
    },
    {
      "cell_type": "code",
      "execution_count": 187,
      "metadata": {
        "colab": {
          "base_uri": "https://localhost:8080/",
          "height": 206
        },
        "id": "5Qx20nhNbTBV",
        "outputId": "21d702ed-699e-4913-89cd-6cb076b0a064"
      },
      "outputs": [
        {
          "output_type": "execute_result",
          "data": {
            "text/plain": [
              "  X1        X2        X3           X4        X5        X6          X7  \\\n",
              "0  0  0.113703  0.795355  1156188.606  0.090963  0.963879  120.606137   \n",
              "1  2  0.622299  0.364232  1101435.618  0.497840  0.606212  109.621719   \n",
              "2  1  0.609275  0.821238  1046682.630  0.487420  0.296746   94.520306   \n",
              "3  1  0.623379  0.613073  1085325.470  0.498704  0.641079   94.933871   \n",
              "4  1  0.860915  0.709228  1051378.694  0.688732  0.339430  106.331848   \n",
              "\n",
              "         X8         X9       X10       X11       X12 X13 X14 X15  \n",
              "0  0.966454  -6.884990  0.195105  1.093855  0.890361   2   1   1  \n",
              "1  0.440733 -10.010214  1.600637  1.146797  0.857632   1   2   1  \n",
              "2  0.007491  10.726384  0.434792  1.050520  0.150828   1   1   1  \n",
              "3  0.910976   0.476127  0.341299  1.011261  0.120293   1   1   0  \n",
              "4  0.939269   0.251195  0.967834  1.002241  0.329663   1   0   1  "
            ],
            "text/html": [
              "\n",
              "  <div id=\"df-5ffbfd4a-c524-4eac-b21c-fd9c3ddecf91\">\n",
              "    <div class=\"colab-df-container\">\n",
              "      <div>\n",
              "<style scoped>\n",
              "    .dataframe tbody tr th:only-of-type {\n",
              "        vertical-align: middle;\n",
              "    }\n",
              "\n",
              "    .dataframe tbody tr th {\n",
              "        vertical-align: top;\n",
              "    }\n",
              "\n",
              "    .dataframe thead th {\n",
              "        text-align: right;\n",
              "    }\n",
              "</style>\n",
              "<table border=\"1\" class=\"dataframe\">\n",
              "  <thead>\n",
              "    <tr style=\"text-align: right;\">\n",
              "      <th></th>\n",
              "      <th>X1</th>\n",
              "      <th>X2</th>\n",
              "      <th>X3</th>\n",
              "      <th>X4</th>\n",
              "      <th>X5</th>\n",
              "      <th>X6</th>\n",
              "      <th>X7</th>\n",
              "      <th>X8</th>\n",
              "      <th>X9</th>\n",
              "      <th>X10</th>\n",
              "      <th>X11</th>\n",
              "      <th>X12</th>\n",
              "      <th>X13</th>\n",
              "      <th>X14</th>\n",
              "      <th>X15</th>\n",
              "    </tr>\n",
              "  </thead>\n",
              "  <tbody>\n",
              "    <tr>\n",
              "      <th>0</th>\n",
              "      <td>0</td>\n",
              "      <td>0.113703</td>\n",
              "      <td>0.795355</td>\n",
              "      <td>1156188.606</td>\n",
              "      <td>0.090963</td>\n",
              "      <td>0.963879</td>\n",
              "      <td>120.606137</td>\n",
              "      <td>0.966454</td>\n",
              "      <td>-6.884990</td>\n",
              "      <td>0.195105</td>\n",
              "      <td>1.093855</td>\n",
              "      <td>0.890361</td>\n",
              "      <td>2</td>\n",
              "      <td>1</td>\n",
              "      <td>1</td>\n",
              "    </tr>\n",
              "    <tr>\n",
              "      <th>1</th>\n",
              "      <td>2</td>\n",
              "      <td>0.622299</td>\n",
              "      <td>0.364232</td>\n",
              "      <td>1101435.618</td>\n",
              "      <td>0.497840</td>\n",
              "      <td>0.606212</td>\n",
              "      <td>109.621719</td>\n",
              "      <td>0.440733</td>\n",
              "      <td>-10.010214</td>\n",
              "      <td>1.600637</td>\n",
              "      <td>1.146797</td>\n",
              "      <td>0.857632</td>\n",
              "      <td>1</td>\n",
              "      <td>2</td>\n",
              "      <td>1</td>\n",
              "    </tr>\n",
              "    <tr>\n",
              "      <th>2</th>\n",
              "      <td>1</td>\n",
              "      <td>0.609275</td>\n",
              "      <td>0.821238</td>\n",
              "      <td>1046682.630</td>\n",
              "      <td>0.487420</td>\n",
              "      <td>0.296746</td>\n",
              "      <td>94.520306</td>\n",
              "      <td>0.007491</td>\n",
              "      <td>10.726384</td>\n",
              "      <td>0.434792</td>\n",
              "      <td>1.050520</td>\n",
              "      <td>0.150828</td>\n",
              "      <td>1</td>\n",
              "      <td>1</td>\n",
              "      <td>1</td>\n",
              "    </tr>\n",
              "    <tr>\n",
              "      <th>3</th>\n",
              "      <td>1</td>\n",
              "      <td>0.623379</td>\n",
              "      <td>0.613073</td>\n",
              "      <td>1085325.470</td>\n",
              "      <td>0.498704</td>\n",
              "      <td>0.641079</td>\n",
              "      <td>94.933871</td>\n",
              "      <td>0.910976</td>\n",
              "      <td>0.476127</td>\n",
              "      <td>0.341299</td>\n",
              "      <td>1.011261</td>\n",
              "      <td>0.120293</td>\n",
              "      <td>1</td>\n",
              "      <td>1</td>\n",
              "      <td>0</td>\n",
              "    </tr>\n",
              "    <tr>\n",
              "      <th>4</th>\n",
              "      <td>1</td>\n",
              "      <td>0.860915</td>\n",
              "      <td>0.709228</td>\n",
              "      <td>1051378.694</td>\n",
              "      <td>0.688732</td>\n",
              "      <td>0.339430</td>\n",
              "      <td>106.331848</td>\n",
              "      <td>0.939269</td>\n",
              "      <td>0.251195</td>\n",
              "      <td>0.967834</td>\n",
              "      <td>1.002241</td>\n",
              "      <td>0.329663</td>\n",
              "      <td>1</td>\n",
              "      <td>0</td>\n",
              "      <td>1</td>\n",
              "    </tr>\n",
              "  </tbody>\n",
              "</table>\n",
              "</div>\n",
              "      <button class=\"colab-df-convert\" onclick=\"convertToInteractive('df-5ffbfd4a-c524-4eac-b21c-fd9c3ddecf91')\"\n",
              "              title=\"Convert this dataframe to an interactive table.\"\n",
              "              style=\"display:none;\">\n",
              "        \n",
              "  <svg xmlns=\"http://www.w3.org/2000/svg\" height=\"24px\"viewBox=\"0 0 24 24\"\n",
              "       width=\"24px\">\n",
              "    <path d=\"M0 0h24v24H0V0z\" fill=\"none\"/>\n",
              "    <path d=\"M18.56 5.44l.94 2.06.94-2.06 2.06-.94-2.06-.94-.94-2.06-.94 2.06-2.06.94zm-11 1L8.5 8.5l.94-2.06 2.06-.94-2.06-.94L8.5 2.5l-.94 2.06-2.06.94zm10 10l.94 2.06.94-2.06 2.06-.94-2.06-.94-.94-2.06-.94 2.06-2.06.94z\"/><path d=\"M17.41 7.96l-1.37-1.37c-.4-.4-.92-.59-1.43-.59-.52 0-1.04.2-1.43.59L10.3 9.45l-7.72 7.72c-.78.78-.78 2.05 0 2.83L4 21.41c.39.39.9.59 1.41.59.51 0 1.02-.2 1.41-.59l7.78-7.78 2.81-2.81c.8-.78.8-2.07 0-2.86zM5.41 20L4 18.59l7.72-7.72 1.47 1.35L5.41 20z\"/>\n",
              "  </svg>\n",
              "      </button>\n",
              "      \n",
              "  <style>\n",
              "    .colab-df-container {\n",
              "      display:flex;\n",
              "      flex-wrap:wrap;\n",
              "      gap: 12px;\n",
              "    }\n",
              "\n",
              "    .colab-df-convert {\n",
              "      background-color: #E8F0FE;\n",
              "      border: none;\n",
              "      border-radius: 50%;\n",
              "      cursor: pointer;\n",
              "      display: none;\n",
              "      fill: #1967D2;\n",
              "      height: 32px;\n",
              "      padding: 0 0 0 0;\n",
              "      width: 32px;\n",
              "    }\n",
              "\n",
              "    .colab-df-convert:hover {\n",
              "      background-color: #E2EBFA;\n",
              "      box-shadow: 0px 1px 2px rgba(60, 64, 67, 0.3), 0px 1px 3px 1px rgba(60, 64, 67, 0.15);\n",
              "      fill: #174EA6;\n",
              "    }\n",
              "\n",
              "    [theme=dark] .colab-df-convert {\n",
              "      background-color: #3B4455;\n",
              "      fill: #D2E3FC;\n",
              "    }\n",
              "\n",
              "    [theme=dark] .colab-df-convert:hover {\n",
              "      background-color: #434B5C;\n",
              "      box-shadow: 0px 1px 3px 1px rgba(0, 0, 0, 0.15);\n",
              "      filter: drop-shadow(0px 1px 2px rgba(0, 0, 0, 0.3));\n",
              "      fill: #FFFFFF;\n",
              "    }\n",
              "  </style>\n",
              "\n",
              "      <script>\n",
              "        const buttonEl =\n",
              "          document.querySelector('#df-5ffbfd4a-c524-4eac-b21c-fd9c3ddecf91 button.colab-df-convert');\n",
              "        buttonEl.style.display =\n",
              "          google.colab.kernel.accessAllowed ? 'block' : 'none';\n",
              "\n",
              "        async function convertToInteractive(key) {\n",
              "          const element = document.querySelector('#df-5ffbfd4a-c524-4eac-b21c-fd9c3ddecf91');\n",
              "          const dataTable =\n",
              "            await google.colab.kernel.invokeFunction('convertToInteractive',\n",
              "                                                     [key], {});\n",
              "          if (!dataTable) return;\n",
              "\n",
              "          const docLinkHtml = 'Like what you see? Visit the ' +\n",
              "            '<a target=\"_blank\" href=https://colab.research.google.com/notebooks/data_table.ipynb>data table notebook</a>'\n",
              "            + ' to learn more about interactive tables.';\n",
              "          element.innerHTML = '';\n",
              "          dataTable['output_type'] = 'display_data';\n",
              "          await google.colab.output.renderOutput(dataTable, element);\n",
              "          const docLink = document.createElement('div');\n",
              "          docLink.innerHTML = docLinkHtml;\n",
              "          element.appendChild(docLink);\n",
              "        }\n",
              "      </script>\n",
              "    </div>\n",
              "  </div>\n",
              "  "
            ]
          },
          "metadata": {},
          "execution_count": 187
        }
      ],
      "source": [
        "# Convert each Categorical Feature (X1, X13, X14, X15) into format that can be converted to numerical \n",
        "X_train_copy.X1 = X_train_copy.X1.map({'C&I': '0', 'CRE Construction': '1', 'CRE Permanent': '2'})\n",
        "X_train_copy.X13 = X_train_copy.X13.map({'A': '0', 'B': '1', 'C': '2'})\n",
        "X_train_copy.X14 = X_train_copy.X14.map({'R567': '0', 'T982': '1', 'X456': '2', 'Y237': '3', 'Z009': '4'})\n",
        "X_train_copy.X15 = X_train_copy.X15.map({'No': '0', 'Yes': '1'})\n",
        "\n",
        "# Inspection of first 5 rows of X_train_copy data AFTER converting categorical columns to numerical data type\n",
        "X_train_copy.head()"
      ]
    },
    {
      "cell_type": "markdown",
      "metadata": {
        "id": "7qxgtcFe__ja"
      },
      "source": [
        "**Correlation Between Continuous Features**"
      ]
    },
    {
      "cell_type": "code",
      "execution_count": 188,
      "metadata": {
        "colab": {
          "base_uri": "https://localhost:8080/",
          "height": 658
        },
        "id": "upY4gDL4Lztb",
        "outputId": "32f280ab-9cb6-49ba-e65c-00a45f5d6c48"
      },
      "outputs": [
        {
          "output_type": "display_data",
          "data": {
            "text/plain": [
              "<Figure size 1280x800 with 2 Axes>"
            ],
            "image/png": "[encoded data removed]"
          },
          "metadata": {
            "needs_background": "light"
          }
        }
      ],
      "source": [
        "# Correlation Matrix Between Continuous Features (Meaningful Mostly Between Continuous Variables)\n",
        "from matplotlib.pyplot import figure\n",
        "figure(figsize = (16, 10), dpi = 80)\n",
        "corrMatrix = X_train[continuous_feats].corr()\n",
        "sns.heatmap(corrMatrix, annot=True)\n",
        "plt.show()"
      ]
    },
    {
      "cell_type": "markdown",
      "metadata": {
        "id": "_3N8YFtGAHQR"
      },
      "source": [
        "**Using Point Biserial Correlation Method to Find the Correlation Between Each Continuous Feature (X2 to X12) and Target Dichotomous Categorical Variable (Default_Ind)**"
      ]
    },
    {
      "cell_type": "code",
      "execution_count": 189,
      "metadata": {
        "colab": {
          "base_uri": "https://localhost:8080/",
          "height": 394
        },
        "id": "Cf43DdQQLztc",
        "outputId": "23f0d60d-b6a9-41dd-fc66-98b000235d52"
      },
      "outputs": [
        {
          "output_type": "execute_result",
          "data": {
            "text/plain": [
              "     Point Biserial Correlation Coefficient with Default_Ind\n",
              "X4                                           -0.216395      \n",
              "X5                                           -0.153333      \n",
              "X2                                           -0.131106      \n",
              "X3                                           -0.062800      \n",
              "X11                                          -0.008640      \n",
              "X10                                          -0.006302      \n",
              "X12                                          -0.000015      \n",
              "X9                                            0.002672      \n",
              "X6                                            0.009938      \n",
              "X7                                            0.009991      \n",
              "X8                                            0.021184      "
            ],
            "text/html": [
              "\n",
              "  <div id=\"df-e500a075-b896-4739-891c-723da477e4ef\">\n",
              "    <div class=\"colab-df-container\">\n",
              "      <div>\n",
              "<style scoped>\n",
              "    .dataframe tbody tr th:only-of-type {\n",
              "        vertical-align: middle;\n",
              "    }\n",
              "\n",
              "    .dataframe tbody tr th {\n",
              "        vertical-align: top;\n",
              "    }\n",
              "\n",
              "    .dataframe thead th {\n",
              "        text-align: right;\n",
              "    }\n",
              "</style>\n",
              "<table border=\"1\" class=\"dataframe\">\n",
              "  <thead>\n",
              "    <tr style=\"text-align: right;\">\n",
              "      <th></th>\n",
              "      <th>Point Biserial Correlation Coefficient with Default_Ind</th>\n",
              "    </tr>\n",
              "  </thead>\n",
              "  <tbody>\n",
              "    <tr>\n",
              "      <th>X4</th>\n",
              "      <td>-0.216395</td>\n",
              "    </tr>\n",
              "    <tr>\n",
              "      <th>X5</th>\n",
              "      <td>-0.153333</td>\n",
              "    </tr>\n",
              "    <tr>\n",
              "      <th>X2</th>\n",
              "      <td>-0.131106</td>\n",
              "    </tr>\n",
              "    <tr>\n",
              "      <th>X3</th>\n",
              "      <td>-0.062800</td>\n",
              "    </tr>\n",
              "    <tr>\n",
              "      <th>X11</th>\n",
              "      <td>-0.008640</td>\n",
              "    </tr>\n",
              "    <tr>\n",
              "      <th>X10</th>\n",
              "      <td>-0.006302</td>\n",
              "    </tr>\n",
              "    <tr>\n",
              "      <th>X12</th>\n",
              "      <td>-0.000015</td>\n",
              "    </tr>\n",
              "    <tr>\n",
              "      <th>X9</th>\n",
              "      <td>0.002672</td>\n",
              "    </tr>\n",
              "    <tr>\n",
              "      <th>X6</th>\n",
              "      <td>0.009938</td>\n",
              "    </tr>\n",
              "    <tr>\n",
              "      <th>X7</th>\n",
              "      <td>0.009991</td>\n",
              "    </tr>\n",
              "    <tr>\n",
              "      <th>X8</th>\n",
              "      <td>0.021184</td>\n",
              "    </tr>\n",
              "  </tbody>\n",
              "</table>\n",
              "</div>\n",
              "      <button class=\"colab-df-convert\" onclick=\"convertToInteractive('df-e500a075-b896-4739-891c-723da477e4ef')\"\n",
              "              title=\"Convert this dataframe to an interactive table.\"\n",
              "              style=\"display:none;\">\n",
              "        \n",
              "  <svg xmlns=\"http://www.w3.org/2000/svg\" height=\"24px\"viewBox=\"0 0 24 24\"\n",
              "       width=\"24px\">\n",
              "    <path d=\"M0 0h24v24H0V0z\" fill=\"none\"/>\n",
              "    <path d=\"M18.56 5.44l.94 2.06.94-2.06 2.06-.94-2.06-.94-.94-2.06-.94 2.06-2.06.94zm-11 1L8.5 8.5l.94-2.06 2.06-.94-2.06-.94L8.5 2.5l-.94 2.06-2.06.94zm10 10l.94 2.06.94-2.06 2.06-.94-2.06-.94-.94-2.06-.94 2.06-2.06.94z\"/><path d=\"M17.41 7.96l-1.37-1.37c-.4-.4-.92-.59-1.43-.59-.52 0-1.04.2-1.43.59L10.3 9.45l-7.72 7.72c-.78.78-.78 2.05 0 2.83L4 21.41c.39.39.9.59 1.41.59.51 0 1.02-.2 1.41-.59l7.78-7.78 2.81-2.81c.8-.78.8-2.07 0-2.86zM5.41 20L4 18.59l7.72-7.72 1.47 1.35L5.41 20z\"/>\n",
              "  </svg>\n",
              "      </button>\n",
              "      \n",
              "  <style>\n",
              "    .colab-df-container {\n",
              "      display:flex;\n",
              "      flex-wrap:wrap;\n",
              "      gap: 12px;\n",
              "    }\n",
              "\n",
              "    .colab-df-convert {\n",
              "      background-color: #E8F0FE;\n",
              "      border: none;\n",
              "      border-radius: 50%;\n",
              "      cursor: pointer;\n",
              "      display: none;\n",
              "      fill: #1967D2;\n",
              "      height: 32px;\n",
              "      padding: 0 0 0 0;\n",
              "      width: 32px;\n",
              "    }\n",
              "\n",
              "    .colab-df-convert:hover {\n",
              "      background-color: #E2EBFA;\n",
              "      box-shadow: 0px 1px 2px rgba(60, 64, 67, 0.3), 0px 1px 3px 1px rgba(60, 64, 67, 0.15);\n",
              "      fill: #174EA6;\n",
              "    }\n",
              "\n",
              "    [theme=dark] .colab-df-convert {\n",
              "      background-color: #3B4455;\n",
              "      fill: #D2E3FC;\n",
              "    }\n",
              "\n",
              "    [theme=dark] .colab-df-convert:hover {\n",
              "      background-color: #434B5C;\n",
              "      box-shadow: 0px 1px 3px 1px rgba(0, 0, 0, 0.15);\n",
              "      filter: drop-shadow(0px 1px 2px rgba(0, 0, 0, 0.3));\n",
              "      fill: #FFFFFF;\n",
              "    }\n",
              "  </style>\n",
              "\n",
              "      <script>\n",
              "        const buttonEl =\n",
              "          document.querySelector('#df-e500a075-b896-4739-891c-723da477e4ef button.colab-df-convert');\n",
              "        buttonEl.style.display =\n",
              "          google.colab.kernel.accessAllowed ? 'block' : 'none';\n",
              "\n",
              "        async function convertToInteractive(key) {\n",
              "          const element = document.querySelector('#df-e500a075-b896-4739-891c-723da477e4ef');\n",
              "          const dataTable =\n",
              "            await google.colab.kernel.invokeFunction('convertToInteractive',\n",
              "                                                     [key], {});\n",
              "          if (!dataTable) return;\n",
              "\n",
              "          const docLinkHtml = 'Like what you see? Visit the ' +\n",
              "            '<a target=\"_blank\" href=https://colab.research.google.com/notebooks/data_table.ipynb>data table notebook</a>'\n",
              "            + ' to learn more about interactive tables.';\n",
              "          element.innerHTML = '';\n",
              "          dataTable['output_type'] = 'display_data';\n",
              "          await google.colab.output.renderOutput(dataTable, element);\n",
              "          const docLink = document.createElement('div');\n",
              "          docLink.innerHTML = docLinkHtml;\n",
              "          element.appendChild(docLink);\n",
              "        }\n",
              "      </script>\n",
              "    </div>\n",
              "  </div>\n",
              "  "
            ]
          },
          "metadata": {},
          "execution_count": 189
        }
      ],
      "source": [
        "# Correlation Between Default_Ind and the Continuous Features X2 to X12 (Using Point Biserial Correlation Method)\n",
        "from scipy import stats\n",
        "\n",
        "corr_list = []\n",
        "Y = pd.DataFrame(y_train).astype(\"int64\").squeeze()\n",
        "\n",
        "for continuous_feat in continuous_feats:\n",
        "    x = X_train[continuous_feat]\n",
        "    corr = stats.pointbiserialr(x, Y)\n",
        "    corr_list.append(corr[0])\n",
        "\n",
        "df=pd.DataFrame(corr_list, continuous_feats)\n",
        "df.columns = ['Point Biserial Correlation Coefficient with Default_Ind']\n",
        "df.sort_values(\"Point Biserial Correlation Coefficient with Default_Ind\")"
      ]
    },
    {
      "cell_type": "code",
      "execution_count": 190,
      "metadata": {
        "colab": {
          "base_uri": "https://localhost:8080/",
          "height": 551
        },
        "id": "mJ1LetaxLztf",
        "outputId": "2b8baf20-c614-4cf0-d07a-88470196fed1"
      },
      "outputs": [
        {
          "output_type": "display_data",
          "data": {
            "text/plain": [
              "<Figure size 1280x640 with 2 Axes>"
            ],
            "image/png": "[encoded data removed]"
          },
          "metadata": {
            "needs_background": "light"
          }
        }
      ],
      "source": [
        "# Correlation Between Default_Ind and the Continuous Features as Heatmap Visualization\n",
        "figure(figsize = (16, 8), dpi = 80)\n",
        "sns.heatmap(df, annot=True)\n",
        "plt.title(\"Point Biserial Correlation Coefficient with Default_Ind\")\n",
        "plt.show()"
      ]
    },
    {
      "cell_type": "markdown",
      "metadata": {
        "id": "whUfg1IP2EJK"
      },
      "source": [
        "**Using Chi-Square Test to Determine whether there is a Correlation Between Each Categorical Feature (X1, X13, X14, X15) and Target Dichotomous Categorical Variable (Default_Ind)**"
      ]
    },
    {
      "cell_type": "code",
      "execution_count": 191,
      "metadata": {
        "colab": {
          "base_uri": "https://localhost:8080/",
          "height": 175
        },
        "id": "RX0ol5Eo5JF9",
        "outputId": "26c91325-3bd7-4e60-f349-43e29ad01009"
      },
      "outputs": [
        {
          "output_type": "execute_result",
          "data": {
            "text/plain": [
              "     Statistical Value with Default_Ind  p_Value with Default_Ind  \\\n",
              "X1                             2.257060                  0.323508   \n",
              "X13                            2.068579                  0.355479   \n",
              "X15                            0.429526                  0.512222   \n",
              "X14                            2.310952                  0.678776   \n",
              "\n",
              "     Degrees of Freedom with Default_Ind  \n",
              "X1                                     2  \n",
              "X13                                    2  \n",
              "X15                                    1  \n",
              "X14                                    4  "
            ],
            "text/html": [
              "\n",
              "  <div id=\"df-10b1e51f-4095-4766-8cbf-1ceb47dc3c8c\">\n",
              "    <div class=\"colab-df-container\">\n",
              "      <div>\n",
              "<style scoped>\n",
              "    .dataframe tbody tr th:only-of-type {\n",
              "        vertical-align: middle;\n",
              "    }\n",
              "\n",
              "    .dataframe tbody tr th {\n",
              "        vertical-align: top;\n",
              "    }\n",
              "\n",
              "    .dataframe thead th {\n",
              "        text-align: right;\n",
              "    }\n",
              "</style>\n",
              "<table border=\"1\" class=\"dataframe\">\n",
              "  <thead>\n",
              "    <tr style=\"text-align: right;\">\n",
              "      <th></th>\n",
              "      <th>Statistical Value with Default_Ind</th>\n",
              "      <th>p_Value with Default_Ind</th>\n",
              "      <th>Degrees of Freedom with Default_Ind</th>\n",
              "    </tr>\n",
              "  </thead>\n",
              "  <tbody>\n",
              "    <tr>\n",
              "      <th>X1</th>\n",
              "      <td>2.257060</td>\n",
              "      <td>0.323508</td>\n",
              "      <td>2</td>\n",
              "    </tr>\n",
              "    <tr>\n",
              "      <th>X13</th>\n",
              "      <td>2.068579</td>\n",
              "      <td>0.355479</td>\n",
              "      <td>2</td>\n",
              "    </tr>\n",
              "    <tr>\n",
              "      <th>X15</th>\n",
              "      <td>0.429526</td>\n",
              "      <td>0.512222</td>\n",
              "      <td>1</td>\n",
              "    </tr>\n",
              "    <tr>\n",
              "      <th>X14</th>\n",
              "      <td>2.310952</td>\n",
              "      <td>0.678776</td>\n",
              "      <td>4</td>\n",
              "    </tr>\n",
              "  </tbody>\n",
              "</table>\n",
              "</div>\n",
              "      <button class=\"colab-df-convert\" onclick=\"convertToInteractive('df-10b1e51f-4095-4766-8cbf-1ceb47dc3c8c')\"\n",
              "              title=\"Convert this dataframe to an interactive table.\"\n",
              "              style=\"display:none;\">\n",
              "        \n",
              "  <svg xmlns=\"http://www.w3.org/2000/svg\" height=\"24px\"viewBox=\"0 0 24 24\"\n",
              "       width=\"24px\">\n",
              "    <path d=\"M0 0h24v24H0V0z\" fill=\"none\"/>\n",
              "    <path d=\"M18.56 5.44l.94 2.06.94-2.06 2.06-.94-2.06-.94-.94-2.06-.94 2.06-2.06.94zm-11 1L8.5 8.5l.94-2.06 2.06-.94-2.06-.94L8.5 2.5l-.94 2.06-2.06.94zm10 10l.94 2.06.94-2.06 2.06-.94-2.06-.94-.94-2.06-.94 2.06-2.06.94z\"/><path d=\"M17.41 7.96l-1.37-1.37c-.4-.4-.92-.59-1.43-.59-.52 0-1.04.2-1.43.59L10.3 9.45l-7.72 7.72c-.78.78-.78 2.05 0 2.83L4 21.41c.39.39.9.59 1.41.59.51 0 1.02-.2 1.41-.59l7.78-7.78 2.81-2.81c.8-.78.8-2.07 0-2.86zM5.41 20L4 18.59l7.72-7.72 1.47 1.35L5.41 20z\"/>\n",
              "  </svg>\n",
              "      </button>\n",
              "      \n",
              "  <style>\n",
              "    .colab-df-container {\n",
              "      display:flex;\n",
              "      flex-wrap:wrap;\n",
              "      gap: 12px;\n",
              "    }\n",
              "\n",
              "    .colab-df-convert {\n",
              "      background-color: #E8F0FE;\n",
              "      border: none;\n",
              "      border-radius: 50%;\n",
              "      cursor: pointer;\n",
              "      display: none;\n",
              "      fill: #1967D2;\n",
              "      height: 32px;\n",
              "      padding: 0 0 0 0;\n",
              "      width: 32px;\n",
              "    }\n",
              "\n",
              "    .colab-df-convert:hover {\n",
              "      background-color: #E2EBFA;\n",
              "      box-shadow: 0px 1px 2px rgba(60, 64, 67, 0.3), 0px 1px 3px 1px rgba(60, 64, 67, 0.15);\n",
              "      fill: #174EA6;\n",
              "    }\n",
              "\n",
              "    [theme=dark] .colab-df-convert {\n",
              "      background-color: #3B4455;\n",
              "      fill: #D2E3FC;\n",
              "    }\n",
              "\n",
              "    [theme=dark] .colab-df-convert:hover {\n",
              "      background-color: #434B5C;\n",
              "      box-shadow: 0px 1px 3px 1px rgba(0, 0, 0, 0.15);\n",
              "      filter: drop-shadow(0px 1px 2px rgba(0, 0, 0, 0.3));\n",
              "      fill: #FFFFFF;\n",
              "    }\n",
              "  </style>\n",
              "\n",
              "      <script>\n",
              "        const buttonEl =\n",
              "          document.querySelector('#df-10b1e51f-4095-4766-8cbf-1ceb47dc3c8c button.colab-df-convert');\n",
              "        buttonEl.style.display =\n",
              "          google.colab.kernel.accessAllowed ? 'block' : 'none';\n",
              "\n",
              "        async function convertToInteractive(key) {\n",
              "          const element = document.querySelector('#df-10b1e51f-4095-4766-8cbf-1ceb47dc3c8c');\n",
              "          const dataTable =\n",
              "            await google.colab.kernel.invokeFunction('convertToInteractive',\n",
              "                                                     [key], {});\n",
              "          if (!dataTable) return;\n",
              "\n",
              "          const docLinkHtml = 'Like what you see? Visit the ' +\n",
              "            '<a target=\"_blank\" href=https://colab.research.google.com/notebooks/data_table.ipynb>data table notebook</a>'\n",
              "            + ' to learn more about interactive tables.';\n",
              "          element.innerHTML = '';\n",
              "          dataTable['output_type'] = 'display_data';\n",
              "          await google.colab.output.renderOutput(dataTable, element);\n",
              "          const docLink = document.createElement('div');\n",
              "          docLink.innerHTML = docLinkHtml;\n",
              "          element.appendChild(docLink);\n",
              "        }\n",
              "      </script>\n",
              "    </div>\n",
              "  </div>\n",
              "  "
            ]
          },
          "metadata": {},
          "execution_count": 191
        }
      ],
      "source": [
        "# Correlation Between Default_Ind and the Categorical Features X1, X13, X14, X15 (Using Chi-Square Test)\n",
        "from scipy.stats import chi2_contingency \n",
        "stat_val_list = []\n",
        "p_val_list = []\n",
        "dof_list = []\n",
        "\n",
        "for categorical_feat in categorical_feats:\n",
        "  chisqt = pd.crosstab(y_train, X_train[categorical_feat])\n",
        "  value = np.array([chisqt.iloc[0][0:5].values,\n",
        "                    chisqt.iloc[1][0:5].values])\n",
        "  stat_val_list.append(chi2_contingency(value)[0])\n",
        "  p_val_list.append(chi2_contingency(value)[1])\n",
        "  dof_list.append(chi2_contingency(value)[2])\n",
        "\n",
        "df=pd.DataFrame(list(zip(stat_val_list, p_val_list, dof_list)), index = categorical_feats,\n",
        "             columns = ['Statistical Value with Default_Ind', 'p_Value with Default_Ind','Degrees of Freedom with Default_Ind']) \n",
        "df.sort_values(\"p_Value with Default_Ind\")"
      ]
    },
    {
      "cell_type": "markdown",
      "metadata": {
        "id": "EO-EDmtKxy9s"
      },
      "source": [
        "**Information Gain Between Each Feature (X1 to X15) and Target Variable (Default_Ind)**"
      ]
    },
    {
      "cell_type": "code",
      "execution_count": 192,
      "metadata": {
        "colab": {
          "base_uri": "https://localhost:8080/",
          "height": 295
        },
        "id": "8PVndRGmxyMY",
        "outputId": "b644d7f3-d695-45e2-c614-479840a20c02"
      },
      "outputs": [
        {
          "output_type": "display_data",
          "data": {
            "text/plain": [
              "<Figure size 432x288 with 1 Axes>"
            ],
            "image/png": "[encoded data removed]"
          },
          "metadata": {
            "needs_background": "light"
          }
        }
      ],
      "source": [
        "from sklearn.feature_selection import mutual_info_classif\n",
        "importances = mutual_info_classif(X_train_copy, y_train, discrete_features='auto')\n",
        "feat_importances = pd.Series(importances, feats)\n",
        "feat_importances.plot(kind='barh')\n",
        "plt.title('Information Gain for Each Feature')\n",
        "plt.ylabel('Feature')\n",
        "plt.xlabel('Information Gain')\n",
        "plt.show()"
      ]
    },
    {
      "cell_type": "code",
      "execution_count": 193,
      "metadata": {
        "colab": {
          "base_uri": "https://localhost:8080/"
        },
        "id": "skXL3QBE9Y_a",
        "outputId": "fdad925a-45c7-44cb-e07c-e8b7b58058d3"
      },
      "outputs": [
        {
          "output_type": "execute_result",
          "data": {
            "text/plain": [
              "['X15', 'X3', 'X2', 'X5', 'X4']"
            ]
          },
          "metadata": {},
          "execution_count": 193
        }
      ],
      "source": [
        "list(pd.Series(importances, feats).sort_values()[-5:].index)"
      ]
    },
    {
      "cell_type": "markdown",
      "metadata": {
        "id": "F9fWelL1A5ZD"
      },
      "source": [
        "**Variance Threshold For Each Feature (X1 to X15)**"
      ]
    },
    {
      "cell_type": "code",
      "execution_count": 194,
      "metadata": {
        "colab": {
          "base_uri": "https://localhost:8080/",
          "height": 519
        },
        "id": "sMcIyrl1-ewM",
        "outputId": "b9ed3627-8793-44cf-e942-dfc8dece41e1"
      },
      "outputs": [
        {
          "output_type": "execute_result",
          "data": {
            "text/plain": [
              "     Has Variance Threshold\n",
              "X1                     True\n",
              "X2                     True\n",
              "X3                     True\n",
              "X4                     True\n",
              "X5                     True\n",
              "X6                     True\n",
              "X7                     True\n",
              "X8                     True\n",
              "X9                     True\n",
              "X10                    True\n",
              "X11                    True\n",
              "X12                    True\n",
              "X13                    True\n",
              "X14                    True\n",
              "X15                    True"
            ],
            "text/html": [
              "\n",
              "  <div id=\"df-7072d628-87c1-40dd-a322-c7b717360e96\">\n",
              "    <div class=\"colab-df-container\">\n",
              "      <div>\n",
              "<style scoped>\n",
              "    .dataframe tbody tr th:only-of-type {\n",
              "        vertical-align: middle;\n",
              "    }\n",
              "\n",
              "    .dataframe tbody tr th {\n",
              "        vertical-align: top;\n",
              "    }\n",
              "\n",
              "    .dataframe thead th {\n",
              "        text-align: right;\n",
              "    }\n",
              "</style>\n",
              "<table border=\"1\" class=\"dataframe\">\n",
              "  <thead>\n",
              "    <tr style=\"text-align: right;\">\n",
              "      <th></th>\n",
              "      <th>Has Variance Threshold</th>\n",
              "    </tr>\n",
              "  </thead>\n",
              "  <tbody>\n",
              "    <tr>\n",
              "      <th>X1</th>\n",
              "      <td>True</td>\n",
              "    </tr>\n",
              "    <tr>\n",
              "      <th>X2</th>\n",
              "      <td>True</td>\n",
              "    </tr>\n",
              "    <tr>\n",
              "      <th>X3</th>\n",
              "      <td>True</td>\n",
              "    </tr>\n",
              "    <tr>\n",
              "      <th>X4</th>\n",
              "      <td>True</td>\n",
              "    </tr>\n",
              "    <tr>\n",
              "      <th>X5</th>\n",
              "      <td>True</td>\n",
              "    </tr>\n",
              "    <tr>\n",
              "      <th>X6</th>\n",
              "      <td>True</td>\n",
              "    </tr>\n",
              "    <tr>\n",
              "      <th>X7</th>\n",
              "      <td>True</td>\n",
              "    </tr>\n",
              "    <tr>\n",
              "      <th>X8</th>\n",
              "      <td>True</td>\n",
              "    </tr>\n",
              "    <tr>\n",
              "      <th>X9</th>\n",
              "      <td>True</td>\n",
              "    </tr>\n",
              "    <tr>\n",
              "      <th>X10</th>\n",
              "      <td>True</td>\n",
              "    </tr>\n",
              "    <tr>\n",
              "      <th>X11</th>\n",
              "      <td>True</td>\n",
              "    </tr>\n",
              "    <tr>\n",
              "      <th>X12</th>\n",
              "      <td>True</td>\n",
              "    </tr>\n",
              "    <tr>\n",
              "      <th>X13</th>\n",
              "      <td>True</td>\n",
              "    </tr>\n",
              "    <tr>\n",
              "      <th>X14</th>\n",
              "      <td>True</td>\n",
              "    </tr>\n",
              "    <tr>\n",
              "      <th>X15</th>\n",
              "      <td>True</td>\n",
              "    </tr>\n",
              "  </tbody>\n",
              "</table>\n",
              "</div>\n",
              "      <button class=\"colab-df-convert\" onclick=\"convertToInteractive('df-7072d628-87c1-40dd-a322-c7b717360e96')\"\n",
              "              title=\"Convert this dataframe to an interactive table.\"\n",
              "              style=\"display:none;\">\n",
              "        \n",
              "  <svg xmlns=\"http://www.w3.org/2000/svg\" height=\"24px\"viewBox=\"0 0 24 24\"\n",
              "       width=\"24px\">\n",
              "    <path d=\"M0 0h24v24H0V0z\" fill=\"none\"/>\n",
              "    <path d=\"M18.56 5.44l.94 2.06.94-2.06 2.06-.94-2.06-.94-.94-2.06-.94 2.06-2.06.94zm-11 1L8.5 8.5l.94-2.06 2.06-.94-2.06-.94L8.5 2.5l-.94 2.06-2.06.94zm10 10l.94 2.06.94-2.06 2.06-.94-2.06-.94-.94-2.06-.94 2.06-2.06.94z\"/><path d=\"M17.41 7.96l-1.37-1.37c-.4-.4-.92-.59-1.43-.59-.52 0-1.04.2-1.43.59L10.3 9.45l-7.72 7.72c-.78.78-.78 2.05 0 2.83L4 21.41c.39.39.9.59 1.41.59.51 0 1.02-.2 1.41-.59l7.78-7.78 2.81-2.81c.8-.78.8-2.07 0-2.86zM5.41 20L4 18.59l7.72-7.72 1.47 1.35L5.41 20z\"/>\n",
              "  </svg>\n",
              "      </button>\n",
              "      \n",
              "  <style>\n",
              "    .colab-df-container {\n",
              "      display:flex;\n",
              "      flex-wrap:wrap;\n",
              "      gap: 12px;\n",
              "    }\n",
              "\n",
              "    .colab-df-convert {\n",
              "      background-color: #E8F0FE;\n",
              "      border: none;\n",
              "      border-radius: 50%;\n",
              "      cursor: pointer;\n",
              "      display: none;\n",
              "      fill: #1967D2;\n",
              "      height: 32px;\n",
              "      padding: 0 0 0 0;\n",
              "      width: 32px;\n",
              "    }\n",
              "\n",
              "    .colab-df-convert:hover {\n",
              "      background-color: #E2EBFA;\n",
              "      box-shadow: 0px 1px 2px rgba(60, 64, 67, 0.3), 0px 1px 3px 1px rgba(60, 64, 67, 0.15);\n",
              "      fill: #174EA6;\n",
              "    }\n",
              "\n",
              "    [theme=dark] .colab-df-convert {\n",
              "      background-color: #3B4455;\n",
              "      fill: #D2E3FC;\n",
              "    }\n",
              "\n",
              "    [theme=dark] .colab-df-convert:hover {\n",
              "      background-color: #434B5C;\n",
              "      box-shadow: 0px 1px 3px 1px rgba(0, 0, 0, 0.15);\n",
              "      filter: drop-shadow(0px 1px 2px rgba(0, 0, 0, 0.3));\n",
              "      fill: #FFFFFF;\n",
              "    }\n",
              "  </style>\n",
              "\n",
              "      <script>\n",
              "        const buttonEl =\n",
              "          document.querySelector('#df-7072d628-87c1-40dd-a322-c7b717360e96 button.colab-df-convert');\n",
              "        buttonEl.style.display =\n",
              "          google.colab.kernel.accessAllowed ? 'block' : 'none';\n",
              "\n",
              "        async function convertToInteractive(key) {\n",
              "          const element = document.querySelector('#df-7072d628-87c1-40dd-a322-c7b717360e96');\n",
              "          const dataTable =\n",
              "            await google.colab.kernel.invokeFunction('convertToInteractive',\n",
              "                                                     [key], {});\n",
              "          if (!dataTable) return;\n",
              "\n",
              "          const docLinkHtml = 'Like what you see? Visit the ' +\n",
              "            '<a target=\"_blank\" href=https://colab.research.google.com/notebooks/data_table.ipynb>data table notebook</a>'\n",
              "            + ' to learn more about interactive tables.';\n",
              "          element.innerHTML = '';\n",
              "          dataTable['output_type'] = 'display_data';\n",
              "          await google.colab.output.renderOutput(dataTable, element);\n",
              "          const docLink = document.createElement('div');\n",
              "          docLink.innerHTML = docLinkHtml;\n",
              "          element.appendChild(docLink);\n",
              "        }\n",
              "      </script>\n",
              "    </div>\n",
              "  </div>\n",
              "  "
            ]
          },
          "metadata": {},
          "execution_count": 194
        }
      ],
      "source": [
        "from sklearn.feature_selection import VarianceThreshold\n",
        "\n",
        "var_threshold = VarianceThreshold(threshold=0)\n",
        "var_threshold.fit(X_train_copy)\n",
        "\n",
        "df=pd.DataFrame(list(var_threshold.get_support()), feats)\n",
        "df.columns = ['Has Variance Threshold']\n",
        "df"
      ]
    },
    {
      "cell_type": "markdown",
      "metadata": {
        "id": "r1XMSGHUBv0t"
      },
      "source": [
        "**Feature Scores for each Continuous and Categorical Features with Categorical Target (Default_Ind)**"
      ]
    },
    {
      "cell_type": "code",
      "execution_count": 195,
      "metadata": {
        "colab": {
          "base_uri": "https://localhost:8080/",
          "height": 175
        },
        "id": "FUn-vsRkn7YE",
        "outputId": "df756fc5-d639-4d64-bf7e-d06117056f49"
      },
      "outputs": [
        {
          "output_type": "execute_result",
          "data": {
            "text/plain": [
              "  Feature     Score\n",
              "2     X14  0.500187\n",
              "3     X15  0.292577\n",
              "1     X13  0.289865\n",
              "0      X1  0.010409"
            ],
            "text/html": [
              "\n",
              "  <div id=\"df-f336bbc9-6d04-4bb5-873a-2560e3953bb7\">\n",
              "    <div class=\"colab-df-container\">\n",
              "      <div>\n",
              "<style scoped>\n",
              "    .dataframe tbody tr th:only-of-type {\n",
              "        vertical-align: middle;\n",
              "    }\n",
              "\n",
              "    .dataframe tbody tr th {\n",
              "        vertical-align: top;\n",
              "    }\n",
              "\n",
              "    .dataframe thead th {\n",
              "        text-align: right;\n",
              "    }\n",
              "</style>\n",
              "<table border=\"1\" class=\"dataframe\">\n",
              "  <thead>\n",
              "    <tr style=\"text-align: right;\">\n",
              "      <th></th>\n",
              "      <th>Feature</th>\n",
              "      <th>Score</th>\n",
              "    </tr>\n",
              "  </thead>\n",
              "  <tbody>\n",
              "    <tr>\n",
              "      <th>2</th>\n",
              "      <td>X14</td>\n",
              "      <td>0.500187</td>\n",
              "    </tr>\n",
              "    <tr>\n",
              "      <th>3</th>\n",
              "      <td>X15</td>\n",
              "      <td>0.292577</td>\n",
              "    </tr>\n",
              "    <tr>\n",
              "      <th>1</th>\n",
              "      <td>X13</td>\n",
              "      <td>0.289865</td>\n",
              "    </tr>\n",
              "    <tr>\n",
              "      <th>0</th>\n",
              "      <td>X1</td>\n",
              "      <td>0.010409</td>\n",
              "    </tr>\n",
              "  </tbody>\n",
              "</table>\n",
              "</div>\n",
              "      <button class=\"colab-df-convert\" onclick=\"convertToInteractive('df-f336bbc9-6d04-4bb5-873a-2560e3953bb7')\"\n",
              "              title=\"Convert this dataframe to an interactive table.\"\n",
              "              style=\"display:none;\">\n",
              "        \n",
              "  <svg xmlns=\"http://www.w3.org/2000/svg\" height=\"24px\"viewBox=\"0 0 24 24\"\n",
              "       width=\"24px\">\n",
              "    <path d=\"M0 0h24v24H0V0z\" fill=\"none\"/>\n",
              "    <path d=\"M18.56 5.44l.94 2.06.94-2.06 2.06-.94-2.06-.94-.94-2.06-.94 2.06-2.06.94zm-11 1L8.5 8.5l.94-2.06 2.06-.94-2.06-.94L8.5 2.5l-.94 2.06-2.06.94zm10 10l.94 2.06.94-2.06 2.06-.94-2.06-.94-.94-2.06-.94 2.06-2.06.94z\"/><path d=\"M17.41 7.96l-1.37-1.37c-.4-.4-.92-.59-1.43-.59-.52 0-1.04.2-1.43.59L10.3 9.45l-7.72 7.72c-.78.78-.78 2.05 0 2.83L4 21.41c.39.39.9.59 1.41.59.51 0 1.02-.2 1.41-.59l7.78-7.78 2.81-2.81c.8-.78.8-2.07 0-2.86zM5.41 20L4 18.59l7.72-7.72 1.47 1.35L5.41 20z\"/>\n",
              "  </svg>\n",
              "      </button>\n",
              "      \n",
              "  <style>\n",
              "    .colab-df-container {\n",
              "      display:flex;\n",
              "      flex-wrap:wrap;\n",
              "      gap: 12px;\n",
              "    }\n",
              "\n",
              "    .colab-df-convert {\n",
              "      background-color: #E8F0FE;\n",
              "      border: none;\n",
              "      border-radius: 50%;\n",
              "      cursor: pointer;\n",
              "      display: none;\n",
              "      fill: #1967D2;\n",
              "      height: 32px;\n",
              "      padding: 0 0 0 0;\n",
              "      width: 32px;\n",
              "    }\n",
              "\n",
              "    .colab-df-convert:hover {\n",
              "      background-color: #E2EBFA;\n",
              "      box-shadow: 0px 1px 2px rgba(60, 64, 67, 0.3), 0px 1px 3px 1px rgba(60, 64, 67, 0.15);\n",
              "      fill: #174EA6;\n",
              "    }\n",
              "\n",
              "    [theme=dark] .colab-df-convert {\n",
              "      background-color: #3B4455;\n",
              "      fill: #D2E3FC;\n",
              "    }\n",
              "\n",
              "    [theme=dark] .colab-df-convert:hover {\n",
              "      background-color: #434B5C;\n",
              "      box-shadow: 0px 1px 3px 1px rgba(0, 0, 0, 0.15);\n",
              "      filter: drop-shadow(0px 1px 2px rgba(0, 0, 0, 0.3));\n",
              "      fill: #FFFFFF;\n",
              "    }\n",
              "  </style>\n",
              "\n",
              "      <script>\n",
              "        const buttonEl =\n",
              "          document.querySelector('#df-f336bbc9-6d04-4bb5-873a-2560e3953bb7 button.colab-df-convert');\n",
              "        buttonEl.style.display =\n",
              "          google.colab.kernel.accessAllowed ? 'block' : 'none';\n",
              "\n",
              "        async function convertToInteractive(key) {\n",
              "          const element = document.querySelector('#df-f336bbc9-6d04-4bb5-873a-2560e3953bb7');\n",
              "          const dataTable =\n",
              "            await google.colab.kernel.invokeFunction('convertToInteractive',\n",
              "                                                     [key], {});\n",
              "          if (!dataTable) return;\n",
              "\n",
              "          const docLinkHtml = 'Like what you see? Visit the ' +\n",
              "            '<a target=\"_blank\" href=https://colab.research.google.com/notebooks/data_table.ipynb>data table notebook</a>'\n",
              "            + ' to learn more about interactive tables.';\n",
              "          element.innerHTML = '';\n",
              "          dataTable['output_type'] = 'display_data';\n",
              "          await google.colab.output.renderOutput(dataTable, element);\n",
              "          const docLink = document.createElement('div');\n",
              "          docLink.innerHTML = docLinkHtml;\n",
              "          element.appendChild(docLink);\n",
              "        }\n",
              "      </script>\n",
              "    </div>\n",
              "  </div>\n",
              "  "
            ]
          },
          "metadata": {},
          "execution_count": 195
        }
      ],
      "source": [
        "# Select K Best Features Using Univariate Selection (Chi-Squared Test Only For Categorical Features with Categorical Target)\n",
        "best_features = SelectKBest(score_func = chi2, k = 4)\n",
        "fit_best_features = best_features.fit(X_train_copy[categorical_feats], y_train) # categorical features only with categorical target\n",
        "\n",
        "# Get scores for each categorical feature in relation to categorical target (Default_Ind) in one dataframe\n",
        "scores_df_categorical = pd.DataFrame(fit_best_features.scores_)\n",
        "features_df_categorical = pd.DataFrame(X_train_copy[categorical_feats].columns)\n",
        "feature_scores_categorical = pd.concat([features_df_categorical, scores_df_categorical], axis = 1)\n",
        "feature_scores_categorical.columns = ['Feature', 'Score']\n",
        "feature_scores_categorical.nlargest(4, 'Score')"
      ]
    },
    {
      "cell_type": "code",
      "execution_count": 196,
      "metadata": {
        "colab": {
          "base_uri": "https://localhost:8080/",
          "height": 394
        },
        "id": "X-83HW9aQKbH",
        "outputId": "3ce306e7-6798-473c-c72c-cbacb1f43693"
      },
      "outputs": [
        {
          "output_type": "execute_result",
          "data": {
            "text/plain": [
              "   Feature       Score\n",
              "2       X4  343.791030\n",
              "3       X5  168.491822\n",
              "0       X2  122.391666\n",
              "1       X3   27.708421\n",
              "6       X8    3.141784\n",
              "5       X7    0.698572\n",
              "4       X6    0.691256\n",
              "9      X11    0.522480\n",
              "8      X10    0.277978\n",
              "7       X9    0.049945\n",
              "10     X12    0.000002"
            ],
            "text/html": [
              "\n",
              "  <div id=\"df-c72b8af6-7792-4a3b-9d7f-aee195d96acd\">\n",
              "    <div class=\"colab-df-container\">\n",
              "      <div>\n",
              "<style scoped>\n",
              "    .dataframe tbody tr th:only-of-type {\n",
              "        vertical-align: middle;\n",
              "    }\n",
              "\n",
              "    .dataframe tbody tr th {\n",
              "        vertical-align: top;\n",
              "    }\n",
              "\n",
              "    .dataframe thead th {\n",
              "        text-align: right;\n",
              "    }\n",
              "</style>\n",
              "<table border=\"1\" class=\"dataframe\">\n",
              "  <thead>\n",
              "    <tr style=\"text-align: right;\">\n",
              "      <th></th>\n",
              "      <th>Feature</th>\n",
              "      <th>Score</th>\n",
              "    </tr>\n",
              "  </thead>\n",
              "  <tbody>\n",
              "    <tr>\n",
              "      <th>2</th>\n",
              "      <td>X4</td>\n",
              "      <td>343.791030</td>\n",
              "    </tr>\n",
              "    <tr>\n",
              "      <th>3</th>\n",
              "      <td>X5</td>\n",
              "      <td>168.491822</td>\n",
              "    </tr>\n",
              "    <tr>\n",
              "      <th>0</th>\n",
              "      <td>X2</td>\n",
              "      <td>122.391666</td>\n",
              "    </tr>\n",
              "    <tr>\n",
              "      <th>1</th>\n",
              "      <td>X3</td>\n",
              "      <td>27.708421</td>\n",
              "    </tr>\n",
              "    <tr>\n",
              "      <th>6</th>\n",
              "      <td>X8</td>\n",
              "      <td>3.141784</td>\n",
              "    </tr>\n",
              "    <tr>\n",
              "      <th>5</th>\n",
              "      <td>X7</td>\n",
              "      <td>0.698572</td>\n",
              "    </tr>\n",
              "    <tr>\n",
              "      <th>4</th>\n",
              "      <td>X6</td>\n",
              "      <td>0.691256</td>\n",
              "    </tr>\n",
              "    <tr>\n",
              "      <th>9</th>\n",
              "      <td>X11</td>\n",
              "      <td>0.522480</td>\n",
              "    </tr>\n",
              "    <tr>\n",
              "      <th>8</th>\n",
              "      <td>X10</td>\n",
              "      <td>0.277978</td>\n",
              "    </tr>\n",
              "    <tr>\n",
              "      <th>7</th>\n",
              "      <td>X9</td>\n",
              "      <td>0.049945</td>\n",
              "    </tr>\n",
              "    <tr>\n",
              "      <th>10</th>\n",
              "      <td>X12</td>\n",
              "      <td>0.000002</td>\n",
              "    </tr>\n",
              "  </tbody>\n",
              "</table>\n",
              "</div>\n",
              "      <button class=\"colab-df-convert\" onclick=\"convertToInteractive('df-c72b8af6-7792-4a3b-9d7f-aee195d96acd')\"\n",
              "              title=\"Convert this dataframe to an interactive table.\"\n",
              "              style=\"display:none;\">\n",
              "        \n",
              "  <svg xmlns=\"http://www.w3.org/2000/svg\" height=\"24px\"viewBox=\"0 0 24 24\"\n",
              "       width=\"24px\">\n",
              "    <path d=\"M0 0h24v24H0V0z\" fill=\"none\"/>\n",
              "    <path d=\"M18.56 5.44l.94 2.06.94-2.06 2.06-.94-2.06-.94-.94-2.06-.94 2.06-2.06.94zm-11 1L8.5 8.5l.94-2.06 2.06-.94-2.06-.94L8.5 2.5l-.94 2.06-2.06.94zm10 10l.94 2.06.94-2.06 2.06-.94-2.06-.94-.94-2.06-.94 2.06-2.06.94z\"/><path d=\"M17.41 7.96l-1.37-1.37c-.4-.4-.92-.59-1.43-.59-.52 0-1.04.2-1.43.59L10.3 9.45l-7.72 7.72c-.78.78-.78 2.05 0 2.83L4 21.41c.39.39.9.59 1.41.59.51 0 1.02-.2 1.41-.59l7.78-7.78 2.81-2.81c.8-.78.8-2.07 0-2.86zM5.41 20L4 18.59l7.72-7.72 1.47 1.35L5.41 20z\"/>\n",
              "  </svg>\n",
              "      </button>\n",
              "      \n",
              "  <style>\n",
              "    .colab-df-container {\n",
              "      display:flex;\n",
              "      flex-wrap:wrap;\n",
              "      gap: 12px;\n",
              "    }\n",
              "\n",
              "    .colab-df-convert {\n",
              "      background-color: #E8F0FE;\n",
              "      border: none;\n",
              "      border-radius: 50%;\n",
              "      cursor: pointer;\n",
              "      display: none;\n",
              "      fill: #1967D2;\n",
              "      height: 32px;\n",
              "      padding: 0 0 0 0;\n",
              "      width: 32px;\n",
              "    }\n",
              "\n",
              "    .colab-df-convert:hover {\n",
              "      background-color: #E2EBFA;\n",
              "      box-shadow: 0px 1px 2px rgba(60, 64, 67, 0.3), 0px 1px 3px 1px rgba(60, 64, 67, 0.15);\n",
              "      fill: #174EA6;\n",
              "    }\n",
              "\n",
              "    [theme=dark] .colab-df-convert {\n",
              "      background-color: #3B4455;\n",
              "      fill: #D2E3FC;\n",
              "    }\n",
              "\n",
              "    [theme=dark] .colab-df-convert:hover {\n",
              "      background-color: #434B5C;\n",
              "      box-shadow: 0px 1px 3px 1px rgba(0, 0, 0, 0.15);\n",
              "      filter: drop-shadow(0px 1px 2px rgba(0, 0, 0, 0.3));\n",
              "      fill: #FFFFFF;\n",
              "    }\n",
              "  </style>\n",
              "\n",
              "      <script>\n",
              "        const buttonEl =\n",
              "          document.querySelector('#df-c72b8af6-7792-4a3b-9d7f-aee195d96acd button.colab-df-convert');\n",
              "        buttonEl.style.display =\n",
              "          google.colab.kernel.accessAllowed ? 'block' : 'none';\n",
              "\n",
              "        async function convertToInteractive(key) {\n",
              "          const element = document.querySelector('#df-c72b8af6-7792-4a3b-9d7f-aee195d96acd');\n",
              "          const dataTable =\n",
              "            await google.colab.kernel.invokeFunction('convertToInteractive',\n",
              "                                                     [key], {});\n",
              "          if (!dataTable) return;\n",
              "\n",
              "          const docLinkHtml = 'Like what you see? Visit the ' +\n",
              "            '<a target=\"_blank\" href=https://colab.research.google.com/notebooks/data_table.ipynb>data table notebook</a>'\n",
              "            + ' to learn more about interactive tables.';\n",
              "          element.innerHTML = '';\n",
              "          dataTable['output_type'] = 'display_data';\n",
              "          await google.colab.output.renderOutput(dataTable, element);\n",
              "          const docLink = document.createElement('div');\n",
              "          docLink.innerHTML = docLinkHtml;\n",
              "          element.appendChild(docLink);\n",
              "        }\n",
              "      </script>\n",
              "    </div>\n",
              "  </div>\n",
              "  "
            ]
          },
          "metadata": {},
          "execution_count": 196
        }
      ],
      "source": [
        "# Select K Best Features Using Univariate Selection (ANOVA F-Test Only For Continuous Features with Categorical Target)\n",
        "best_features = SelectKBest(score_func = f_classif, k = 11)\n",
        "fit_best_features = best_features.fit(X_train[continuous_feats], y_train) # continuous features only with categorical target \n",
        "\n",
        "# Get scores for each continuous feature in relation to categorical target (Default_Ind) in one dataframe\n",
        "scores_df_regression = pd.DataFrame(fit_best_features.scores_)\n",
        "features_df_regression = pd.DataFrame(X_train[continuous_feats].columns)\n",
        "feature_scores_regression = pd.concat([features_df_regression, scores_df_regression], axis = 1)\n",
        "feature_scores_regression.columns = ['Feature', 'Score']\n",
        "feature_scores_regression.nlargest(11, 'Score')"
      ]
    },
    {
      "cell_type": "code",
      "execution_count": 197,
      "metadata": {
        "colab": {
          "base_uri": "https://localhost:8080/",
          "height": 519
        },
        "id": "e7_uZ5i_Q9wp",
        "outputId": "12096fb0-1990-40c4-a285-e6294f660244"
      },
      "outputs": [
        {
          "output_type": "execute_result",
          "data": {
            "text/plain": [
              "   Feature       Score\n",
              "2       X4  343.791030\n",
              "3       X5  168.491822\n",
              "0       X2  122.391666\n",
              "1       X3   27.708421\n",
              "6       X8    3.141784\n",
              "5       X7    0.698572\n",
              "4       X6    0.691256\n",
              "9      X11    0.522480\n",
              "2      X14    0.500187\n",
              "3      X15    0.292577\n",
              "1      X13    0.289865\n",
              "8      X10    0.277978\n",
              "7       X9    0.049945\n",
              "0       X1    0.010409\n",
              "10     X12    0.000002"
            ],
            "text/html": [
              "\n",
              "  <div id=\"df-87e8e344-8048-4a5d-bc25-78d5b2e680e4\">\n",
              "    <div class=\"colab-df-container\">\n",
              "      <div>\n",
              "<style scoped>\n",
              "    .dataframe tbody tr th:only-of-type {\n",
              "        vertical-align: middle;\n",
              "    }\n",
              "\n",
              "    .dataframe tbody tr th {\n",
              "        vertical-align: top;\n",
              "    }\n",
              "\n",
              "    .dataframe thead th {\n",
              "        text-align: right;\n",
              "    }\n",
              "</style>\n",
              "<table border=\"1\" class=\"dataframe\">\n",
              "  <thead>\n",
              "    <tr style=\"text-align: right;\">\n",
              "      <th></th>\n",
              "      <th>Feature</th>\n",
              "      <th>Score</th>\n",
              "    </tr>\n",
              "  </thead>\n",
              "  <tbody>\n",
              "    <tr>\n",
              "      <th>2</th>\n",
              "      <td>X4</td>\n",
              "      <td>343.791030</td>\n",
              "    </tr>\n",
              "    <tr>\n",
              "      <th>3</th>\n",
              "      <td>X5</td>\n",
              "      <td>168.491822</td>\n",
              "    </tr>\n",
              "    <tr>\n",
              "      <th>0</th>\n",
              "      <td>X2</td>\n",
              "      <td>122.391666</td>\n",
              "    </tr>\n",
              "    <tr>\n",
              "      <th>1</th>\n",
              "      <td>X3</td>\n",
              "      <td>27.708421</td>\n",
              "    </tr>\n",
              "    <tr>\n",
              "      <th>6</th>\n",
              "      <td>X8</td>\n",
              "      <td>3.141784</td>\n",
              "    </tr>\n",
              "    <tr>\n",
              "      <th>5</th>\n",
              "      <td>X7</td>\n",
              "      <td>0.698572</td>\n",
              "    </tr>\n",
              "    <tr>\n",
              "      <th>4</th>\n",
              "      <td>X6</td>\n",
              "      <td>0.691256</td>\n",
              "    </tr>\n",
              "    <tr>\n",
              "      <th>9</th>\n",
              "      <td>X11</td>\n",
              "      <td>0.522480</td>\n",
              "    </tr>\n",
              "    <tr>\n",
              "      <th>2</th>\n",
              "      <td>X14</td>\n",
              "      <td>0.500187</td>\n",
              "    </tr>\n",
              "    <tr>\n",
              "      <th>3</th>\n",
              "      <td>X15</td>\n",
              "      <td>0.292577</td>\n",
              "    </tr>\n",
              "    <tr>\n",
              "      <th>1</th>\n",
              "      <td>X13</td>\n",
              "      <td>0.289865</td>\n",
              "    </tr>\n",
              "    <tr>\n",
              "      <th>8</th>\n",
              "      <td>X10</td>\n",
              "      <td>0.277978</td>\n",
              "    </tr>\n",
              "    <tr>\n",
              "      <th>7</th>\n",
              "      <td>X9</td>\n",
              "      <td>0.049945</td>\n",
              "    </tr>\n",
              "    <tr>\n",
              "      <th>0</th>\n",
              "      <td>X1</td>\n",
              "      <td>0.010409</td>\n",
              "    </tr>\n",
              "    <tr>\n",
              "      <th>10</th>\n",
              "      <td>X12</td>\n",
              "      <td>0.000002</td>\n",
              "    </tr>\n",
              "  </tbody>\n",
              "</table>\n",
              "</div>\n",
              "      <button class=\"colab-df-convert\" onclick=\"convertToInteractive('df-87e8e344-8048-4a5d-bc25-78d5b2e680e4')\"\n",
              "              title=\"Convert this dataframe to an interactive table.\"\n",
              "              style=\"display:none;\">\n",
              "        \n",
              "  <svg xmlns=\"http://www.w3.org/2000/svg\" height=\"24px\"viewBox=\"0 0 24 24\"\n",
              "       width=\"24px\">\n",
              "    <path d=\"M0 0h24v24H0V0z\" fill=\"none\"/>\n",
              "    <path d=\"M18.56 5.44l.94 2.06.94-2.06 2.06-.94-2.06-.94-.94-2.06-.94 2.06-2.06.94zm-11 1L8.5 8.5l.94-2.06 2.06-.94-2.06-.94L8.5 2.5l-.94 2.06-2.06.94zm10 10l.94 2.06.94-2.06 2.06-.94-2.06-.94-.94-2.06-.94 2.06-2.06.94z\"/><path d=\"M17.41 7.96l-1.37-1.37c-.4-.4-.92-.59-1.43-.59-.52 0-1.04.2-1.43.59L10.3 9.45l-7.72 7.72c-.78.78-.78 2.05 0 2.83L4 21.41c.39.39.9.59 1.41.59.51 0 1.02-.2 1.41-.59l7.78-7.78 2.81-2.81c.8-.78.8-2.07 0-2.86zM5.41 20L4 18.59l7.72-7.72 1.47 1.35L5.41 20z\"/>\n",
              "  </svg>\n",
              "      </button>\n",
              "      \n",
              "  <style>\n",
              "    .colab-df-container {\n",
              "      display:flex;\n",
              "      flex-wrap:wrap;\n",
              "      gap: 12px;\n",
              "    }\n",
              "\n",
              "    .colab-df-convert {\n",
              "      background-color: #E8F0FE;\n",
              "      border: none;\n",
              "      border-radius: 50%;\n",
              "      cursor: pointer;\n",
              "      display: none;\n",
              "      fill: #1967D2;\n",
              "      height: 32px;\n",
              "      padding: 0 0 0 0;\n",
              "      width: 32px;\n",
              "    }\n",
              "\n",
              "    .colab-df-convert:hover {\n",
              "      background-color: #E2EBFA;\n",
              "      box-shadow: 0px 1px 2px rgba(60, 64, 67, 0.3), 0px 1px 3px 1px rgba(60, 64, 67, 0.15);\n",
              "      fill: #174EA6;\n",
              "    }\n",
              "\n",
              "    [theme=dark] .colab-df-convert {\n",
              "      background-color: #3B4455;\n",
              "      fill: #D2E3FC;\n",
              "    }\n",
              "\n",
              "    [theme=dark] .colab-df-convert:hover {\n",
              "      background-color: #434B5C;\n",
              "      box-shadow: 0px 1px 3px 1px rgba(0, 0, 0, 0.15);\n",
              "      filter: drop-shadow(0px 1px 2px rgba(0, 0, 0, 0.3));\n",
              "      fill: #FFFFFF;\n",
              "    }\n",
              "  </style>\n",
              "\n",
              "      <script>\n",
              "        const buttonEl =\n",
              "          document.querySelector('#df-87e8e344-8048-4a5d-bc25-78d5b2e680e4 button.colab-df-convert');\n",
              "        buttonEl.style.display =\n",
              "          google.colab.kernel.accessAllowed ? 'block' : 'none';\n",
              "\n",
              "        async function convertToInteractive(key) {\n",
              "          const element = document.querySelector('#df-87e8e344-8048-4a5d-bc25-78d5b2e680e4');\n",
              "          const dataTable =\n",
              "            await google.colab.kernel.invokeFunction('convertToInteractive',\n",
              "                                                     [key], {});\n",
              "          if (!dataTable) return;\n",
              "\n",
              "          const docLinkHtml = 'Like what you see? Visit the ' +\n",
              "            '<a target=\"_blank\" href=https://colab.research.google.com/notebooks/data_table.ipynb>data table notebook</a>'\n",
              "            + ' to learn more about interactive tables.';\n",
              "          element.innerHTML = '';\n",
              "          dataTable['output_type'] = 'display_data';\n",
              "          await google.colab.output.renderOutput(dataTable, element);\n",
              "          const docLink = document.createElement('div');\n",
              "          docLink.innerHTML = docLinkHtml;\n",
              "          element.appendChild(docLink);\n",
              "        }\n",
              "      </script>\n",
              "    </div>\n",
              "  </div>\n",
              "  "
            ]
          },
          "metadata": {},
          "execution_count": 197
        }
      ],
      "source": [
        "# Concat scores for Continuous and Categorical Features Together and Sort them by Score\n",
        "feature_scores = pd.concat([feature_scores_categorical, feature_scores_regression], axis = 0)\n",
        "feature_scores.nlargest(15, 'Score')"
      ]
    },
    {
      "cell_type": "markdown",
      "metadata": {
        "id": "JvkeuQG2CLx_"
      },
      "source": [
        "**Feature Importance Using Extra Trees Decision Classifier**"
      ]
    },
    {
      "cell_type": "code",
      "execution_count": 198,
      "metadata": {
        "colab": {
          "base_uri": "https://localhost:8080/",
          "height": 350
        },
        "id": "viwE7Cf13dXX",
        "outputId": "2c7d9e5b-e280-4332-a68c-399a389c691a"
      },
      "outputs": [
        {
          "output_type": "stream",
          "name": "stdout",
          "text": [
            "[0.03035502 0.10671717 0.06884139 0.24624867 0.11787486 0.04530225\n",
            " 0.05586518 0.04864782 0.04814748 0.04568713 0.04936329 0.04536007\n",
            " 0.0324987  0.0382786  0.02081238]\n"
          ]
        },
        {
          "output_type": "display_data",
          "data": {
            "text/plain": [
              "<Figure size 432x288 with 1 Axes>"
            ],
            "image/png": "[encoded data removed]"
          },
          "metadata": {
            "needs_background": "light"
          }
        }
      ],
      "source": [
        "# Feature Importance Using Extra Trees Decision Classifier\n",
        "from sklearn.ensemble import ExtraTreesClassifier\n",
        "model = ExtraTreesClassifier()\n",
        "model.fit(X_train_copy, y_train)\n",
        "print(model.feature_importances_)\n",
        "\n",
        "# Plotting graph of feature importance for each feature\n",
        "feature_importance_dtc = pd.Series(model.feature_importances_, index = X_train_copy.columns)\n",
        "feature_importance_dtc.nlargest(15).plot(kind = 'barh')\n",
        "plt.title('Feature Importance for Each Feature')\n",
        "plt.ylabel('Feature')\n",
        "plt.xlabel('Feature Importance')\n",
        "plt.show()"
      ]
    },
    {
      "cell_type": "markdown",
      "metadata": {
        "id": "wwMKVRUiu6c8"
      },
      "source": [
        "**Feature Importance Using Random Forest Classifier**"
      ]
    },
    {
      "cell_type": "code",
      "execution_count": 199,
      "metadata": {
        "colab": {
          "base_uri": "https://localhost:8080/",
          "height": 350
        },
        "id": "K8M47pZPunax",
        "outputId": "b35abcce-b210-42dc-ba63-8660df629f3e"
      },
      "outputs": [
        {
          "output_type": "stream",
          "name": "stdout",
          "text": [
            "[0.00774304 0.11781456 0.06637544 0.35642906 0.15875496 0.03588923\n",
            " 0.04509117 0.03998095 0.0330771  0.034561   0.04126627 0.0326111\n",
            " 0.01121266 0.01383499 0.00535848]\n"
          ]
        },
        {
          "output_type": "display_data",
          "data": {
            "text/plain": [
              "<Figure size 432x288 with 1 Axes>"
            ],
            "image/png": "[encoded data removed]"
          },
          "metadata": {
            "needs_background": "light"
          }
        }
      ],
      "source": [
        "# Feature Importance Using Random Forest Classifier\n",
        "model = RandomForestClassifier()\n",
        "model.fit(X_train_copy, y_train)\n",
        "print(model.feature_importances_)\n",
        "\n",
        "# Plotting graph of feature importance for each feature\n",
        "feature_importance_rfc = pd.Series(model.feature_importances_, index = X_train_copy.columns)\n",
        "feature_importance_rfc.nlargest(15).plot(kind = 'barh')\n",
        "plt.title('Feature Importance for Each Feature')\n",
        "plt.ylabel('Feature')\n",
        "plt.xlabel('Feature Importance')\n",
        "plt.show()"
      ]
    },
    {
      "cell_type": "markdown",
      "metadata": {
        "id": "2skI2mSarIna"
      },
      "source": [
        "**Scaling (Standardize/Normalize) Features Function**"
      ]
    },
    {
      "cell_type": "code",
      "execution_count": 200,
      "metadata": {
        "id": "PvW4HbyTUzGn"
      },
      "outputs": [],
      "source": [
        "# Scaling Training and Testing Dataset to Standardize/Normalize\n",
        "from sklearn.preprocessing import StandardScaler\n",
        "\n",
        "def scaling(X_train, X_test):\n",
        "  scaler = StandardScaler()\n",
        "\n",
        "  X_train_scale = scaler.fit_transform(X_train)\n",
        "  X_test_scale = scaler.transform(X_test)\n",
        "\n",
        "  X_train_scale = pd.DataFrame(X_train_scale, columns = X_train.columns)\n",
        "  X_test_scale = pd.DataFrame(X_test_scale, columns = X_test.columns)\n",
        "\n",
        "  return X_train_scale, X_test_scale"
      ]
    },
    {
      "cell_type": "markdown",
      "metadata": {
        "id": "5OwQ4np6Yygu"
      },
      "source": [
        "**Modelling and Predictions and Model Evaluation Functions**"
      ]
    },
    {
      "cell_type": "code",
      "execution_count": 201,
      "metadata": {
        "id": "_uQMeiGvLzuZ"
      },
      "outputs": [],
      "source": [
        "# Modelling on Revised Training and Testing Dataset \n",
        "# Predicting on test set \n",
        "\n",
        "def fit_model(model_name, X_train, y_train):\n",
        "    model = model_name\n",
        "    model.fit(X_train, y_train)\n",
        "\n",
        "def train_predict_model(model_name, X_train, X_test, y_train):\n",
        "    model = model_name\n",
        "    model.fit(X_train, y_train)\n",
        "    y_pred = model.predict(X_test)\n",
        "    return y_pred\n",
        "    \n",
        "def model_accuracy(model_name, X_train, X_test, y_train, y_test):\n",
        "    y_pred = train_predict_model(model_name, X_train, X_test, y_train)\n",
        "\n",
        "    # Use f1-score method to get evaluation of model\n",
        "    f1_sc = f1_score(y_test, y_pred, labels='binary', pos_label=\"1\")\n",
        "    return f1_sc\n",
        "\n",
        "def confusion_matrix(model_name, X_train, X_test, y_train, y_test):\n",
        "    y_pred = train_predict_model(model_name, X_train, X_test, y_train)\n",
        "    cm = metrics.confusion_matrix(y_test, y_pred)\n",
        "    f1_sc = model_accuracy(model_name, X_train, X_test, y_train, y_test)\n",
        "    plt.figure(figsize=(9,9))\n",
        "    sns.heatmap(cm, annot=True, fmt=\".3f\", linewidths=.5, square = True, cmap = 'Blues_r');\n",
        "    plt.ylabel('Actual label')\n",
        "    plt.xlabel('Predicted label')\n",
        "    scores_title = '(F1 Score): {0}'.format(f1_sc)\n",
        "    plt.title(scores_title, size = 15)\n",
        "\n",
        "def class_report(model_name, X_train, X_test, y_train, y_test):\n",
        "  y_pred = train_predict_model(model_name, X_train, X_test, y_train)\n",
        "  print(classification_report(y_test, y_pred))"
      ]
    },
    {
      "cell_type": "markdown",
      "metadata": {
        "id": "uuDHjQnV9Mvg"
      },
      "source": [
        "**Modify X_train and X_test with Top k Features based on Importance Gain (mutual_info_classif)**"
      ]
    },
    {
      "cell_type": "code",
      "execution_count": 202,
      "metadata": {
        "id": "aQjsMlNQ7oZw"
      },
      "outputs": [],
      "source": [
        "# Modify features dataframe (X) with Top k Features based on Importance Gain (mutual_info_classif)\n",
        "# Then encode and scale/standardize after Top k features are chosen\n",
        "\n",
        "def new_train_test_X(k, X_train, X_test, importances=importances):\n",
        "  top_k_feats = list(pd.Series(importances, feats).sort_values()[-k:].index)\n",
        "\n",
        "  # Choose k features from dataframe \n",
        "  X_train = X_train[top_k_feats]\n",
        "  X_test = X_test[top_k_feats]\n",
        "\n",
        "  # One Hot Encoding for categorical features\n",
        "  X_train_encoded = pd.get_dummies(data = X_train)\n",
        "  X_test_encoded = pd.get_dummies(data = X_test)\n",
        "\n",
        "  # Normalization/scaling features \n",
        "  X_train_encoded, X_test_encoded = scaling(X_train_encoded, X_test_encoded)\n",
        "\n",
        "  return X_train_encoded, X_test_encoded"
      ]
    },
    {
      "cell_type": "markdown",
      "metadata": {
        "id": "6gygwl1QJe9d"
      },
      "source": [
        "**Logistic Regression search space**"
      ]
    },
    {
      "cell_type": "code",
      "execution_count": 203,
      "metadata": {
        "id": "IYMzKdonLP7W"
      },
      "outputs": [],
      "source": [
        "log_model_space = dict()\n",
        "log_model_space['C'] = [0.001, 0.01, 0.1, 1, 10, 100, 1000]"
      ]
    },
    {
      "cell_type": "markdown",
      "metadata": {
        "id": "kdDmKSkeM2Hw"
      },
      "source": [
        "**Decision Tree Classifier search space**"
      ]
    },
    {
      "cell_type": "code",
      "execution_count": 204,
      "metadata": {
        "id": "ube10fC7M2g-"
      },
      "outputs": [],
      "source": [
        "DTC_model_space = dict()\n",
        "DTC_model_space['max_depth'] = [1, 10, 25, 50, 75, 100, 1000]"
      ]
    },
    {
      "cell_type": "markdown",
      "metadata": {
        "id": "ZFFUdAnBNKIv"
      },
      "source": [
        "**Support Vector Classifier search space**"
      ]
    },
    {
      "cell_type": "code",
      "execution_count": 205,
      "metadata": {
        "id": "omUrcWKCNKbz"
      },
      "outputs": [],
      "source": [
        "SVC_model_space = dict()\n",
        "SVC_model_space['C'] = [0.001, 0.01, 0.1, 1, 10, 100, 1000]"
      ]
    },
    {
      "cell_type": "markdown",
      "metadata": {
        "id": "BAlVJKoaCwCX"
      },
      "source": [
        "**KNN Classifier search space**"
      ]
    },
    {
      "cell_type": "code",
      "execution_count": 206,
      "metadata": {
        "id": "DDkGyU6KCwbF"
      },
      "outputs": [],
      "source": [
        "knn_model_space = dict()\n",
        "knn_model_space['n_neighbors'] = [1, 5, 10, 25, 50, 75, 100]"
      ]
    },
    {
      "cell_type": "markdown",
      "metadata": {
        "id": "CFhxz5KKNKsZ"
      },
      "source": [
        "**Random Forest Classifier search space**"
      ]
    },
    {
      "cell_type": "code",
      "execution_count": 207,
      "metadata": {
        "id": "PPRSHRITNK23"
      },
      "outputs": [],
      "source": [
        "rfc_model_space = dict()\n",
        "rfc_model_space['n_estimators'] = [1, 10, 25, 50, 75, 100, 1000]"
      ]
    },
    {
      "cell_type": "markdown",
      "metadata": {
        "id": "LlHwO31JNZvx"
      },
      "source": [
        "**XG-Boost Classifier search space**"
      ]
    },
    {
      "cell_type": "code",
      "execution_count": 208,
      "metadata": {
        "id": "37VwTvcbNZ7p"
      },
      "outputs": [],
      "source": [
        "xgb_model_space = dict()\n",
        "xgb_model_space['learning_rate'] = [0.01, 0.01, 0.1, 1, 10]\n",
        "xgb_model_space['n_estimators'] = [1, 10, 25, 50, 75, 100]"
      ]
    },
    {
      "cell_type": "markdown",
      "metadata": {
        "id": "L0T-YdGHGADe"
      },
      "source": [
        "**Grid Search CV Function that Selects Hyperparameters based on HIGHEST F1-SCORE**"
      ]
    },
    {
      "cell_type": "code",
      "execution_count": 72,
      "metadata": {
        "id": "jPfnO0pnF-xP"
      },
      "outputs": [],
      "source": [
        "# from sklearn.model_selection import GridSearchCV, RepeatedStratifiedKFold\n",
        "\n",
        "# define evaluation\n",
        "# cv = RepeatedStratifiedKFold(n_splits=10, n_repeats=3, random_state=1)\n",
        "\n",
        "def best_hyperparameters(model_name, space, X_train_encoded):\n",
        "  model = model_name\n",
        "\n",
        "  # define search\n",
        "  search = GridSearchCV(estimator=model, param_grid=space, scoring='f1_macro', n_jobs=-1, cv=10)\n",
        "\n",
        "  # execute search\n",
        "  result = search.fit(X_train_encoded, y_train)\n",
        "\n",
        "  # best parameter(s) that gives HIGHEST f1_macro score\n",
        "  # print('Best Score: %s' % result.best_score_)\n",
        "  return result.best_params_"
      ]
    },
    {
      "cell_type": "markdown",
      "metadata": {
        "id": "RHyI1ROOQnZt"
      },
      "source": [
        "**Using ALL Features OR Using K Selected Features**"
      ]
    },
    {
      "cell_type": "code",
      "execution_count": 73,
      "metadata": {
        "id": "uSkDTAZuOHeu"
      },
      "outputs": [],
      "source": [
        "# Using ALL Features in the dataframe (is encoded and scaled/normalized in this function)\n",
        "X_train_encoded_all, X_test_encoded_all = new_train_test_X(15, X_train, X_test)\n",
        "\n",
        "# Using K Features in the dataframe (is encoded and scaled/normalized in this function)\n",
        "# Select value for k (number of features wanted in model)\n",
        "k = 4 \n",
        "X_train_encoded_k, X_test_encoded_k = new_train_test_X(k, X_train, X_test)"
      ]
    },
    {
      "cell_type": "markdown",
      "metadata": {
        "id": "90THGB3QrX_O"
      },
      "source": [
        "## **Training Classification Models on Training Set and Predicting on Test Set**"
      ]
    },
    {
      "cell_type": "markdown",
      "metadata": {
        "id": "yqR8n_o0MrZV"
      },
      "source": [
        "# **BASELINE MODEL**: \n",
        "**Predicting Whether Customer is in Default Based on ALL FEATURES (X1 TO X15)**"
      ]
    },
    {
      "cell_type": "markdown",
      "metadata": {
        "id": "nD1efgaWx9kT"
      },
      "source": [
        "### **Logistic Regression**"
      ]
    },
    {
      "cell_type": "markdown",
      "metadata": {
        "id": "2L0-QNy6JxhB"
      },
      "source": [
        "**Using ALL FEATURES**"
      ]
    },
    {
      "cell_type": "code",
      "execution_count": 74,
      "metadata": {
        "colab": {
          "base_uri": "https://localhost:8080/",
          "height": 705
        },
        "id": "CMszXv8wgxX6",
        "outputId": "8f2a2e34-d2a3-4bab-832d-399b5a00fc32"
      },
      "outputs": [
        {
          "output_type": "stream",
          "name": "stdout",
          "text": [
            "                    \n",
            "              precision    recall  f1-score   support\n",
            "\n",
            "           0       1.00      1.00      1.00      2961\n",
            "           1       0.77      0.69      0.73        39\n",
            "\n",
            "    accuracy                           0.99      3000\n",
            "   macro avg       0.88      0.84      0.86      3000\n",
            "weighted avg       0.99      0.99      0.99      3000\n",
            "\n"
          ]
        },
        {
          "output_type": "display_data",
          "data": {
            "text/plain": [
              "<Figure size 648x648 with 2 Axes>"
            ],
            "image/png": "[encoded data removed]"
          },
          "metadata": {
            "needs_background": "light"
          }
        }
      ],
      "source": [
        "# Optimizing best hyperparameters of Logistic Regression\n",
        "log_model = LogisticRegression(penalty = 'l1', solver = 'liblinear')\n",
        "best_params = best_hyperparameters(log_model, log_model_space, X_train_encoded_all)\n",
        "\n",
        "# Confusion Matrix of Accuracy of Logistic Regression\n",
        "log_model = LogisticRegression(penalty = 'l1', solver = 'liblinear', C=best_params['C'])\n",
        "confusion_matrix(log_model, X_train_encoded_all, X_test_encoded_all, y_train, y_test)\n",
        "print(\"                    \")\n",
        "\n",
        "# Classification Report Using Logistic Regression\n",
        "class_report(log_model, X_train_encoded_all, X_test_encoded_all, y_train, y_test)"
      ]
    },
    {
      "cell_type": "markdown",
      "metadata": {
        "id": "9ma238ByJ8JN"
      },
      "source": [
        "**Using TOP K Features based on Information Gain on Target Variable (Default_ind)**"
      ]
    },
    {
      "cell_type": "code",
      "execution_count": 75,
      "metadata": {
        "colab": {
          "base_uri": "https://localhost:8080/",
          "height": 705
        },
        "id": "zsBuo1xwOkpE",
        "outputId": "fb4242ba-c404-4d14-ea40-a8960717c895"
      },
      "outputs": [
        {
          "output_type": "stream",
          "name": "stdout",
          "text": [
            "                    \n",
            "              precision    recall  f1-score   support\n",
            "\n",
            "           0       1.00      1.00      1.00      2961\n",
            "           1       0.82      0.69      0.75        39\n",
            "\n",
            "    accuracy                           0.99      3000\n",
            "   macro avg       0.91      0.85      0.87      3000\n",
            "weighted avg       0.99      0.99      0.99      3000\n",
            "\n"
          ]
        },
        {
          "output_type": "display_data",
          "data": {
            "text/plain": [
              "<Figure size 648x648 with 2 Axes>"
            ],
            "image/png": "[encoded data removed]"
          },
          "metadata": {
            "needs_background": "light"
          }
        }
      ],
      "source": [
        "# Optimizing best hyperparameters of Logistic Regression\n",
        "log_model = LogisticRegression(penalty = 'l1', solver = 'liblinear')\n",
        "best_params = best_hyperparameters(log_model, log_model_space, X_train_encoded_k)\n",
        "\n",
        "# Confusion Matrix of Accuracy of Logistic Regression\n",
        "log_model = LogisticRegression(penalty = 'l1', solver = 'liblinear', C=best_params['C'])\n",
        "confusion_matrix(log_model, X_train_encoded_k, X_test_encoded_k, y_train, y_test)\n",
        "print(\"                    \")\n",
        "\n",
        "# Classification Report Using Logistic Regression\n",
        "class_report(log_model, X_train_encoded_k, X_test_encoded_k, y_train, y_test)"
      ]
    },
    {
      "cell_type": "markdown",
      "metadata": {
        "id": "hdVMmMCzyQVO"
      },
      "source": [
        "### **Decision Tree Classifier**"
      ]
    },
    {
      "cell_type": "markdown",
      "metadata": {
        "id": "-MmPa6lIQ5rV"
      },
      "source": [
        "**Using ALL FEATURES**"
      ]
    },
    {
      "cell_type": "code",
      "execution_count": 76,
      "metadata": {
        "colab": {
          "base_uri": "https://localhost:8080/",
          "height": 705
        },
        "id": "3yHO0whWLzub",
        "outputId": "928cd55a-48ac-45bb-df8f-1e77ba88f483"
      },
      "outputs": [
        {
          "output_type": "stream",
          "name": "stdout",
          "text": [
            "                  \n",
            "              precision    recall  f1-score   support\n",
            "\n",
            "           0       1.00      1.00      1.00      2961\n",
            "           1       0.66      0.69      0.68        39\n",
            "\n",
            "    accuracy                           0.99      3000\n",
            "   macro avg       0.83      0.84      0.84      3000\n",
            "weighted avg       0.99      0.99      0.99      3000\n",
            "\n"
          ]
        },
        {
          "output_type": "display_data",
          "data": {
            "text/plain": [
              "<Figure size 648x648 with 2 Axes>"
            ],
            "image/png": "[encoded data removed]"
          },
          "metadata": {
            "needs_background": "light"
          }
        }
      ],
      "source": [
        "# Optimizing best hyperparameters of Decision Tree Classifier\n",
        "DTC_model = DecisionTreeClassifier(class_weight='balanced')\n",
        "best_params = best_hyperparameters(DTC_model, DTC_model_space, X_train_encoded_all)\n",
        "\n",
        "# Confusion Matrix of Accuracy of Decision Tree Classifier\n",
        "DTC_model = DecisionTreeClassifier(class_weight='balanced', max_depth=best_params['max_depth'])\n",
        "confusion_matrix(DTC_model, X_train_encoded_all, X_test_encoded_all, y_train, y_test)\n",
        "print(\"                  \")\n",
        "\n",
        "# Classification Report Using Decision Tree Classifier\n",
        "class_report(DTC_model, X_train_encoded_all, X_test_encoded_all, y_train, y_test)"
      ]
    },
    {
      "cell_type": "markdown",
      "metadata": {
        "id": "q1hag4H5RYaP"
      },
      "source": [
        "**Using TOP K Features based on Information Gain on Target Variable (Default_ind)**"
      ]
    },
    {
      "cell_type": "code",
      "execution_count": 77,
      "metadata": {
        "colab": {
          "base_uri": "https://localhost:8080/",
          "height": 705
        },
        "id": "0WaT7uZoRZJp",
        "outputId": "983c4aa5-fa95-459a-bcef-9ac4061cadad"
      },
      "outputs": [
        {
          "output_type": "stream",
          "name": "stdout",
          "text": [
            "                  \n",
            "              precision    recall  f1-score   support\n",
            "\n",
            "           0       1.00      1.00      1.00      2961\n",
            "           1       0.68      0.69      0.68        39\n",
            "\n",
            "    accuracy                           0.99      3000\n",
            "   macro avg       0.84      0.84      0.84      3000\n",
            "weighted avg       0.99      0.99      0.99      3000\n",
            "\n"
          ]
        },
        {
          "output_type": "display_data",
          "data": {
            "text/plain": [
              "<Figure size 648x648 with 2 Axes>"
            ],
            "image/png": "[encoded data removed]"
          },
          "metadata": {
            "needs_background": "light"
          }
        }
      ],
      "source": [
        "# Optimizing best hyperparameters of Decision Tree Classifier\n",
        "DTC_model = DecisionTreeClassifier(class_weight='balanced')\n",
        "best_params = best_hyperparameters(DTC_model, DTC_model_space, X_train_encoded_k)\n",
        "\n",
        "# Confusion Matrix of Accuracy of Decision Tree Classifier\n",
        "DTC_model = DecisionTreeClassifier(class_weight='balanced', max_depth=best_params['max_depth'])\n",
        "confusion_matrix(DTC_model, X_train_encoded_k, X_test_encoded_k, y_train, y_test)\n",
        "print(\"                  \")\n",
        "\n",
        "# Classification Report Using Decision Tree Classifier\n",
        "class_report(DTC_model, X_train_encoded_k, X_test_encoded_k, y_train, y_test)"
      ]
    },
    {
      "cell_type": "markdown",
      "metadata": {
        "id": "b3L8UR4ByJbi"
      },
      "source": [
        "### **Support Vector Classifier** "
      ]
    },
    {
      "cell_type": "markdown",
      "metadata": {
        "id": "kPLigfinREVn"
      },
      "source": [
        "**Using ALL FEATURES**"
      ]
    },
    {
      "cell_type": "code",
      "execution_count": 78,
      "metadata": {
        "colab": {
          "base_uri": "https://localhost:8080/",
          "height": 705
        },
        "id": "evObtEvqLzud",
        "outputId": "6fc8de6e-dd31-49fd-89b1-ae5460d5daa6"
      },
      "outputs": [
        {
          "output_type": "stream",
          "name": "stdout",
          "text": [
            "         \n",
            "              precision    recall  f1-score   support\n",
            "\n",
            "           0       1.00      0.99      0.99      2961\n",
            "           1       0.56      0.72      0.63        39\n",
            "\n",
            "    accuracy                           0.99      3000\n",
            "   macro avg       0.78      0.86      0.81      3000\n",
            "weighted avg       0.99      0.99      0.99      3000\n",
            "\n"
          ]
        },
        {
          "output_type": "display_data",
          "data": {
            "text/plain": [
              "<Figure size 648x648 with 2 Axes>"
            ],
            "image/png": "[encoded data removed]"
          },
          "metadata": {
            "needs_background": "light"
          }
        }
      ],
      "source": [
        "# Optimizing best hyperparameters of Support Vector Classifier\n",
        "SVC_model = svm.SVC(class_weight='balanced')\n",
        "best_params = best_hyperparameters(SVC_model, SVC_model_space, X_train_encoded_all)\n",
        "\n",
        "# Confusion Matrix of Accuracy of Support Vector Classifier\n",
        "SVC_model = svm.SVC(class_weight='balanced', C=best_params['C'])\n",
        "confusion_matrix(SVC_model, X_train_encoded_all, X_test_encoded_all, y_train, y_test)\n",
        "print(\"         \")\n",
        "\n",
        "# Classification Report Using Support Vector Classifier\n",
        "class_report(SVC_model, X_train_encoded_all, X_test_encoded_all, y_train, y_test)"
      ]
    },
    {
      "cell_type": "markdown",
      "metadata": {
        "id": "0oz5mQcJRamK"
      },
      "source": [
        "**Using TOP K Features based on Information Gain on Target Variable (Default_ind)**"
      ]
    },
    {
      "cell_type": "code",
      "execution_count": 79,
      "metadata": {
        "colab": {
          "base_uri": "https://localhost:8080/",
          "height": 705
        },
        "id": "2IEe9fdpRbJh",
        "outputId": "74b269b8-8f98-4cfe-9d9e-553347156358"
      },
      "outputs": [
        {
          "output_type": "stream",
          "name": "stdout",
          "text": [
            "         \n",
            "              precision    recall  f1-score   support\n",
            "\n",
            "           0       1.00      1.00      1.00      2961\n",
            "           1       0.71      0.77      0.74        39\n",
            "\n",
            "    accuracy                           0.99      3000\n",
            "   macro avg       0.86      0.88      0.87      3000\n",
            "weighted avg       0.99      0.99      0.99      3000\n",
            "\n"
          ]
        },
        {
          "output_type": "display_data",
          "data": {
            "text/plain": [
              "<Figure size 648x648 with 2 Axes>"
            ],
            "image/png": "[encoded data removed]"
          },
          "metadata": {
            "needs_background": "light"
          }
        }
      ],
      "source": [
        "# Optimizing best hyperparameters of Support Vector Classifier\n",
        "SVC_model = svm.SVC(class_weight='balanced')\n",
        "best_params = best_hyperparameters(SVC_model, SVC_model_space, X_train_encoded_k)\n",
        "\n",
        "# Confusion Matrix of Accuracy of Support Vector Classifier\n",
        "SVC_model = svm.SVC(class_weight='balanced', C=best_params['C'])\n",
        "confusion_matrix(SVC_model, X_train_encoded_k, X_test_encoded_k, y_train, y_test)\n",
        "print(\"         \")\n",
        "\n",
        "# Classification Report Using Support Vector Classifier\n",
        "class_report(SVC_model, X_train_encoded_k, X_test_encoded_k, y_train, y_test)"
      ]
    },
    {
      "cell_type": "markdown",
      "metadata": {
        "id": "zzKRT6vRNqgX"
      },
      "source": [
        "### **K-Nearest_Neighbours Classifier**"
      ]
    },
    {
      "cell_type": "markdown",
      "metadata": {
        "id": "oYLClGtwRIYH"
      },
      "source": [
        "**Using ALL FEATURES**"
      ]
    },
    {
      "cell_type": "code",
      "execution_count": 80,
      "metadata": {
        "colab": {
          "base_uri": "https://localhost:8080/",
          "height": 705
        },
        "id": "k3jmORKhLzue",
        "outputId": "6cc66624-de27-444e-cd15-6b0a48e1a113"
      },
      "outputs": [
        {
          "output_type": "stream",
          "name": "stdout",
          "text": [
            "          \n",
            "              precision    recall  f1-score   support\n",
            "\n",
            "           0       0.99      1.00      0.99      2961\n",
            "           1       0.31      0.10      0.15        39\n",
            "\n",
            "    accuracy                           0.99      3000\n",
            "   macro avg       0.65      0.55      0.57      3000\n",
            "weighted avg       0.98      0.99      0.98      3000\n",
            "\n"
          ]
        },
        {
          "output_type": "display_data",
          "data": {
            "text/plain": [
              "<Figure size 648x648 with 2 Axes>"
            ],
            "image/png": "[encoded data removed]"
          },
          "metadata": {
            "needs_background": "light"
          }
        }
      ],
      "source": [
        "# Optimizing best hyperparameters of K-Nearest Neighbours Classifier\n",
        "knn_model = KNeighborsClassifier()\n",
        "best_params = best_hyperparameters(knn_model, knn_model_space, X_train_encoded_all)\n",
        "\n",
        "# Confusion Matrix of Accuracy of K-Nearest Neighbours Classifier\n",
        "knn_model = KNeighborsClassifier(n_neighbors=best_params['n_neighbors'])\n",
        "confusion_matrix(knn_model, X_train_encoded_all, X_test_encoded_all, y_train, y_test)\n",
        "print(\"          \")\n",
        "\n",
        "# Classification Report Using K-Nearest-Neighbours Classifier\n",
        "class_report(knn_model, X_train_encoded_all, X_test_encoded_all, y_train, y_test)"
      ]
    },
    {
      "cell_type": "markdown",
      "metadata": {
        "id": "w4_-M9cvRc70"
      },
      "source": [
        "**Using TOP K Features based on Information Gain on Target Variable (Default_ind)**"
      ]
    },
    {
      "cell_type": "code",
      "execution_count": 81,
      "metadata": {
        "colab": {
          "base_uri": "https://localhost:8080/",
          "height": 705
        },
        "id": "2DJAGf7RRdmZ",
        "outputId": "1f0a3d1e-dc05-47d8-ba75-d134ccbd501a"
      },
      "outputs": [
        {
          "output_type": "stream",
          "name": "stdout",
          "text": [
            "          \n",
            "              precision    recall  f1-score   support\n",
            "\n",
            "           0       1.00      1.00      1.00      2961\n",
            "           1       0.74      0.67      0.70        39\n",
            "\n",
            "    accuracy                           0.99      3000\n",
            "   macro avg       0.87      0.83      0.85      3000\n",
            "weighted avg       0.99      0.99      0.99      3000\n",
            "\n"
          ]
        },
        {
          "output_type": "display_data",
          "data": {
            "text/plain": [
              "<Figure size 648x648 with 2 Axes>"
            ],
            "image/png": "[encoded data removed]"
          },
          "metadata": {
            "needs_background": "light"
          }
        }
      ],
      "source": [
        "# Optimizing best hyperparameters of K-Nearest Neighbours Classifier\n",
        "knn_model = KNeighborsClassifier()\n",
        "best_params = best_hyperparameters(knn_model, knn_model_space, X_train_encoded_k)\n",
        "\n",
        "# Confusion Matrix of Accuracy of K-Nearest Neighbours Classifier\n",
        "knn_model = KNeighborsClassifier(n_neighbors=best_params['n_neighbors'])\n",
        "confusion_matrix(knn_model, X_train_encoded_k, X_test_encoded_k, y_train, y_test)\n",
        "print(\"          \")\n",
        "\n",
        "# Classification Report Using K-Nearest-Neighbours Classifier\n",
        "class_report(knn_model, X_train_encoded_k, X_test_encoded_k, y_train, y_test)"
      ]
    },
    {
      "cell_type": "markdown",
      "metadata": {
        "id": "pZ8lMOdJyiy-"
      },
      "source": [
        "### **Random Forest Classifier**"
      ]
    },
    {
      "cell_type": "markdown",
      "metadata": {
        "id": "BZ7Nt0QHRL_9"
      },
      "source": [
        "**Using ALL FEATURES**"
      ]
    },
    {
      "cell_type": "code",
      "execution_count": 82,
      "metadata": {
        "colab": {
          "base_uri": "https://localhost:8080/",
          "height": 686
        },
        "id": "lknb88QGLzug",
        "outputId": "78909d79-5209-492d-ab36-d9661281b4a6"
      },
      "outputs": [
        {
          "output_type": "stream",
          "name": "stdout",
          "text": [
            "              precision    recall  f1-score   support\n",
            "\n",
            "           0       0.99      0.99      0.99      2961\n",
            "           1       0.38      0.31      0.34        39\n",
            "\n",
            "    accuracy                           0.98      3000\n",
            "   macro avg       0.68      0.65      0.67      3000\n",
            "weighted avg       0.98      0.98      0.98      3000\n",
            "\n"
          ]
        },
        {
          "output_type": "display_data",
          "data": {
            "text/plain": [
              "<Figure size 648x648 with 2 Axes>"
            ],
            "image/png": "[encoded data removed]"
          },
          "metadata": {
            "needs_background": "light"
          }
        }
      ],
      "source": [
        "# Optimizing best hyperparameters of Random Forest Classifier \n",
        "rfc_model = RandomForestClassifier(class_weight='balanced')\n",
        "best_params = best_hyperparameters(rfc_model, rfc_model_space, X_train_encoded_all)\n",
        "\n",
        "# Confusion Matrix of Accuracy of Random Forest Classifier \n",
        "rfc_model = RandomForestClassifier(n_estimators=best_params['n_estimators'], class_weight='balanced')\n",
        "confusion_matrix(rfc_model, X_train_encoded_all, X_test_encoded_all, y_train, y_test)\n",
        "\n",
        "# Classification Report Using Random Forest Classifier\n",
        "class_report(rfc_model, X_train_encoded_all, X_test_encoded_all, y_train, y_test)"
      ]
    },
    {
      "cell_type": "markdown",
      "metadata": {
        "id": "5kXW_z_VRf9X"
      },
      "source": [
        "**Using TOP K Features based on Information Gain on Target Variable (Default_ind)**"
      ]
    },
    {
      "cell_type": "code",
      "execution_count": 83,
      "metadata": {
        "colab": {
          "base_uri": "https://localhost:8080/",
          "height": 686
        },
        "id": "TKV2T9cGRgwi",
        "outputId": "18a2ef01-8ffb-4313-efdf-8f2c30e94ef3"
      },
      "outputs": [
        {
          "output_type": "stream",
          "name": "stdout",
          "text": [
            "              precision    recall  f1-score   support\n",
            "\n",
            "           0       0.99      1.00      1.00      2961\n",
            "           1       0.88      0.56      0.69        39\n",
            "\n",
            "    accuracy                           0.99      3000\n",
            "   macro avg       0.94      0.78      0.84      3000\n",
            "weighted avg       0.99      0.99      0.99      3000\n",
            "\n"
          ]
        },
        {
          "output_type": "display_data",
          "data": {
            "text/plain": [
              "<Figure size 648x648 with 2 Axes>"
            ],
            "image/png": "[encoded data removed]"
          },
          "metadata": {
            "needs_background": "light"
          }
        }
      ],
      "source": [
        "# Optimizing best hyperparameters of Random Forest Classifier \n",
        "rfc_model = RandomForestClassifier(class_weight='balanced')\n",
        "best_params = best_hyperparameters(rfc_model, rfc_model_space,X_train_encoded_k)\n",
        "\n",
        "# Confusion Matrix of Accuracy of Random Forest Classifier \n",
        "rfc_model = RandomForestClassifier(n_estimators=best_params['n_estimators'], class_weight='balanced')\n",
        "confusion_matrix(rfc_model, X_train_encoded_k, X_test_encoded_k, y_train, y_test)\n",
        "\n",
        "# Classification Report Using Random Forest Classifier\n",
        "class_report(rfc_model, X_train_encoded_k, X_test_encoded_k, y_train, y_test)"
      ]
    },
    {
      "cell_type": "markdown",
      "metadata": {
        "id": "Ohwr2o6xNgAx"
      },
      "source": [
        "### **XGBoost Classifier**"
      ]
    },
    {
      "cell_type": "markdown",
      "metadata": {
        "id": "9cn6cqF2RPJn"
      },
      "source": [
        "**Using ALL FEATURES**"
      ]
    },
    {
      "cell_type": "code",
      "execution_count": 84,
      "metadata": {
        "colab": {
          "base_uri": "https://localhost:8080/",
          "height": 686
        },
        "id": "RnKZXS1gRfBI",
        "outputId": "784a7b28-bf78-4fc8-9082-9d20f152b16f"
      },
      "outputs": [
        {
          "output_type": "stream",
          "name": "stdout",
          "text": [
            "              precision    recall  f1-score   support\n",
            "\n",
            "           0       1.00      1.00      1.00      2961\n",
            "           1       0.69      0.79      0.74        39\n",
            "\n",
            "    accuracy                           0.99      3000\n",
            "   macro avg       0.84      0.90      0.87      3000\n",
            "weighted avg       0.99      0.99      0.99      3000\n",
            "\n"
          ]
        },
        {
          "output_type": "display_data",
          "data": {
            "text/plain": [
              "<Figure size 648x648 with 2 Axes>"
            ],
            "image/png": "[encoded data removed]"
          },
          "metadata": {
            "needs_background": "light"
          }
        }
      ],
      "source": [
        "# Optimizing best hyperparameters of xgBoost Classifier\n",
        "xgb_model = xgb.XGBClassifier(objective='binary:logistic', scale_pos_weight=99)\n",
        "best_params = best_hyperparameters(xgb_model, xgb_model_space, X_train_encoded_all)\n",
        "\n",
        "# Confusion Matrix of Accuracy of xgBoost Classifier\n",
        "xgb_model = xgb.XGBClassifier(objective = 'binary:logistic', scale_pos_weight=99,\n",
        "                              learning_rate=best_params['learning_rate'], n_estimators=best_params['n_estimators'])\n",
        "confusion_matrix(xgb_model, X_train_encoded_all, X_test_encoded_all, y_train, y_test)\n",
        "\n",
        "# Classification Report Using xgBoost Classifier\n",
        "class_report(xgb_model, X_train_encoded_all, X_test_encoded_all, y_train, y_test)"
      ]
    },
    {
      "cell_type": "markdown",
      "metadata": {
        "id": "K-r0LXYZRhwU"
      },
      "source": [
        "**Using TOP K Features based on Information Gain on Target Variable (Default_ind)**"
      ]
    },
    {
      "cell_type": "code",
      "execution_count": 85,
      "metadata": {
        "colab": {
          "base_uri": "https://localhost:8080/",
          "height": 686
        },
        "id": "J6rGMoIYRiwq",
        "outputId": "142c9a49-204d-45b5-ccdf-7a375dd2d49b"
      },
      "outputs": [
        {
          "output_type": "stream",
          "name": "stdout",
          "text": [
            "              precision    recall  f1-score   support\n",
            "\n",
            "           0       1.00      1.00      1.00      2961\n",
            "           1       0.76      0.79      0.77        39\n",
            "\n",
            "    accuracy                           0.99      3000\n",
            "   macro avg       0.88      0.90      0.89      3000\n",
            "weighted avg       0.99      0.99      0.99      3000\n",
            "\n"
          ]
        },
        {
          "output_type": "display_data",
          "data": {
            "text/plain": [
              "<Figure size 648x648 with 2 Axes>"
            ],
            "image/png": "[encoded data removed]"
          },
          "metadata": {
            "needs_background": "light"
          }
        }
      ],
      "source": [
        "# Optimizing best hyperparameters of xgBoost Classifier\n",
        "xgb_model = xgb.XGBClassifier(objective='binary:logistic', scale_pos_weight=99)\n",
        "best_params = best_hyperparameters(xgb_model, xgb_model_space, X_train_encoded_k)\n",
        "\n",
        "# Confusion Matrix of Accuracy of xgBoost Classifier\n",
        "xgb_model = xgb.XGBClassifier(objective = 'binary:logistic', scale_pos_weight=99,\n",
        "                              learning_rate=best_params['learning_rate'], n_estimators=best_params['n_estimators'])\n",
        "confusion_matrix(xgb_model, X_train_encoded_k, X_test_encoded_k, y_train, y_test)\n",
        "\n",
        "# Classification Report Using xgBoost Classifier\n",
        "class_report(xgb_model, X_train_encoded_k, X_test_encoded_k, y_train, y_test)"
      ]
    }
  ],
  "metadata": {
    "colab": {
      "collapsed_sections": [],
      "name": "Default Classification.ipynb",
      "provenance": []
    },
    "kernelspec": {
      "display_name": "Python 3",
      "language": "python",
      "name": "python3"
    },
    "language_info": {
      "codemirror_mode": {
        "name": "ipython",
        "version": 3
      },
      "file_extension": ".py",
      "mimetype": "text/x-python",
      "name": "python",
      "nbconvert_exporter": "python",
      "pygments_lexer": "ipython3",
      "version": "3.7.6"
    }
  },
  "nbformat": 4,
  "nbformat_minor": 0
}